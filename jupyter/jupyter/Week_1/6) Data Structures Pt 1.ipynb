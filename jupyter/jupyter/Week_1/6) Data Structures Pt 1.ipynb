{
 "cells": [
  {
   "cell_type": "markdown",
   "metadata": {},
   "source": [
    "# What you will lean\n",
    "- Data Structures\n",
    "- Lists\n",
    "- Dictionaries\n",
    "- List of dictionaries\n",
    "- Nested dictionaries\n",
    "- Operations on dictionaries\n",
    "- Operations on lists\n",
    "\n",
    "## Data Structures\n",
    "\n",
    "So far we have used Python's primative varables: strings, integers, floats, and bools.\n",
    "\n",
    "We will now use these primative data types to create more vurbose varables.\n",
    "\n",
    "### What is a Data Structure\n",
    "\n",
    "A data structure is a data organization, management, and storage format that enables efficient access and modification."
   ]
  },
  {
   "cell_type": "markdown",
   "metadata": {},
   "source": [
    "## Lists\n",
    "\n",
    "Lists are a collection of data that is orded and changable... It is very similar to your to-do list at home."
   ]
  },
  {
   "cell_type": "code",
   "execution_count": 14,
   "metadata": {},
   "outputs": [
    {
     "name": "stdout",
     "output_type": "stream",
     "text": [
      "['all purpose flower', 'eggs', 'powered sugar', 'cinnamon', 'vanilla']\n",
      "['James', 'Annie', 'Nate', 'Sara']\n",
      "[88.4, 75, 91, 83]\n",
      "[True, 8, 'Test', 9.1, ['A', 'List', 'In', 'A', 'List']]\n",
      "[]\n"
     ]
    }
   ],
   "source": [
    "groceryListForPancakes = [\"all purpose flower\", \"eggs\", \"powered sugar\", \"cinnamon\", \"vanilla\"]\n",
    "\n",
    "partyList = [\"James\", \"Annie\", \"Nate\", \"Sara\"]\n",
    "\n",
    "examGrades = [88.4, 75, 91, 83]\n",
    "\n",
    "random = [True, 8, \"Test\", 9.1, [\"A\", \"List\", \"In\", \"A\", \"List\"]]\n",
    "\n",
    "emptyList = []\n",
    "\n",
    "print(groceryListForPancakes)\n",
    "print(partyList)\n",
    "print(examGrades)\n",
    "print(random)\n",
    "print(emptyList)"
   ]
  },
  {
   "cell_type": "markdown",
   "metadata": {},
   "source": [
    "### Note:\n",
    "- Commas are used inbetween elements in the list\n",
    "- Lists can contain multible data types as can be seen with 'examGrades' (ints and floats) and 'random' (bools, strings, ints, floats, and even another list!)\n",
    "- Lists can contain repeating entries (see below)"
   ]
  },
  {
   "cell_type": "code",
   "execution_count": 15,
   "metadata": {},
   "outputs": [
    {
     "name": "stdout",
     "output_type": "stream",
     "text": [
      "[1, 1, 1, 1, 1, 1, 1, 1, 1, 2, 2, 2, 2, 2, 2, 2, 2, 2]\n"
     ]
    }
   ],
   "source": [
    "testList = [1,1,1,1,1,1,1,1,1,2,2,2,2,2,2,2,2,2]\n",
    "print(testList)"
   ]
  },
  {
   "cell_type": "markdown",
   "metadata": {},
   "source": [
    "## Dictionary\n",
    "\n",
    "When you open a dictionary you look for a word and next to that word there is a defintion.\n",
    "\n",
    "Python dictionaries work similar. In that you look for a 'key' that has a 'value'. "
   ]
  },
  {
   "cell_type": "code",
   "execution_count": 16,
   "metadata": {},
   "outputs": [
    {
     "name": "stdout",
     "output_type": "stream",
     "text": [
      "{'Dog': 'Bark', 'Cat': 'Meow', 'Dolphine': 'Click'}\n",
      "{'Brendan': 33.2, 'Max': 12, 'Sabrina': -1.1}\n",
      "{1: 88.5, 2: 79, 3: 81}\n",
      "{'Sammy': ['Differential Equations', 'Into to Python', 'Control Systems']}\n"
     ]
    }
   ],
   "source": [
    "animalSounds = {\"Dog\": \"Bark\", \"Cat\": \"Meow\", \"Dolphine\": \"Click\"}\n",
    "\n",
    "whoOwesMeMoney = {\n",
    "    \"Brendan\": 33.20,\n",
    "    \"Max\": 12,\n",
    "    \"Sabrina\": -1.1\n",
    "}\n",
    "\n",
    "examAverages = {1: 88.5, 2:79, 3:81}\n",
    "\n",
    "studnetsClassList = {\"Sammy\": [\"Differential Equations\", \"Into to Python\", \"Control Systems\"]}\n",
    "\n",
    "print(animalSounds)\n",
    "print(whoOwesMeMoney)\n",
    "print(examAverages)\n",
    "print(studnetsClassList)"
   ]
  },
  {
   "cell_type": "markdown",
   "metadata": {},
   "source": [
    "### Notes\n",
    "- Commas are used inbetween key/value pairs\n",
    "- Keys can be of data types int, string, or float\n",
    "- Values can be anything. Here we show values of type int, float, string, and even list!"
   ]
  },
  {
   "cell_type": "markdown",
   "metadata": {},
   "source": [
    "## Nested Dictionaries\n",
    "\n",
    "One of the most powerful things about dictionaries is that a value can be another dictionary. This can allow us to structure lots of information in a standardized and oragnaized means.\n",
    "\n",
    "Let's show some examples ..."
   ]
  },
  {
   "cell_type": "code",
   "execution_count": 20,
   "metadata": {},
   "outputs": [],
   "source": [
    "students = {\n",
    "    \"Viraj\": {\n",
    "        \"Major\": \"Eletrical Engineering\",\n",
    "        \"Expected Grauation\": 2022,\n",
    "        \"Year\": \"Junior\",\n",
    "        \"currentSemesterTutionPaid\": False,\n",
    "        \"encrolledClasses\": [\"Digial Filter Design\", \"Satilite Communication\"],\n",
    "        \"GPA\": 3.150\n",
    "    },\n",
    "    \"Amy\": {\n",
    "        \"Major\": \"Computer Science\",\n",
    "        \"Expected Grauation\": 2021,\n",
    "        \"Year\": \"Senior\",\n",
    "        \"currentSemesterTutionPaid\": True,\n",
    "        \"encrolledClasses\": [\"Operatting Systems\", \"Internet Security\", \"Machine Learning\"],\n",
    "        \"GPA\": 3.650\n",
    "    }\n",
    "}"
   ]
  },
  {
   "cell_type": "code",
   "execution_count": 18,
   "metadata": {},
   "outputs": [],
   "source": [
    "computers = {\n",
    "    \"Lab Machines\": {\n",
    "        \"lastChecked\": \"3-5-20\",  # This is NOT how you write time in python. We will cover that in detail later.\n",
    "        \"issues\": None,  # None represents a lack of a value\n",
    "        \"specialInfo\":\n",
    "        {\n",
    "            \"OS\": \"Windows 10 Professional\",\n",
    "            \"CPU\": \"2-core Xeon\",\n",
    "            \"Memory(GB)\": 8,\n",
    "            \"Storage(GB)\": 1000\n",
    "        }\n",
    "    },\n",
    "    \"Printers\": {\n",
    "        \"lastChecked\": \"3-4-20\",\n",
    "        \"issues\": [\"Colored printer jams\", \"Scanner creats lines on scanned image\"],\n",
    "        \"specialInfo\": \n",
    "        {\n",
    "            \"Firmware Version\": 178.289,\n",
    "            \"Make\": \"HP\",\n",
    "            \"Model\": \"Laser-Jet\"\n",
    "        }\n",
    "    }\n",
    "}"
   ]
  },
  {
   "cell_type": "code",
   "execution_count": 21,
   "metadata": {},
   "outputs": [],
   "source": [
    "sensors = {\n",
    "    1: {\n",
    "        \"status\": None,  # We can use the lack of information as an indecator about what is happening\n",
    "        \"timeOfLastCheckIn\": None,  # For example here 'None' might been there is a connection problem to this sensor \n",
    "        \"Firmware\": 1.882,\n",
    "        \"serialNumber\": 7523\n",
    "    },\n",
    "    2: {\n",
    "        \"status\": \"Operational\", \n",
    "        \"timeOfLastCheckIn\": \"1 min ago\", \n",
    "        \"Firmware\": 1.883,\n",
    "        \"serialNumber\": 8392\n",
    "    },\n",
    "}"
   ]
  },
  {
   "cell_type": "markdown",
   "metadata": {},
   "source": [
    "## Lists of Dictionaries\n",
    "\n",
    "Okay so nested dics is great! In the above example with sensors nested dictionaries might not be 'the best' way to store information. How else could we do it?"
   ]
  },
  {
   "cell_type": "code",
   "execution_count": 22,
   "metadata": {},
   "outputs": [],
   "source": [
    "sensor1 = {\n",
    "        \"status\": None,  # We can use the lack of information as an indecator about what is happening\n",
    "        \"timeOfLastCheckIn\": None,  # For example here 'None' might been there is a connection problem to this sensor \n",
    "        \"Firmware\": 1.882,\n",
    "        \"serialNumber\": 7523\n",
    "    }\n",
    "    \n",
    "sensor2 = {\n",
    "        \"status\": \"Operational\", \n",
    "        \"timeOfLastCheckIn\": \"1 min ago\", \n",
    "        \"Firmware\": 1.883,\n",
    "        \"serialNumber\": 8392\n",
    "    }\n",
    "\n",
    "sensorList = [sensor1, sensor2]"
   ]
  },
  {
   "cell_type": "markdown",
   "metadata": {},
   "source": [
    "# See Data Structures Pt 2 and 3 to lean how to do operations on lists and dictionaries"
   ]
  }
 ],
 "metadata": {
  "kernelspec": {
   "display_name": "Python 3",
   "language": "python",
   "name": "python3"
  },
  "language_info": {
   "codemirror_mode": {
    "name": "ipython",
    "version": 3
   },
   "file_extension": ".py",
   "mimetype": "text/x-python",
   "name": "python",
   "nbconvert_exporter": "python",
   "pygments_lexer": "ipython3",
   "version": "3.7.6"
  }
 },
 "nbformat": 4,
 "nbformat_minor": 4
}
