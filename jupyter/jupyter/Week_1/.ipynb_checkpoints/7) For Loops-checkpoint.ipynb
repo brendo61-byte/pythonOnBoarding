{
 "cells": [
  {
   "cell_type": "markdown",
   "metadata": {},
   "source": [
    "# What you will lean\n",
    "- what is a for loop\n",
    "- how to iterate though lists using for loops"
   ]
  },
  {
   "cell_type": "markdown",
   "metadata": {},
   "source": [
    "## What is a for loop\n",
    "\n",
    "A for loop will iterate over a spesific section of code a number of times\n",
    "\n",
    "It is best seen in action"
   ]
  },
  {
   "cell_type": "markdown",
   "metadata": {},
   "source": [
    "Let's use a for loop to count to the number 10"
   ]
  },
  {
   "cell_type": "code",
   "execution_count": 1,
   "metadata": {},
   "outputs": [
    {
     "name": "stdout",
     "output_type": "stream",
     "text": [
      "0\n",
      "1\n",
      "2\n",
      "3\n",
      "4\n",
      "5\n",
      "6\n",
      "7\n",
      "8\n",
      "9\n"
     ]
    }
   ],
   "source": [
    "for i in range(10):\n",
    "    print(i)"
   ]
  },
  {
   "cell_type": "markdown",
   "metadata": {},
   "source": [
    "#### Note\n",
    "- Unlike matlab Python (and almost every other programming language) starts counting at 0\n",
    "    - This is because comuters start addressing memory at address 0 (to start at 1 would waist space)\n",
    "- The last number in the range is exclusive"
   ]
  },
  {
   "cell_type": "code",
   "execution_count": 4,
   "metadata": {},
   "outputs": [
    {
     "name": "stdout",
     "output_type": "stream",
     "text": [
      "10\n",
      "11\n",
      "12\n",
      "13\n",
      "14\n",
      "15\n",
      "16\n",
      "17\n",
      "18\n",
      "19\n"
     ]
    }
   ],
   "source": [
    "for i in range(10, 20):\n",
    "    print(i)"
   ]
  },
  {
   "cell_type": "markdown",
   "metadata": {},
   "source": [
    "### Note\n",
    "- We can spesify the range we are wanting to loop for\n",
    "- In this case starting at 10 (inclusively) and ending at 20 (exclusively)"
   ]
  },
  {
   "cell_type": "markdown",
   "metadata": {},
   "source": [
    "Using range we can also incrase by counts other then 1"
   ]
  },
  {
   "cell_type": "code",
   "execution_count": 53,
   "metadata": {},
   "outputs": [
    {
     "name": "stdout",
     "output_type": "stream",
     "text": [
      "0\n",
      "10\n",
      "20\n",
      "30\n",
      "40\n"
     ]
    }
   ],
   "source": [
    "for i in range(0, 50, 10):\n",
    "    print(i)"
   ]
  },
  {
   "cell_type": "markdown",
   "metadata": {},
   "source": [
    "### Looping though a list\n",
    "\n",
    "One of the most common things we need to do is loop though a list. Right off the bat there is a good way to do this, and a bad way."
   ]
  },
  {
   "cell_type": "markdown",
   "metadata": {},
   "source": [
    "- This is probably what you do in Matlab"
   ]
  },
  {
   "cell_type": "code",
   "execution_count": 5,
   "metadata": {},
   "outputs": [
    {
     "name": "stdout",
     "output_type": "stream",
     "text": [
      "Apples\n",
      "Bananas\n",
      "Oranges\n",
      "Pineapples\n"
     ]
    }
   ],
   "source": [
    "fruits = [\"Apples\", \"Bananas\", \"Oranges\", \"Pineapples\"]\n",
    "\n",
    "for i in range(len(fruits)):\n",
    "    print(fruits[i])"
   ]
  },
  {
   "cell_type": "markdown",
   "metadata": {},
   "source": [
    "While it works this is bad form in Python. Why? Becuase the Python language is not being used to its fullest extent"
   ]
  },
  {
   "cell_type": "code",
   "execution_count": 26,
   "metadata": {},
   "outputs": [
    {
     "name": "stdout",
     "output_type": "stream",
     "text": [
      "Apples\n",
      "Bananas\n",
      "Oranges\n",
      "Pineapples\n"
     ]
    }
   ],
   "source": [
    "fruits = [\"Apples\", \"Bananas\", \"Oranges\", \"Pineapples\"]\n",
    "\n",
    "for fruit in fruits:\n",
    "    print(fruit)"
   ]
  },
  {
   "cell_type": "markdown",
   "metadata": {},
   "source": [
    "### Note\n",
    "- This is easier to read\n",
    "    - NEVER underestimate the importane of readable code. Think of how bad it sucks to read though a terribly written essay. Now image reading though a terribly written essay written in a language built for computers doing complex logic\n"
   ]
  },
  {
   "cell_type": "markdown",
   "metadata": {},
   "source": [
    "## Common Things With Lists"
   ]
  },
  {
   "cell_type": "markdown",
   "metadata": {},
   "source": [
    "### Enumerate\n",
    "\n",
    "Sometimes we need an index number while still iterating over a list. We can use enumerate to do this"
   ]
  },
  {
   "cell_type": "code",
   "execution_count": 33,
   "metadata": {},
   "outputs": [
    {
     "name": "stdout",
     "output_type": "stream",
     "text": [
      "Apples is at the 0 index\n",
      "Bananas is at the 1 index\n",
      "Oranges is at the 2 index\n",
      "Pineapples is at the 3 index\n"
     ]
    }
   ],
   "source": [
    "fruits = [\"Apples\", \"Bananas\", \"Oranges\", \"Pineapples\"]\n",
    "\n",
    "for i, fruit in enumerate(fruits):\n",
    "    print(f\"{fruit} is at the {i} index\")"
   ]
  },
  {
   "cell_type": "markdown",
   "metadata": {},
   "source": [
    "### Note\n",
    "- we take in the varable i followed by a comma then the variable fruit\n",
    "- If we reversed these then it would print \"0 is at the Apples index\" and so forth"
   ]
  },
  {
   "cell_type": "markdown",
   "metadata": {},
   "source": [
    "### Zip\n",
    "\n",
    "What if we need to iterate over two lists at the same time? Well we could use enuerate and then get the index of the other list ... BUT there is a better way. Zip"
   ]
  },
  {
   "cell_type": "code",
   "execution_count": 34,
   "metadata": {},
   "outputs": [
    {
     "name": "stdout",
     "output_type": "stream",
     "text": [
      "Apples is a type of fruit\n",
      "Truck is a type of car\n",
      "\n",
      "Bananas is a type of fruit\n",
      "Jeep is a type of car\n",
      "\n",
      "Oranges is a type of fruit\n",
      "Sports Car is a type of car\n",
      "\n",
      "Pineapples is a type of fruit\n",
      "SUV is a type of car\n",
      "\n"
     ]
    }
   ],
   "source": [
    "fruits = [\"Apples\", \"Bananas\", \"Oranges\", \"Pineapples\"]\n",
    "cars = [\"Truck\", \"Jeep\", \"Sports Car\", \"SUV\", \"Sudan\", \"Hatch-Back\", \"Cross-Over\"]\n",
    "\n",
    "for fruit, car in zip(fruits, cars):\n",
    "    print(f\"{fruit} is a type of fruit\")\n",
    "    print(f\"{car} is a type of car\\n\")"
   ]
  },
  {
   "cell_type": "markdown",
   "metadata": {},
   "source": [
    "### Note\n",
    "- There are more items in the list 'cars' then in the list 'fruits'\n",
    "- zip will stop iterating when all items have been iterated though in the smallest list\n",
    "- Zip can unzip any number of list\n",
    "- Notice that fruit, car is in the same order as fruits, cars"
   ]
  },
  {
   "cell_type": "markdown",
   "metadata": {},
   "source": [
    "## Looping though a dictionary\n",
    "\n",
    "There are a few diffrent ways we can loop though a dictionary. We'll go though all of them"
   ]
  },
  {
   "cell_type": "markdown",
   "metadata": {},
   "source": [
    "### .keys()\n",
    "\n",
    "We can create a list of all the keys in a dictionary."
   ]
  },
  {
   "cell_type": "code",
   "execution_count": 36,
   "metadata": {},
   "outputs": [
    {
     "name": "stdout",
     "output_type": "stream",
     "text": [
      "Harry Potter\n",
      "The Kingkiller Chronicles\n",
      "Game of Thrones\n",
      "The Lord of the Rings\n"
     ]
    }
   ],
   "source": [
    "books = {\n",
    "    'Harry Potter': 'JK Rolling', \n",
    "    'The Kingkiller Chronicles': 'Patrick Rothfuss', \n",
    "    'Game of Thrones': 'George R.R. Martin', \n",
    "    'The Lord of the Rings': 'J. R. R. Tolkien'}\n",
    "\n",
    "for key in books.keys():\n",
    "    print(key)"
   ]
  },
  {
   "cell_type": "markdown",
   "metadata": {},
   "source": [
    "### Some backaround theory\n",
    "\n",
    "books.keys() is not actally a list. It is a 'dict_keys' list"
   ]
  },
  {
   "cell_type": "code",
   "execution_count": 42,
   "metadata": {},
   "outputs": [
    {
     "name": "stdout",
     "output_type": "stream",
     "text": [
      "<class 'dict_keys'>\n",
      "dict_keys(['Harry Potter', 'The Kingkiller Chronicles', 'Game of Thrones', 'The Lord of the Rings'])\n"
     ]
    }
   ],
   "source": [
    "books = {\n",
    "    'Harry Potter': 'JK Rolling', \n",
    "    'The Kingkiller Chronicles': 'Patrick Rothfuss', \n",
    "    'Game of Thrones': 'George R.R. Martin', \n",
    "    'The Lord of the Rings': 'J. R. R. Tolkien'}\n",
    "\n",
    "bookKeys = books.keys()\n",
    "\n",
    "print(type(bookKeys))\n",
    "print(bookKeys)"
   ]
  },
  {
   "cell_type": "markdown",
   "metadata": {},
   "source": [
    "So how can we iterate over bookKeys? Underneath the hood of varables we can see some information about then using dir()"
   ]
  },
  {
   "cell_type": "code",
   "execution_count": 39,
   "metadata": {},
   "outputs": [
    {
     "name": "stdout",
     "output_type": "stream",
     "text": [
      "['__and__', '__class__', '__contains__', '__delattr__', '__dir__', '__doc__', '__eq__', '__format__', '__ge__', '__getattribute__', '__gt__', '__hash__', '__init__', '__init_subclass__', '__iter__', '__le__', '__len__', '__lt__', '__ne__', '__new__', '__or__', '__rand__', '__reduce__', '__reduce_ex__', '__repr__', '__ror__', '__rsub__', '__rxor__', '__setattr__', '__sizeof__', '__str__', '__sub__', '__subclasshook__', '__xor__', 'isdisjoint']\n"
     ]
    }
   ],
   "source": [
    "books = {\n",
    "    'Harry Potter': 'JK Rolling', \n",
    "    'The Kingkiller Chronicles': 'Patrick Rothfuss', \n",
    "    'Game of Thrones': 'George R.R. Martin', \n",
    "    'The Lord of the Rings': 'J. R. R. Tolkien'}\n",
    "\n",
    "bookKeys = books.keys()\n",
    "\n",
    "print(dir(bookKeys))"
   ]
  },
  {
   "cell_type": "markdown",
   "metadata": {},
   "source": [
    "There is a lot of mumbo-jumbo in here you don't need to worry about. BUT notice that there is something called \"_iter_\",\n",
    "\n",
    "_iter_ tells python how to move to the next \"thing\". _iter_ has a function called __next__() that tells Python how to move to the next \"thing\"\n",
    "\n",
    "This is how the for loop knows how to move though the loop\n",
    "\n",
    "You cannot loop though an iterable object backwards becuase there is no __back__(), only a __next__() call"
   ]
  },
  {
   "cell_type": "code",
   "execution_count": 41,
   "metadata": {},
   "outputs": [
    {
     "name": "stdout",
     "output_type": "stream",
     "text": [
      "4\n",
      "7\n",
      "0\n",
      "3\n"
     ]
    },
    {
     "ename": "StopIteration",
     "evalue": "",
     "output_type": "error",
     "traceback": [
      "\u001b[0;31m---------------------------------------------------------------------------\u001b[0m",
      "\u001b[0;31mStopIteration\u001b[0m                             Traceback (most recent call last)",
      "\u001b[0;32m<ipython-input-41-4be46047737c>\u001b[0m in \u001b[0;36m<module>\u001b[0;34m\u001b[0m\n\u001b[1;32m     22\u001b[0m \u001b[0;34m\u001b[0m\u001b[0m\n\u001b[1;32m     23\u001b[0m \u001b[0;31m## This will raise error, no items left\u001b[0m\u001b[0;34m\u001b[0m\u001b[0;34m\u001b[0m\u001b[0;34m\u001b[0m\u001b[0m\n\u001b[0;32m---> 24\u001b[0;31m \u001b[0mnext\u001b[0m\u001b[0;34m(\u001b[0m\u001b[0mmy_iter\u001b[0m\u001b[0;34m)\u001b[0m\u001b[0;34m\u001b[0m\u001b[0;34m\u001b[0m\u001b[0m\n\u001b[0m",
      "\u001b[0;31mStopIteration\u001b[0m: "
     ]
    }
   ],
   "source": [
    "# define a list\n",
    "my_list = [4, 7, 0, 3]\n",
    "\n",
    "# get an iterator using iter()\n",
    "my_iter = iter(my_list)\n",
    "\n",
    "## iterate through it using next() \n",
    "\n",
    "#prints 4\n",
    "print(my_iter.__next__())\n",
    "\n",
    "#prints 7\n",
    "print(my_iter.__next__())\n",
    "\n",
    "## next(obj) is same as obj.__next__()\n",
    "\n",
    "#prints 0\n",
    "print(my_iter.__next__())\n",
    "\n",
    "#prints 3\n",
    "print(my_iter.__next__())\n",
    "\n",
    "## This will raise error, no items left\n",
    "next(my_iter)"
   ]
  },
  {
   "cell_type": "markdown",
   "metadata": {},
   "source": [
    "### Note\n",
    "- can can dir() any varable in python\n",
    "- This can give you some insights on useage\n",
    "\n",
    "Here is an example on a list"
   ]
  },
  {
   "cell_type": "code",
   "execution_count": 43,
   "metadata": {},
   "outputs": [
    {
     "name": "stdout",
     "output_type": "stream",
     "text": [
      "['__add__', '__class__', '__contains__', '__delattr__', '__delitem__', '__dir__', '__doc__', '__eq__', '__format__', '__ge__', '__getattribute__', '__getitem__', '__gt__', '__hash__', '__iadd__', '__imul__', '__init__', '__init_subclass__', '__iter__', '__le__', '__len__', '__lt__', '__mul__', '__ne__', '__new__', '__reduce__', '__reduce_ex__', '__repr__', '__reversed__', '__rmul__', '__setattr__', '__setitem__', '__sizeof__', '__str__', '__subclasshook__', 'append', 'clear', 'copy', 'count', 'extend', 'index', 'insert', 'pop', 'remove', 'reverse', 'sort']\n"
     ]
    }
   ],
   "source": [
    "fruits = [\"Apples\", \"Bananas\", \"Oranges\", \"Pineapples\"]\n",
    "\n",
    "print(dir(fruits))"
   ]
  },
  {
   "cell_type": "markdown",
   "metadata": {},
   "source": [
    "### Note\n",
    "- Notice how \"append\", \"copy\", \"pop\", etc are listed here? ..."
   ]
  },
  {
   "cell_type": "markdown",
   "metadata": {},
   "source": [
    "#### Back to looping\n",
    "\n",
    "## Looping by values"
   ]
  },
  {
   "cell_type": "code",
   "execution_count": 44,
   "metadata": {},
   "outputs": [
    {
     "name": "stdout",
     "output_type": "stream",
     "text": [
      "JK Rolling\n",
      "Patrick Rothfuss\n",
      "George R.R. Martin\n",
      "J. R. R. Tolkien\n"
     ]
    }
   ],
   "source": [
    "books = {\n",
    "    'Harry Potter': 'JK Rolling', \n",
    "    'The Kingkiller Chronicles': 'Patrick Rothfuss', \n",
    "    'Game of Thrones': 'George R.R. Martin', \n",
    "    'The Lord of the Rings': 'J. R. R. Tolkien'}\n",
    "\n",
    "for val in books.values():\n",
    "    print(val)"
   ]
  },
  {
   "cell_type": "markdown",
   "metadata": {},
   "source": [
    "### Looping by item"
   ]
  },
  {
   "cell_type": "code",
   "execution_count": 46,
   "metadata": {},
   "outputs": [
    {
     "name": "stdout",
     "output_type": "stream",
     "text": [
      "Harry Potter by JK Rolling\n",
      "The Kingkiller Chronicles by Patrick Rothfuss\n",
      "Game of Thrones by George R.R. Martin\n",
      "The Lord of the Rings by J. R. R. Tolkien\n"
     ]
    }
   ],
   "source": [
    "books = {\n",
    "    'Harry Potter': 'JK Rolling', \n",
    "    'The Kingkiller Chronicles': 'Patrick Rothfuss', \n",
    "    'Game of Thrones': 'George R.R. Martin', \n",
    "    'The Lord of the Rings': 'J. R. R. Tolkien'}\n",
    "\n",
    "for key, val in books.items():\n",
    "    print(f\"{key} by {val}\")"
   ]
  },
  {
   "cell_type": "markdown",
   "metadata": {},
   "source": [
    "## Breaking out of a loop\n",
    "\n",
    "If you are iterating though somehthing and what to stop before all items have been iteraged over you can use break"
   ]
  },
  {
   "cell_type": "code",
   "execution_count": 52,
   "metadata": {},
   "outputs": [
    {
     "name": "stdout",
     "output_type": "stream",
     "text": [
      "1\n",
      "2\n",
      "3\n",
      "4\n"
     ]
    }
   ],
   "source": [
    "numbers = [1,2,3,4,5,6,7,8,9,10]\n",
    "\n",
    "# will get to 5 and then break from the loop\n",
    "# so this will print 1,2,3, and 4\n",
    "for num in numbers:\n",
    "    if num == 5:\n",
    "        break\n",
    "    \n",
    "    print(num)"
   ]
  },
  {
   "cell_type": "markdown",
   "metadata": {},
   "source": [
    "# What you need to do\n",
    "\n",
    "Data samples for the temperature are collected one a day for 100 days. Each sample is tagged with a timestamp and\n",
    "a temperature value. These data samples are stored in the below variable \"data\".\n",
    "\n",
    "- Somewhere between days 24 - 67 (inclusively) there was an error reading the temperature. The sensor reported a value\n",
    "far too hot to be possible. Find this value and remove it from the list.\n",
    "- We need to know how many days the temperature was over 40. Print this to the screen (omitting the bad data point).\n",
    "- What is the the average temperature over the 99 days (omitting the bad)."
   ]
  },
  {
   "cell_type": "markdown",
   "metadata": {},
   "source": [
    "##### Time stamps\n",
    "- The timestamps are in time sence epoch form\n",
    "- This is the number of seconds that have passed from midnight on Jan 1, 1970\n",
    "- Below is a quick example of how these time stamps were generated\n",
    "    - We will talk more on imports later\n",
    "    - We will talk more on dealing with time later"
   ]
  },
  {
   "cell_type": "code",
   "execution_count": 50,
   "metadata": {},
   "outputs": [
    {
     "name": "stdout",
     "output_type": "stream",
     "text": [
      "1584913519.724055 seconds ago was New Years 1970\n"
     ]
    }
   ],
   "source": [
    "import time\n",
    "\n",
    "print(f\"{time.time()} seconds ago was New Years 1970\")"
   ]
  },
  {
   "cell_type": "code",
   "execution_count": 47,
   "metadata": {},
   "outputs": [],
   "source": [
    "data = [{'Time Stamp': 1570648123.120855, 'Temp': 20}, {'Time Stamp': 1570734523.120863, 'Temp': 47},\n",
    "        {'Time Stamp': 1570820923.120866, 'Temp': 43}, {'Time Stamp': 1570907323.1208682, 'Temp': 39},\n",
    "        {'Time Stamp': 1570993723.1208708, 'Temp': 45}, {'Time Stamp': 1571080123.120873, 'Temp': 11},\n",
    "        {'Time Stamp': 1571166523.1208751, 'Temp': 17}, {'Time Stamp': 1571252923.120877, 'Temp': 2},\n",
    "        {'Time Stamp': 1571339323.1208792, 'Temp': 49}, {'Time Stamp': 1571425723.1208808, 'Temp': 16},\n",
    "        {'Time Stamp': 1571512123.120883, 'Temp': 27}, {'Time Stamp': 1571598523.120885, 'Temp': 43},\n",
    "        {'Time Stamp': 1571684923.120887, 'Temp': 44}, {'Time Stamp': 1571771323.1208892, 'Temp': 9},\n",
    "        {'Time Stamp': 1571857723.1208909, 'Temp': 1}, {'Time Stamp': 1571944123.120893, 'Temp': 38},\n",
    "        {'Time Stamp': 1572030523.120895, 'Temp': 57}, {'Time Stamp': 1572116923.120897, 'Temp': 5},\n",
    "        {'Time Stamp': 1572203323.120899, 'Temp': 22}, {'Time Stamp': 1572289723.120901, 'Temp': 9},\n",
    "        {'Time Stamp': 1572376123.120903, 'Temp': 9}, {'Time Stamp': 1572462523.120905, 'Temp': 11},\n",
    "        {'Time Stamp': 1572548923.120907, 'Temp': 9}, {'Time Stamp': 1572635323.120909, 'Temp': 50},\n",
    "        {'Time Stamp': 1572721723.1209111, 'Temp': 35}, {'Time Stamp': 1572808123.1209128, 'Temp': 49},\n",
    "        {'Time Stamp': 1572894523.120917, 'Temp': 27}, {'Time Stamp': 1572980923.120919, 'Temp': 58},\n",
    "        {'Time Stamp': 1573067323.1209211, 'Temp': 9}, {'Time Stamp': 1573153723.120925, 'Temp': 35},\n",
    "        {'Time Stamp': 1573240123.1209269, 'Temp': 7}, {'Time Stamp': 1573326523.120928, 'Temp': 43},\n",
    "        {'Time Stamp': 1573412923.12093, 'Temp': 37}, {'Time Stamp': 1573499323.120932, 'Temp': 33},\n",
    "        {'Time Stamp': 1573585723.1209338, 'Temp': 47}, {'Time Stamp': 1573672123.120936, 'Temp': 11},\n",
    "        {'Time Stamp': 1573758523.120938, 'Temp': 39}, {'Time Stamp': 1573844923.12094, 'Temp': 17},\n",
    "        {'Time Stamp': 1573931323.120942, 'Temp': 333}, {'Time Stamp': 1574017723.120944, 'Temp': 37},\n",
    "        {'Time Stamp': 1574104123.120946, 'Temp': 39}, {'Time Stamp': 1574190523.120948, 'Temp': 48},\n",
    "        {'Time Stamp': 1574276923.12095, 'Temp': 58}, {'Time Stamp': 1574363323.1209521, 'Temp': 0},\n",
    "        {'Time Stamp': 1574449723.120954, 'Temp': 29}, {'Time Stamp': 1574536123.120956, 'Temp': 26},\n",
    "        {'Time Stamp': 1574622523.1209579, 'Temp': 8}, {'Time Stamp': 1574708923.12096, 'Temp': 16},\n",
    "        {'Time Stamp': 1574795323.1209621, 'Temp': 8}, {'Time Stamp': 1574881723.120965, 'Temp': 49},\n",
    "        {'Time Stamp': 1574968123.1209679, 'Temp': 17}, {'Time Stamp': 1575054523.12097, 'Temp': 22},\n",
    "        {'Time Stamp': 1575140923.120973, 'Temp': 0}, {'Time Stamp': 1575227323.120975, 'Temp': 29},\n",
    "        {'Time Stamp': 1575313723.120977, 'Temp': 14}, {'Time Stamp': 1575400123.1209788, 'Temp': 17},\n",
    "        {'Time Stamp': 1575486523.120981, 'Temp': 45}, {'Time Stamp': 1575572923.1209831, 'Temp': 55},\n",
    "        {'Time Stamp': 1575659323.120985, 'Temp': 3}, {'Time Stamp': 1575745723.120987, 'Temp': 26},\n",
    "        {'Time Stamp': 1575832123.1209888, 'Temp': 25}, {'Time Stamp': 1575918523.120991, 'Temp': 3},\n",
    "        {'Time Stamp': 1576004923.1209931, 'Temp': 44}, {'Time Stamp': 1576091323.120995, 'Temp': 10},\n",
    "        {'Time Stamp': 1576177723.1209972, 'Temp': 49}, {'Time Stamp': 1576264123.120998, 'Temp': 46},\n",
    "        {'Time Stamp': 1576350523.121, 'Temp': 3}, {'Time Stamp': 1576436923.121002, 'Temp': 19},\n",
    "        {'Time Stamp': 1576523323.121004, 'Temp': 26}, {'Time Stamp': 1576609723.121006, 'Temp': 6},\n",
    "        {'Time Stamp': 1576696123.1210082, 'Temp': 23}, {'Time Stamp': 1576782523.1210098, 'Temp': 8},\n",
    "        {'Time Stamp': 1576868923.121012, 'Temp': 20}, {'Time Stamp': 1576955323.121015, 'Temp': 10},\n",
    "        {'Time Stamp': 1577041723.121017, 'Temp': 36}, {'Time Stamp': 1577128123.121021, 'Temp': 58},\n",
    "        {'Time Stamp': 1577214523.121023, 'Temp': 15}, {'Time Stamp': 1577300923.121025, 'Temp': 59},\n",
    "        {'Time Stamp': 1577387323.121026, 'Temp': 8}, {'Time Stamp': 1577473723.1210282, 'Temp': 13},\n",
    "        {'Time Stamp': 1577560123.1210299, 'Temp': 11}, {'Time Stamp': 1577646523.121032, 'Temp': 14},\n",
    "        {'Time Stamp': 1577732923.121034, 'Temp': 14}, {'Time Stamp': 1577819323.121036, 'Temp': 34},\n",
    "        {'Time Stamp': 1577905723.1210382, 'Temp': 35}, {'Time Stamp': 1577992123.1210399, 'Temp': 34},\n",
    "        {'Time Stamp': 1578078523.121042, 'Temp': 30}, {'Time Stamp': 1578164923.121044, 'Temp': 23},\n",
    "        {'Time Stamp': 1578251323.121046, 'Temp': 5}, {'Time Stamp': 1578337723.121048, 'Temp': 13},\n",
    "        {'Time Stamp': 1578424123.1210501, 'Temp': 49}, {'Time Stamp': 1578510523.1210518, 'Temp': 36},\n",
    "        {'Time Stamp': 1578596923.121054, 'Temp': 38}, {'Time Stamp': 1578683323.121056, 'Temp': 17},\n",
    "        {'Time Stamp': 1578769723.121058, 'Temp': 37}, {'Time Stamp': 1578856123.1210601, 'Temp': 23},\n",
    "        {'Time Stamp': 1578942523.1210618, 'Temp': 54}, {'Time Stamp': 1579028923.121063, 'Temp': 13},\n",
    "        {'Time Stamp': 1579115323.121068, 'Temp': 36}, {'Time Stamp': 1579201723.121071, 'Temp': 17}]"
   ]
  },
  {
   "cell_type": "code",
   "execution_count": null,
   "metadata": {},
   "outputs": [],
   "source": []
  }
 ],
 "metadata": {
  "kernelspec": {
   "display_name": "Python 3",
   "language": "python",
   "name": "python3"
  },
  "language_info": {
   "codemirror_mode": {
    "name": "ipython",
    "version": 3
   },
   "file_extension": ".py",
   "mimetype": "text/x-python",
   "name": "python",
   "nbconvert_exporter": "python",
   "pygments_lexer": "ipython3",
   "version": "3.7.6"
  }
 },
 "nbformat": 4,
 "nbformat_minor": 4
}
