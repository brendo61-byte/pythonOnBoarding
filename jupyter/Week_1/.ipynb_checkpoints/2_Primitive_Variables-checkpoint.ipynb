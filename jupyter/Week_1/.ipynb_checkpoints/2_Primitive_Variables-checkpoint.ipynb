{
 "cells": [
  {
   "cell_type": "markdown",
   "metadata": {},
   "source": [
    "What you will learn:\n",
    "- What are primitive varables\n",
    "- Creation of variables\n",
    "- Overwriting variables\n",
    "- printing strings"
   ]
  },
  {
   "cell_type": "markdown",
   "metadata": {},
   "source": [
    "There are a number of basic varable types in python referred to as primative varables. They are:\n",
    "- Integers\n",
    "- Floats\n",
    "- Booleans\n",
    "- Strings\n",
    "\n",
    "Lets look at each in turn"
   ]
  },
  {
   "cell_type": "markdown",
   "metadata": {},
   "source": [
    "Integers:"
   ]
  },
  {
   "cell_type": "code",
   "execution_count": 7,
   "metadata": {},
   "outputs": [
    {
     "name": "stdout",
     "output_type": "stream",
     "text": [
      "3 76\n"
     ]
    }
   ],
   "source": [
    "x = 3\n",
    "y = -76\n",
    "\n",
    "print(x, y)"
   ]
  },
  {
   "cell_type": "markdown",
   "metadata": {},
   "source": [
    "Note that do not have decimal places.\n",
    "\n",
    "Now let's overwrite these varables"
   ]
  },
  {
   "cell_type": "code",
   "execution_count": 10,
   "metadata": {},
   "outputs": [
    {
     "name": "stdout",
     "output_type": "stream",
     "text": [
      "Old Varables:\n",
      "3 76\n",
      "\n",
      "Overwritten Varables:\n",
      "13 86\n"
     ]
    }
   ],
   "source": [
    "# using a hashtag creates a line comment. It tells python not to run this code.\n",
    "\n",
    "# old varables\n",
    "x = 3\n",
    "y = -76\n",
    "\n",
    "print(\"Old Varables:\")\n",
    "print(x, y)\n",
    "\n",
    "x = 13\n",
    "y = -86\n",
    "\n",
    "# new varables\n",
    "print(\"\\nOverwritten Varables:\") # \"\\n will jump to a new line\"\n",
    "print(x, y)"
   ]
  },
  {
   "cell_type": "markdown",
   "metadata": {},
   "source": [
    "Now here we see that x, y, z are defined and then overwritten."
   ]
  },
  {
   "cell_type": "markdown",
   "metadata": {},
   "source": [
    "Floats:"
   ]
  },
  {
   "cell_type": "code",
   "execution_count": 12,
   "metadata": {},
   "outputs": [
    {
     "name": "stdout",
     "output_type": "stream",
     "text": [
      "3.14159 -55.55 15.0\n"
     ]
    }
   ],
   "source": [
    "a = 3.14159\n",
    "b = -55.55\n",
    "c = 9.0\n",
    "\n",
    "print(a, b, c)"
   ]
  },
  {
   "cell_type": "markdown",
   "metadata": {},
   "source": [
    "Floats are rational numbers - meaning they contrain a deciaml of finite length."
   ]
  },
  {
   "cell_type": "markdown",
   "metadata": {},
   "source": [
    "Strings:"
   ]
  },
  {
   "cell_type": "code",
   "execution_count": null,
   "metadata": {},
   "outputs": [],
   "source": [
    "string1 = \"This is a string\"\n",
    "string2 = \"I am 22 years old\"\n",
    "\n",
    "print(string1)\n",
    "print(string2)"
   ]
  },
  {
   "cell_type": "markdown",
   "metadata": {},
   "source": [
    "Strings are everything that you could type into a word doc."
   ]
  },
  {
   "cell_type": "markdown",
   "metadata": {},
   "source": [
    "What you need to do:\n",
    "Pt 1\n",
    "- Understand why the variable x changes after the second print statement\n",
    "- Create a float variable called y\n",
    "- print y, change the value of y, then print the new value of why\n",
    "\n",
    "- Create an int called x\n",
    "- Print x"
   ]
  }
 ],
 "metadata": {
  "kernelspec": {
   "display_name": "Python 3",
   "language": "python",
   "name": "python3"
  },
  "language_info": {
   "codemirror_mode": {
    "name": "ipython",
    "version": 3
   },
   "file_extension": ".py",
   "mimetype": "text/x-python",
   "name": "python",
   "nbconvert_exporter": "python",
   "pygments_lexer": "ipython3",
   "version": "3.7.6"
  }
 },
 "nbformat": 4,
 "nbformat_minor": 4
}
