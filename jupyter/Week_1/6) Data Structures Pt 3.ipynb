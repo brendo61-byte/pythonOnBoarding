{
 "cells": [
  {
   "cell_type": "markdown",
   "metadata": {},
   "source": [
    "# What you will lean\n",
    "- Operations on dictionaries"
   ]
  },
  {
   "cell_type": "markdown",
   "metadata": {},
   "source": [
    "## Dictionary operations\n",
    "\n",
    "As with lists there are a number of \"things\" we can do with dictionaries. We'll learn:\n",
    "- update\n",
    "- get\n",
    "- del\n",
    "- keys()"
   ]
  },
  {
   "cell_type": "markdown",
   "metadata": {},
   "source": [
    "### Update\n",
    "\n",
    "There are two ways to add things to a dictionary"
   ]
  },
  {
   "cell_type": "code",
   "execution_count": 4,
   "metadata": {},
   "outputs": [
    {
     "name": "stdout",
     "output_type": "stream",
     "text": [
      "{'Harry Potter': 'JK Rolling'}\n",
      "{'Harry Potter': 'JK Rolling', 'The Kingkiller Chronicles': 'Patrick Rothfuss'}\n",
      "{'Harry Potter': 'JK Rolling', 'The Kingkiller Chronicles': 'Patrick Rothfuss', 'Game of Thrones': 'George R.R. Martin', 'The Lord of the Rings': 'J. R. R. Tolkien'}\n"
     ]
    }
   ],
   "source": [
    "bookAuthorPair = {\"Harry Potter\": \"JK Rolling\"}\n",
    "print(bookAuthorPair)\n",
    "\n",
    "bookAuthorPair[\"The Kingkiller Chronicles\"] = \"Patrick Rothfuss\" # define value of a key\n",
    "print(bookAuthorPair)\n",
    "\n",
    "other = {\"Game of Thrones\": \"George R.R. Martin\", \"The Lord of the Rings\": \"J. R. R. Tolkien\"}\n",
    "\n",
    "bookAuthorPair.update(other)  # using the update function\n",
    "# effetive for adding multible key/value pairs into dict or merging two dics\n",
    "\n",
    "print(bookAuthorPair)"
   ]
  },
  {
   "cell_type": "markdown",
   "metadata": {},
   "source": [
    "#### Note\n",
    "- There can only be ONE instance of a key. No duplicates"
   ]
  },
  {
   "cell_type": "code",
   "execution_count": 5,
   "metadata": {},
   "outputs": [
    {
     "name": "stdout",
     "output_type": "stream",
     "text": [
      "{'Best Movie Ever': 'Inception'}\n",
      "{'Best Movie Ever': 'Shrek'}\n"
     ]
    }
   ],
   "source": [
    "# say we have this dict\n",
    "\n",
    "x = {\"Best Movie Ever\": \"Inception\"}\n",
    "print(x)\n",
    "\n",
    "# we cannot have another key with the same name or we would overwrite the current value\n",
    "\n",
    "x[\"Best Movie Ever\"] = \"Shrek\"\n",
    "print(x)"
   ]
  },
  {
   "cell_type": "markdown",
   "metadata": {},
   "source": [
    "### Getting a value from a key"
   ]
  },
  {
   "cell_type": "code",
   "execution_count": 8,
   "metadata": {},
   "outputs": [
    {
     "name": "stdout",
     "output_type": "stream",
     "text": [
      "Harry Potter by JK Rolling\n"
     ]
    }
   ],
   "source": [
    "bookAuthorPair = {\n",
    "    'Harry Potter': 'JK Rolling', \n",
    "    'The Kingkiller Chronicles': 'Patrick Rothfuss', \n",
    "    'Game of Thrones': 'George R.R. Martin', \n",
    "    'The Lord of the Rings': 'J. R. R. Tolkien'}\n",
    "\n",
    "\n",
    "book = 'Harry Potter'\n",
    "author = bookAuthorPair.get(book)\n",
    "print(f\"{book} by {author}\")"
   ]
  },
  {
   "cell_type": "markdown",
   "metadata": {},
   "source": [
    "#### Note\n",
    "- If a key does not exist then None will be returned"
   ]
  },
  {
   "cell_type": "code",
   "execution_count": 9,
   "metadata": {},
   "outputs": [
    {
     "name": "stdout",
     "output_type": "stream",
     "text": [
      "Every Tool's a Hammer by None\n"
     ]
    }
   ],
   "source": [
    "bookAuthorPair = {\n",
    "    'Harry Potter': 'JK Rolling', \n",
    "    'The Kingkiller Chronicles': 'Patrick Rothfuss', \n",
    "    'Game of Thrones': 'George R.R. Martin', \n",
    "    'The Lord of the Rings': 'J. R. R. Tolkien'}\n",
    "\n",
    "\n",
    "book = \"Every Tool's a Hammer\"\n",
    "author = bookAuthorPair.get(book)\n",
    "print(f\"{book} by {author}\")"
   ]
  },
  {
   "cell_type": "markdown",
   "metadata": {},
   "source": [
    "#### Note\n",
    "- You can check the \"truth-y-ness\" of a dict too"
   ]
  },
  {
   "cell_type": "code",
   "execution_count": 35,
   "metadata": {},
   "outputs": [
    {
     "name": "stdout",
     "output_type": "stream",
     "text": [
      "dict1 has stuff in it: False\n",
      "dict2 has stuff in it: True\n"
     ]
    }
   ],
   "source": [
    "dict1 = {}\n",
    "dict2 = {1:2}\n",
    "\n",
    "test1 = bool(dict1)\n",
    "test2 = bool(dict2)\n",
    "\n",
    "print(f\"dict1 has stuff in it: {test1}\")\n",
    "print(f\"dict2 has stuff in it: {test2}\")"
   ]
  },
  {
   "cell_type": "markdown",
   "metadata": {},
   "source": [
    "### Del\n",
    "\n",
    "As with lists we can delete key/value paire from dics but specifying the key we wish to remove"
   ]
  },
  {
   "cell_type": "code",
   "execution_count": 16,
   "metadata": {},
   "outputs": [
    {
     "name": "stdout",
     "output_type": "stream",
     "text": [
      "{'The Kingkiller Chronicles': 'Patrick Rothfuss', 'Game of Thrones': 'George R.R. Martin', 'The Lord of the Rings': 'J. R. R. Tolkien'}\n"
     ]
    }
   ],
   "source": [
    "bookAuthorPair = {\n",
    "    'Harry Potter': 'JK Rolling', \n",
    "    'The Kingkiller Chronicles': 'Patrick Rothfuss', \n",
    "    'Game of Thrones': 'George R.R. Martin', \n",
    "    'The Lord of the Rings': 'J. R. R. Tolkien'}\n",
    "\n",
    "\n",
    "del bookAuthorPair['Harry Potter']\n",
    "print(bookAuthorPair)\n"
   ]
  },
  {
   "cell_type": "markdown",
   "metadata": {},
   "source": [
    "#### Note\n",
    "- As with lists, if we try to del something that isn't there an error will be thrown"
   ]
  },
  {
   "cell_type": "code",
   "execution_count": 17,
   "metadata": {},
   "outputs": [
    {
     "ename": "KeyError",
     "evalue": "\"Every Tool's a Hammer\"",
     "output_type": "error",
     "traceback": [
      "\u001b[0;31m---------------------------------------------------------------------------\u001b[0m",
      "\u001b[0;31mKeyError\u001b[0m                                  Traceback (most recent call last)",
      "\u001b[0;32m<ipython-input-17-c801d22f5e62>\u001b[0m in \u001b[0;36m<module>\u001b[0;34m\u001b[0m\n\u001b[1;32m      6\u001b[0m \u001b[0;34m\u001b[0m\u001b[0m\n\u001b[1;32m      7\u001b[0m \u001b[0;34m\u001b[0m\u001b[0m\n\u001b[0;32m----> 8\u001b[0;31m \u001b[0;32mdel\u001b[0m \u001b[0mbookAuthorPair\u001b[0m\u001b[0;34m[\u001b[0m\u001b[0;34m\"Every Tool's a Hammer\"\u001b[0m\u001b[0;34m]\u001b[0m\u001b[0;34m\u001b[0m\u001b[0;34m\u001b[0m\u001b[0m\n\u001b[0m\u001b[1;32m      9\u001b[0m \u001b[0mprint\u001b[0m\u001b[0;34m(\u001b[0m\u001b[0mbookAuthorPair\u001b[0m\u001b[0;34m)\u001b[0m\u001b[0;34m\u001b[0m\u001b[0;34m\u001b[0m\u001b[0m\n",
      "\u001b[0;31mKeyError\u001b[0m: \"Every Tool's a Hammer\""
     ]
    }
   ],
   "source": [
    "bookAuthorPair = {\n",
    "    'Harry Potter': 'JK Rolling', \n",
    "    'The Kingkiller Chronicles': 'Patrick Rothfuss', \n",
    "    'Game of Thrones': 'George R.R. Martin', \n",
    "    'The Lord of the Rings': 'J. R. R. Tolkien'}\n",
    "\n",
    "\n",
    "del bookAuthorPair[\"Every Tool's a Hammer\"]\n",
    "print(bookAuthorPair)"
   ]
  },
  {
   "cell_type": "markdown",
   "metadata": {},
   "source": [
    "### Keys()\n",
    "\n",
    "We can use the keys method to get all of the keys in dict\n",
    "\n",
    "#### What is a method?\n",
    "A function is a like f(x)=2x+3 and a method is similar. Data structures can have interal functions asscoated to them, like pop, get, or update. These interal functions are known as methods. They are spesific to a data sturcutre (more on this later). "
   ]
  },
  {
   "cell_type": "code",
   "execution_count": 34,
   "metadata": {},
   "outputs": [
    {
     "name": "stdout",
     "output_type": "stream",
     "text": [
      "dict_keys(['Harry Potter', 'The Kingkiller Chronicles', 'Game of Thrones', 'The Lord of the Rings'])\n"
     ]
    }
   ],
   "source": [
    "bookAuthorPair = {\n",
    "    'Harry Potter': 'JK Rolling', \n",
    "    'The Kingkiller Chronicles': 'Patrick Rothfuss', \n",
    "    'Game of Thrones': 'George R.R. Martin', \n",
    "    'The Lord of the Rings': 'J. R. R. Tolkien'}\n",
    "\n",
    "listOfBooks = bookAuthorPair.keys()\n",
    "\n",
    "print(listOfBooks)"
   ]
  },
  {
   "cell_type": "markdown",
   "metadata": {},
   "source": [
    "#### Note\n",
    "- This will be SUPER useful as we move to loops - our next section"
   ]
  },
  {
   "cell_type": "markdown",
   "metadata": {},
   "source": [
    "# What you need to do\n",
    "#### 1)  \n",
    "- copy the varable x from below and add a list of classes to Nolan (you can make up course numbers)\n",
    "\n",
    "#### 2)\n",
    " - Get Brendon's class grades\n",
    " - create an empty list\n",
    " - Determine the letter value of each grade (A>94, 94>A->90, 90>B+>87, etc)\n",
    " \n",
    " *hint: use indexes 0-2 to pull grades\n",
    " \n",
    " *hint: use if/elif to check what letter grade each grade percentage is\n",
    " \n",
    " - based on the letter grade use the gradeToGPA dict (see below) to get the coresponding GPA value\n",
    " \n",
    " *hint: use get\n",
    " \n",
    " - with this GPA value add it to the list\n",
    " - find the averae of the list and print the average GPA\n",
    " \n",
    " *hint: use sum() and length()\n",
    " \n",
    " *hint you should get an average GPA of 2.6679"
   ]
  },
  {
   "cell_type": "code",
   "execution_count": 38,
   "metadata": {},
   "outputs": [
    {
     "name": "stdout",
     "output_type": "stream",
     "text": [
      "2.6679999999999997\n"
     ]
    }
   ],
   "source": [
    "# Problem #1\n",
    "x = {\n",
    "    \"students\": {\n",
    "        \"Brendon\": {\n",
    "            \"Major\": \"Electrical Engineering\",\n",
    "            \"Year\": \"Senior\",\n",
    "            \"Classes\": [\"ECE 251\", \"ECE 451\", \"ECE 450\", \"ECE 455\", \"ECE 401\"],\n",
    "            \"Class Grades\": [88.7, 75.5, 81.5]\n",
    "        },\n",
    "        \"Nolan\": {\n",
    "            \"Major\": \"Mechanical Engineering\",\n",
    "            \"Year\": \"Graduated\",\n",
    "        }\n",
    "    }\n",
    "}\n",
    "\n",
    "gradeToGPA = {\n",
    "    \"A\": 4,\n",
    "    \"A-\": 3.667,\n",
    "    \"B+\": 3.337,\n",
    "    \"B\": 3,\n",
    "    \"B-\": 2.667,\n",
    "    \"C+\": 2.337,\n",
    "    \"C\": 2,\n",
    "    \"C-\": 1.667,\n",
    "    \"D+\": 1.337,\n",
    "    \"D\": 1,\n",
    "    \"F\": 0\n",
    "}\n"
   ]
  }
 ],
 "metadata": {
  "kernelspec": {
   "display_name": "Python 3",
   "language": "python",
   "name": "python3"
  },
  "language_info": {
   "codemirror_mode": {
    "name": "ipython",
    "version": 3
   },
   "file_extension": ".py",
   "mimetype": "text/x-python",
   "name": "python",
   "nbconvert_exporter": "python",
   "pygments_lexer": "ipython3",
   "version": "3.7.6"
  }
 },
 "nbformat": 4,
 "nbformat_minor": 4
}
