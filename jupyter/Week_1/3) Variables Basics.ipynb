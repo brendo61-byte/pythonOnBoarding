{
 "cells": [
  {
   "cell_type": "markdown",
   "metadata": {},
   "source": [
    "What you will learn:\n",
    "- How to add, subtract, multiply divide numbers\n",
    "- Float division and integer division\n",
    "- fstring\n",
    "- Modulus (finding the remainder)\n",
    "- Exponents\n",
    "- Exceptions (ZeroDivisionError, NameError, SyntaxError, TypeError)\n",
    "- Adding wrong types\n",
    "- Trackback and exception print out to terminal"
   ]
  },
  {
   "cell_type": "markdown",
   "metadata": {},
   "source": [
    "Okay now lets do more cool things with variables. Like making python do math for us!\n",
    "\n",
    "Below are simple examples of how we can add and subtract. Note here that we are adding and subtracting ints and floats in the same expression."
   ]
  },
  {
   "cell_type": "code",
   "execution_count": 5,
   "metadata": {},
   "outputs": [
    {
     "name": "stdout",
     "output_type": "stream",
     "text": [
      "4\n",
      "1.5\n"
     ]
    }
   ],
   "source": [
    "a = 3\n",
    "b = 1\n",
    "\n",
    "x = a + b\n",
    "print(x)\n",
    "\n",
    "a = 3\n",
    "b = 1.5\n",
    "\n",
    "y = a - b\n",
    "print(y)"
   ]
  },
  {
   "cell_type": "markdown",
   "metadata": {},
   "source": [
    "This is fairly striaght forward so let's discuss how we can print information in a more readable way using fstring"
   ]
  },
  {
   "cell_type": "code",
   "execution_count": 6,
   "metadata": {},
   "outputs": [
    {
     "name": "stdout",
     "output_type": "stream",
     "text": [
      "22\n",
      "Hello I am 22 years old\n",
      "Bob, did you just turn 22?\n"
     ]
    }
   ],
   "source": [
    "age = 22\n",
    "print(22)  # this is find but what happens when we have lots of varables being printed. Let's clean this up\n",
    "\n",
    "print(f\"Hello I am {age} years old\")\n",
    "\n",
    "name = \"Bob\"\n",
    "\n",
    "print(f\"{name}, did you just turn {age}?\")"
   ]
  },
  {
   "cell_type": "markdown",
   "metadata": {},
   "source": [
    "Division can be broken down into 3 types: integer, float, and modulus."
   ]
  },
  {
   "cell_type": "code",
   "execution_count": 7,
   "metadata": {},
   "outputs": [
    {
     "name": "stdout",
     "output_type": "stream",
     "text": [
      "Float: pi/2 = 1.570795\n",
      "Integer: pi/2 = 1.0\n",
      "Modulus: pi/2 = 1.1415899999999999\n"
     ]
    }
   ],
   "source": [
    "# Float\n",
    "pi = 3.14159\n",
    "x = 2\n",
    "\n",
    "a = pi / x\n",
    "\n",
    "print(f\"Float: pi/2 = {a}\")\n",
    "\n",
    "# Integer\n",
    "\n",
    "b = pi // x\n",
    "\n",
    "print(f\"Integer: pi/2 = {b}\")\n",
    "\n",
    "\n",
    "# Modulus\n",
    "\n",
    "c = pi % x\n",
    "\n",
    "print(f\"Modulus: pi/2 = {c}\")"
   ]
  },
  {
   "cell_type": "markdown",
   "metadata": {},
   "source": [
    "Looking at the abvoe output ...\n",
    "\n",
    "Float is the \"normal\" division you are used to and will return a rational number.\n",
    "\n",
    "Integer is how many time the denominator exactly into the numerator and does not account for a remainder. So 2 fits into 3.14159 one time (3.14159 - 2 = 1.14159); 2 does not fit into 1.14159 so the result is 1.\n",
    "\n",
    "Modulus shows the remainder. pi/2 could be written as 1 remainder 1.14159."
   ]
  },
  {
   "cell_type": "markdown",
   "metadata": {},
   "source": [
    "We can also add strings together"
   ]
  },
  {
   "cell_type": "code",
   "execution_count": 8,
   "metadata": {},
   "outputs": [
    {
     "name": "stdout",
     "output_type": "stream",
     "text": [
      "My name is Bob. I like to play the drums. Yesterday I turned 20!\n"
     ]
    }
   ],
   "source": [
    "intro = \"My name is Bob. \"\n",
    "funFacts = \"I like to play the drums. \"\n",
    "age = \"Yesterday I turned 20!\"\n",
    "\n",
    "personalInfo = intro + funFacts + age\n",
    "\n",
    "print(personalInfo)"
   ]
  },
  {
   "cell_type": "markdown",
   "metadata": {},
   "source": [
    "Now lets have a look at exponents"
   ]
  },
  {
   "cell_type": "code",
   "execution_count": 9,
   "metadata": {},
   "outputs": [
    {
     "name": "stdout",
     "output_type": "stream",
     "text": [
      "An 8-bit LED can reprsent 256 color combinations\n",
      "127km is the same as 127000m\n",
      "\n",
      "We can also add commas when printing large numbers like this:\n",
      " 127km is the same as 127,000m\n"
     ]
    }
   ],
   "source": [
    "x = 2 ** 8\n",
    "\n",
    "print(f\"An 8-bit LED can reprsent {x} color combinations\")\n",
    "\n",
    "km = 127\n",
    "\n",
    "m = km * 10 ** 3\n",
    "\n",
    "print(f\"{km}km is the same as {m}m\")\n",
    "print(f\"\\nWe can also add commas when printing large numbers like this:\\n {km}km is the same as {m:,}m\")"
   ]
  },
  {
   "cell_type": "markdown",
   "metadata": {},
   "source": [
    "Okay now let's talk about how to break your code. What happens in your calulator when you divide by 0? What about in code?"
   ]
  },
  {
   "cell_type": "code",
   "execution_count": 10,
   "metadata": {},
   "outputs": [
    {
     "ename": "ZeroDivisionError",
     "evalue": "division by zero",
     "output_type": "error",
     "traceback": [
      "\u001b[0;31m---------------------------------------------------------------------------\u001b[0m",
      "\u001b[0;31mZeroDivisionError\u001b[0m                         Traceback (most recent call last)",
      "\u001b[0;32m<ipython-input-10-6f985c4c80dd>\u001b[0m in \u001b[0;36m<module>\u001b[0;34m\u001b[0m\n\u001b[1;32m      2\u001b[0m \u001b[0my\u001b[0m \u001b[0;34m=\u001b[0m \u001b[0;36m0\u001b[0m\u001b[0;34m\u001b[0m\u001b[0;34m\u001b[0m\u001b[0m\n\u001b[1;32m      3\u001b[0m \u001b[0;34m\u001b[0m\u001b[0m\n\u001b[0;32m----> 4\u001b[0;31m \u001b[0mz\u001b[0m \u001b[0;34m=\u001b[0m \u001b[0mx\u001b[0m\u001b[0;34m/\u001b[0m\u001b[0my\u001b[0m\u001b[0;34m\u001b[0m\u001b[0;34m\u001b[0m\u001b[0m\n\u001b[0m",
      "\u001b[0;31mZeroDivisionError\u001b[0m: division by zero"
     ]
    }
   ],
   "source": [
    "x = 5\n",
    "y = 0\n",
    "\n",
    "z = x/y"
   ]
  },
  {
   "cell_type": "markdown",
   "metadata": {},
   "source": [
    "Python will throw a ZeroDivisionError. This will cause the program to crash. \n",
    "\n",
    "Notive the output that comes when this happens. There is a section that says \"Traceback (most recent call last)\". This is telling us the last part of the code that ran before the crash occured. As programs get larger and more complicated this traceback is invaluable to determine where an error occurs. See here that we are told that the error ocurred on line 4 and the error type was a ZeroDivisionError."
   ]
  },
  {
   "cell_type": "markdown",
   "metadata": {},
   "source": [
    "What are some other errors?"
   ]
  },
  {
   "cell_type": "code",
   "execution_count": 11,
   "metadata": {},
   "outputs": [
    {
     "ename": "NameError",
     "evalue": "name 'numOfGrades' is not defined",
     "output_type": "error",
     "traceback": [
      "\u001b[0;31m---------------------------------------------------------------------------\u001b[0m",
      "\u001b[0;31mNameError\u001b[0m                                 Traceback (most recent call last)",
      "\u001b[0;32m<ipython-input-11-0fb8a3a34714>\u001b[0m in \u001b[0;36m<module>\u001b[0;34m\u001b[0m\n\u001b[1;32m      6\u001b[0m \u001b[0mgradeSum\u001b[0m \u001b[0;34m=\u001b[0m \u001b[0mgrade1\u001b[0m \u001b[0;34m+\u001b[0m \u001b[0mgrade2\u001b[0m \u001b[0;34m+\u001b[0m \u001b[0mgrade3\u001b[0m \u001b[0;34m+\u001b[0m \u001b[0mgrade4\u001b[0m\u001b[0;34m\u001b[0m\u001b[0;34m\u001b[0m\u001b[0m\n\u001b[1;32m      7\u001b[0m \u001b[0;34m\u001b[0m\u001b[0m\n\u001b[0;32m----> 8\u001b[0;31m \u001b[0maverage\u001b[0m \u001b[0;34m=\u001b[0m \u001b[0mgradeSum\u001b[0m \u001b[0;34m/\u001b[0m \u001b[0mnumOfGrades\u001b[0m\u001b[0;34m\u001b[0m\u001b[0;34m\u001b[0m\u001b[0m\n\u001b[0m\u001b[1;32m      9\u001b[0m \u001b[0;34m\u001b[0m\u001b[0m\n\u001b[1;32m     10\u001b[0m \u001b[0mprint\u001b[0m\u001b[0;34m(\u001b[0m\u001b[0;34mf\"Average grade was: {average}\"\u001b[0m\u001b[0;34m)\u001b[0m\u001b[0;34m\u001b[0m\u001b[0;34m\u001b[0m\u001b[0m\n",
      "\u001b[0;31mNameError\u001b[0m: name 'numOfGrades' is not defined"
     ]
    }
   ],
   "source": [
    "grade1 = 88\n",
    "grade2 = 87\n",
    "grade3 = 71\n",
    "grade4 = 84\n",
    "\n",
    "gradeSum = grade1 + grade2 + grade3 + grade4\n",
    "\n",
    "average = gradeSum / numOfGrades\n",
    "\n",
    "print(f\"Average grade was: {average}\")"
   ]
  },
  {
   "cell_type": "markdown",
   "metadata": {},
   "source": [
    "NameError is thrown when a varable is referenced but is not defined.\n",
    "\n",
    "Fix the code above so that is works. See the Traceback to find the line number where the error was thrown. "
   ]
  },
  {
   "cell_type": "markdown",
   "metadata": {},
   "source": [
    "NameError is when a varble is eferenced but is not defined. What happens when a varible is simply defined wrong?"
   ]
  },
  {
   "cell_type": "code",
   "execution_count": 12,
   "metadata": {},
   "outputs": [
    {
     "ename": "SyntaxError",
     "evalue": "EOL while scanning string literal (<ipython-input-12-c2a4f9d9293f>, line 1)",
     "output_type": "error",
     "traceback": [
      "\u001b[0;36m  File \u001b[0;32m\"<ipython-input-12-c2a4f9d9293f>\"\u001b[0;36m, line \u001b[0;32m1\u001b[0m\n\u001b[0;31m    x = \"This is a string\u001b[0m\n\u001b[0m                         ^\u001b[0m\n\u001b[0;31mSyntaxError\u001b[0m\u001b[0;31m:\u001b[0m EOL while scanning string literal\n"
     ]
    }
   ],
   "source": [
    "string = \"This is a string"
   ]
  },
  {
   "cell_type": "code",
   "execution_count": 13,
   "metadata": {},
   "outputs": [
    {
     "ename": "SyntaxError",
     "evalue": "invalid syntax (<ipython-input-13-89df32bfd07f>, line 1)",
     "output_type": "error",
     "traceback": [
      "\u001b[0;36m  File \u001b[0;32m\"<ipython-input-13-89df32bfd07f>\"\u001b[0;36m, line \u001b[0;32m1\u001b[0m\n\u001b[0;31m    age 31\u001b[0m\n\u001b[0m         ^\u001b[0m\n\u001b[0;31mSyntaxError\u001b[0m\u001b[0;31m:\u001b[0m invalid syntax\n"
     ]
    }
   ],
   "source": [
    "age 31"
   ]
  },
  {
   "cell_type": "markdown",
   "metadata": {},
   "source": [
    "A SyntaxError occurs when the python lanaugage is used wrong. Pyton doesn't know what you are trying to do and so the error is thrown"
   ]
  },
  {
   "cell_type": "markdown",
   "metadata": {},
   "source": [
    "What happens when varable types are operated on in ways they cannot handle. Such as adding a string to an int"
   ]
  },
  {
   "cell_type": "code",
   "execution_count": 14,
   "metadata": {},
   "outputs": [
    {
     "ename": "TypeError",
     "evalue": "can only concatenate str (not \"int\") to str",
     "output_type": "error",
     "traceback": [
      "\u001b[0;31m---------------------------------------------------------------------------\u001b[0m",
      "\u001b[0;31mTypeError\u001b[0m                                 Traceback (most recent call last)",
      "\u001b[0;32m<ipython-input-14-79c97fc16827>\u001b[0m in \u001b[0;36m<module>\u001b[0;34m\u001b[0m\n\u001b[1;32m      2\u001b[0m \u001b[0mstring\u001b[0m \u001b[0;34m=\u001b[0m \u001b[0;34m\"Test \"\u001b[0m\u001b[0;34m\u001b[0m\u001b[0;34m\u001b[0m\u001b[0m\n\u001b[1;32m      3\u001b[0m \u001b[0;34m\u001b[0m\u001b[0m\n\u001b[0;32m----> 4\u001b[0;31m \u001b[0mz\u001b[0m \u001b[0;34m=\u001b[0m \u001b[0mstring\u001b[0m \u001b[0;34m+\u001b[0m \u001b[0mnum\u001b[0m\u001b[0;34m\u001b[0m\u001b[0;34m\u001b[0m\u001b[0m\n\u001b[0m",
      "\u001b[0;31mTypeError\u001b[0m: can only concatenate str (not \"int\") to str"
     ]
    }
   ],
   "source": [
    "num = 5\n",
    "string = \"Test \"\n",
    "\n",
    "z = string + num"
   ]
  },
  {
   "cell_type": "markdown",
   "metadata": {},
   "source": [
    "Note: The structure of these programs is very open. As we move forward the design requirments of your programs will become more rigid. For now, if you could use the program to anwser the question that is good enough.\n",
    "\n",
    "What you need to do:\n",
    "Pt 1\n",
    "- solve x = 45 + 4(4/6+2)^5 --- should = 584.391\n",
    "- solve x = (4/5*5+1)^.5    --- should = 2.23607\n",
    "Pt 2\n",
    "- write code to determine if 39879827239498734985798 is divisible by 3 without a remainder\n",
    "- write a program that can solve if any given number is even or not"
   ]
  }
 ],
 "metadata": {
  "kernelspec": {
   "display_name": "Python 3",
   "language": "python",
   "name": "python3"
  },
  "language_info": {
   "codemirror_mode": {
    "name": "ipython",
    "version": 3
   },
   "file_extension": ".py",
   "mimetype": "text/x-python",
   "name": "python",
   "nbconvert_exporter": "python",
   "pygments_lexer": "ipython3",
   "version": "3.7.6"
  }
 },
 "nbformat": 4,
 "nbformat_minor": 4
}
