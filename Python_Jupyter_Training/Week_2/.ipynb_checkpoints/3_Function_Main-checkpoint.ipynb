{
 "cells": [
  {
   "cell_type": "markdown",
   "metadata": {},
   "source": [
    "# What you will learn\n",
    "- How to start a program properly\n",
    "- Pass config arguments"
   ]
  },
  {
   "cell_type": "markdown",
   "metadata": {},
   "source": [
    "Up until this point we really have not talked about code structure. So lets pause real quick and just spell something out: ALL OF YOUR CODE NEEDS TO GO IN FUNCTIONS!!!\n",
    "\n",
    "There should be nothing outside of function. The ONLY exception is imports (will talk about that means later) and global varables"
   ]
  },
  {
   "cell_type": "markdown",
   "metadata": {},
   "source": [
    "So how do we start a program off while keeping to these rules? See below"
   ]
  },
  {
   "cell_type": "code",
   "execution_count": 5,
   "metadata": {},
   "outputs": [
    {
     "name": "stdout",
     "output_type": "stream",
     "text": [
      "We are doing things\n"
     ]
    }
   ],
   "source": [
    "def doThings():\n",
    "    print(\"We are doing things\")\n",
    "\n",
    "if __name__ == '__main__':\n",
    "    # this is Python magic for start the program here\n",
    "    doThings()"
   ]
  },
  {
   "cell_type": "markdown",
   "metadata": {},
   "source": [
    "ALL python scripts should from now on should use "
   ]
  },
  {
   "cell_type": "raw",
   "metadata": {},
   "source": [
    "if __name__ == '__main__':"
   ]
  },
  {
   "cell_type": "markdown",
   "metadata": {},
   "source": [
    "to begin"
   ]
  },
  {
   "cell_type": "markdown",
   "metadata": {},
   "source": [
    "## Passing config arguments\n",
    "\n",
    "Later we will learn how to read configuration from a file but for now we can leave it as arguments defined in "
   ]
  },
  {
   "cell_type": "raw",
   "metadata": {},
   "source": [
    "__name__==\"__main__\""
   ]
  },
  {
   "cell_type": "markdown",
   "metadata": {},
   "source": [
    "See below for example"
   ]
  },
  {
   "cell_type": "code",
   "execution_count": 6,
   "metadata": {},
   "outputs": [
    {
     "name": "stdout",
     "output_type": "stream",
     "text": [
      "Fort Collins has a population of 165000\n",
      "Fort Collins has a zip-code range of 80521–80528\n"
     ]
    }
   ],
   "source": [
    "def makeQuerry(name):\n",
    "    fakeDataBase = {\n",
    "        \"Fort Collins\": {\n",
    "            \"Popuation\": 165000,\n",
    "            \"Zip Code\": \"80521–80528\"\n",
    "        }\n",
    "    }\n",
    "    \n",
    "    return fakeDataBase.get(name)\n",
    "\n",
    "def getCityInfo(name):\n",
    "    querry = makeQuerry(name)\n",
    "    \n",
    "    if querry:\n",
    "        return querry.get(\"Popuation\"), querry.get(\"Zip Code\")\n",
    "    \n",
    "def dataBaseRequest(name):\n",
    "    population, zipCodeRange = getCityInfo(name)\n",
    "    \n",
    "    if population:\n",
    "        print(f\"{name} has a population of {population}\")\n",
    "    \n",
    "    if zipCodeRange:\n",
    "        print(f\"{name} has a zip-code range of {zipCodeRange}\")\n",
    "\n",
    "\n",
    "if __name__ == '__main__':\n",
    "    dataBaseRequest(name=\"Fort Collins\")"
   ]
  },
  {
   "cell_type": "markdown",
   "metadata": {},
   "source": [
    "# What you need to do\n",
    "- Take the code from the \"2_Functions\" lession and add \n",
    "\n",
    "if __name__ == '__main__':\n",
    "\n",
    "to start the program\n",
    "\n",
    "Ensure that:\n",
    " - No code is outside of function\n",
    " - Pass config arguments from"
   ]
  },
  {
   "cell_type": "raw",
   "metadata": {},
   "source": [
    "__name__ == \"__main__\""
   ]
  },
  {
   "cell_type": "markdown",
   "metadata": {},
   "source": [
    "as seen above"
   ]
  },
  {
   "cell_type": "code",
   "execution_count": null,
   "metadata": {},
   "outputs": [],
   "source": []
  }
 ],
 "metadata": {
  "kernelspec": {
   "display_name": "Python 3",
   "language": "python",
   "name": "python3"
  },
  "language_info": {
   "codemirror_mode": {
    "name": "ipython",
    "version": 3
   },
   "file_extension": ".py",
   "mimetype": "text/x-python",
   "name": "python",
   "nbconvert_exporter": "python",
   "pygments_lexer": "ipython3",
   "version": "3.7.3"
  }
 },
 "nbformat": 4,
 "nbformat_minor": 4
}
