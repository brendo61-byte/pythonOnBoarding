{
 "cells": [
  {
   "cell_type": "markdown",
   "metadata": {},
   "source": [
    "# What you will learn\n",
    "- Hardening code\n",
    "- Deailing with fail cases\n",
    "- Handling Exceptions"
   ]
  },
  {
   "cell_type": "markdown",
   "metadata": {},
   "source": [
    "## Hardening Code\n",
    "\n",
    "People expect software to \"just work\". It needs to run. Always. Forever. Without fail. Never stopping.\n",
    "\n",
    "... well the without fail isn't true. Failing is okay! We just have to tell our code how to fail in the right way.\n",
    "\n",
    "Let me show you."
   ]
  },
  {
   "cell_type": "code",
   "execution_count": 1,
   "metadata": {},
   "outputs": [
    {
     "ename": "ZeroDivisionError",
     "evalue": "division by zero",
     "output_type": "error",
     "traceback": [
      "\u001b[0;31m---------------------------------------------------------------------------\u001b[0m",
      "\u001b[0;31mZeroDivisionError\u001b[0m                         Traceback (most recent call last)",
      "\u001b[0;32m<ipython-input-1-1ef009a0aecb>\u001b[0m in \u001b[0;36m<module>\u001b[0;34m\u001b[0m\n\u001b[1;32m     17\u001b[0m \u001b[0;34m\u001b[0m\u001b[0m\n\u001b[1;32m     18\u001b[0m \u001b[0;32mif\u001b[0m \u001b[0m__name__\u001b[0m\u001b[0;34m==\u001b[0m\u001b[0;34m\"__main__\"\u001b[0m\u001b[0;34m:\u001b[0m\u001b[0;34m\u001b[0m\u001b[0;34m\u001b[0m\u001b[0m\n\u001b[0;32m---> 19\u001b[0;31m     \u001b[0mdivider\u001b[0m\u001b[0;34m(\u001b[0m\u001b[0;34m)\u001b[0m\u001b[0;34m\u001b[0m\u001b[0;34m\u001b[0m\u001b[0m\n\u001b[0m",
      "\u001b[0;32m<ipython-input-1-1ef009a0aecb>\u001b[0m in \u001b[0;36mdivider\u001b[0;34m()\u001b[0m\n\u001b[1;32m     10\u001b[0m \u001b[0;32mdef\u001b[0m \u001b[0mdivider\u001b[0m\u001b[0;34m(\u001b[0m\u001b[0;34m)\u001b[0m\u001b[0;34m:\u001b[0m\u001b[0;34m\u001b[0m\u001b[0;34m\u001b[0m\u001b[0m\n\u001b[1;32m     11\u001b[0m     \u001b[0;32mwhile\u001b[0m \u001b[0;32mTrue\u001b[0m\u001b[0;34m:\u001b[0m\u001b[0;34m\u001b[0m\u001b[0;34m\u001b[0m\u001b[0m\n\u001b[0;32m---> 12\u001b[0;31m         \u001b[0mmaths\u001b[0m \u001b[0;34m=\u001b[0m \u001b[0mrandomNum\u001b[0m\u001b[0;34m(\u001b[0m\u001b[0;34m)\u001b[0m \u001b[0;34m/\u001b[0m \u001b[0mrandomNum\u001b[0m\u001b[0;34m(\u001b[0m\u001b[0;34m)\u001b[0m\u001b[0;34m\u001b[0m\u001b[0;34m\u001b[0m\u001b[0m\n\u001b[0m\u001b[1;32m     13\u001b[0m         \u001b[0mprint\u001b[0m\u001b[0;34m(\u001b[0m\u001b[0mmaths\u001b[0m\u001b[0;34m)\u001b[0m\u001b[0;34m\u001b[0m\u001b[0;34m\u001b[0m\u001b[0m\n\u001b[1;32m     14\u001b[0m \u001b[0;34m\u001b[0m\u001b[0m\n",
      "\u001b[0;31mZeroDivisionError\u001b[0m: division by zero"
     ]
    }
   ],
   "source": [
    "# This is bad\n",
    "import random\n",
    "import time\n",
    "\n",
    "\n",
    "def randomNum():\n",
    "    return random.randint(0,5)\n",
    "\n",
    "\n",
    "def divider():\n",
    "    while True:\n",
    "        maths = randomNum() / randomNum()\n",
    "        print(maths)\n",
    "        \n",
    "        time.sleep(0.25)\n",
    "        \n",
    "        \n",
    "if __name__==\"__main__\":\n",
    "    divider()\n"
   ]
  },
  {
   "cell_type": "markdown",
   "metadata": {},
   "source": [
    "The above will crash because we get a ZeroDivsionError ... so let's fix it"
   ]
  },
  {
   "cell_type": "code",
   "execution_count": 3,
   "metadata": {},
   "outputs": [
    {
     "name": "stdout",
     "output_type": "stream",
     "text": [
      "1.0\n",
      "1.0\n",
      "0.0\n",
      "0.5\n",
      "division by zero\n"
     ]
    }
   ],
   "source": [
    "# This is good\n",
    "import random\n",
    "import time\n",
    "\n",
    "\n",
    "def randomNum():\n",
    "    return random.randint(0, 5)\n",
    "\n",
    "\n",
    "def divider():\n",
    "    while True:\n",
    "        try:\n",
    "            maths = randomNum() / randomNum()\n",
    "            print(maths)\n",
    "        except ZeroDivisionError as ZDE:\n",
    "            print(ZDE)\n",
    "            break\n",
    "\n",
    "        time.sleep(0.25)\n",
    "\n",
    "\n",
    "if __name__ == \"__main__\":\n",
    "    divider()\n"
   ]
  },
  {
   "cell_type": "markdown",
   "metadata": {},
   "source": [
    "#### Note\n",
    "- We added the code that could fail in the try/except\n",
    "- In the except we defined the type of error we wanted to except"
   ]
  },
  {
   "cell_type": "markdown",
   "metadata": {},
   "source": [
    "#### Note\n",
    "- I added a break so that we didn't create an infinite loop\n",
    "- This code could run forever though"
   ]
  },
  {
   "cell_type": "markdown",
   "metadata": {},
   "source": [
    "#### What if we don't know the type of error?"
   ]
  },
  {
   "cell_type": "code",
   "execution_count": 4,
   "metadata": {},
   "outputs": [
    {
     "name": "stdout",
     "output_type": "stream",
     "text": [
      "5.0\n",
      "1.0\n",
      "1.6666666666666667\n",
      "0.75\n",
      "0.0\n",
      "0.0\n",
      "0.8\n",
      "1.5\n",
      "0.75\n",
      "division by zero\n"
     ]
    }
   ],
   "source": [
    "# This is good\n",
    "import random\n",
    "import time\n",
    "\n",
    "\n",
    "def randomNum():\n",
    "    return random.randint(0, 5)\n",
    "\n",
    "\n",
    "def divider():\n",
    "    while True:\n",
    "        try:\n",
    "            maths = randomNum() / randomNum()\n",
    "            print(maths)\n",
    "        except Exception as e:\n",
    "            print(e)\n",
    "            break\n",
    "\n",
    "        time.sleep(0.25)\n",
    "\n",
    "\n",
    "if __name__ == \"__main__\":\n",
    "    divider()\n"
   ]
  },
  {
   "cell_type": "markdown",
   "metadata": {},
   "source": [
    "#### We can use this general excption to catch any error!"
   ]
  },
  {
   "cell_type": "code",
   "execution_count": 14,
   "metadata": {},
   "outputs": [
    {
     "name": "stdout",
     "output_type": "stream",
     "text": [
      "unsupported operand type(s) for /: 'int' and 'str'\n",
      "unsupported operand type(s) for /: 'NoneType' and 'NoneType'\n",
      "unsupported operand type(s) for /: 'str' and 'NoneType'\n",
      "unsupported operand type(s) for /: 'int' and 'NoneType'\n",
      "1.0\n",
      "unsupported operand type(s) for /: 'str' and 'int'\n",
      "unsupported operand type(s) for /: 'NoneType' and 'str'\n",
      "1.3333333333333333\n",
      "unsupported operand type(s) for /: 'NoneType' and 'NoneType'\n",
      "unsupported operand type(s) for /: 'str' and 'str'\n",
      "unsupported operand type(s) for /: 'str' and 'int'\n",
      "division by zero\n",
      "unsupported operand type(s) for /: 'str' and 'NoneType'\n",
      "unsupported operand type(s) for /: 'str' and 'int'\n",
      "0.0\n",
      "2.5\n",
      "unsupported operand type(s) for /: 'NoneType' and 'int'\n",
      "0.0\n",
      "unsupported operand type(s) for /: 'NoneType' and 'NoneType'\n",
      "unsupported operand type(s) for /: 'str' and 'int'\n",
      "unsupported operand type(s) for /: 'int' and 'NoneType'\n",
      "unsupported operand type(s) for /: 'int' and 'NoneType'\n",
      "unsupported operand type(s) for /: 'int' and 'NoneType'\n",
      "division by zero\n",
      "0.0\n"
     ]
    }
   ],
   "source": [
    "# This is good\n",
    "import random\n",
    "import time\n",
    "\n",
    "\n",
    "def randomNum():\n",
    "    x = random.random()\n",
    "    \n",
    "    if x > 0.5:\n",
    "        return random.randint(0, 5)\n",
    "    elif x > 0.3:\n",
    "        return \"\"\n",
    "    else:\n",
    "        return None\n",
    "\n",
    "\n",
    "def divider():\n",
    "    for i in range(20):\n",
    "        try:\n",
    "            maths = randomNum() / randomNum()\n",
    "            print(maths)\n",
    "        except Exception as e:\n",
    "            print(e)\n",
    "\n",
    "        time.sleep(0.1)\n",
    "\n",
    "\n",
    "if __name__ == \"__main__\":\n",
    "    divider()\n"
   ]
  },
  {
   "cell_type": "markdown",
   "metadata": {},
   "source": [
    "## Blanket exception vs defined exception \n",
    "\n",
    "Using a gernal catch all exception is fine. We can spesify a spesific error catch though if we need that error to be handling diffrently"
   ]
  },
  {
   "cell_type": "markdown",
   "metadata": {},
   "source": [
    "# What you need to do\n",
    "\n",
    "At the bottom of this module there is a function called \"fakeSensor\". It will simulators talking to physical hardware and will generate data sets that have 100 samples in them. For some reason though the hardware is acting kinda wonky.\n",
    "Samples are not correct but we need data - thus it's become a software problem.\n",
    "\n",
    "- Create a program that calls \"fakeSensor\" once a second\n",
    "- Fix the data (see below)\n",
    "- Create a list of all the data points in the sample\n",
    "    - aList.append(dataPoint.get(\"data\"))\n",
    "- Using the statisics import find the standard deviation of the data above list. Print it to the screen.\n",
    "\n",
    "Ensure that ...\n",
    "- Your program should be able handle to handle ALL ERRORS. It should be able able to run forever.\n",
    "- Ensure that all values under \"data\" keys are of type int\n",
    "- If you cannot read a value in a dictionary print the keys available instead - but only non-standard keys -i.e. if you have entry={\"messUp\": 5, \"timeStamp\": *dateTime object*} only print out \"messUp\"\n",
    "- If there is an incorrect key but that key still has a valid value of data (i.e. an int) then correct the key name and use the data. i.e: {\"messup\": 5} -> {\"data\": 5}\n",
    "- If you have a data sample that has a \"data\" value but NO \"timeStamp\" then create a datetime object that is 0.01 seconds ahead of the previous data sample (or 0.01 behind if it is the first data point)\n",
    "- If the data Sample has data and a timestamp but is not in a dictionary form then put those values into a dictionary. i.e (5, *dateTime object*) -> {\"data\", 5, \"timeStamp\": *dateTime object*}\n",
    "- If it cannot clean up the data Sample discard it\n",
    "\n",
    "##### Suggested steps:\n",
    "1) Read in a data set from fakeSupervisor\n",
    "2) Create a new empty list (x=[])\n",
    "3) Loop though all entries in the data set. If necessary clean the data sample up and append data samples to x\n",
    "4) Create a new empty list (y=[])\n",
    "5) loop though x and pull out all \"data\" values\n",
    "6) pass y to numpy to solve for standard deviation\n",
    "7) sleep for 1 second then repeat"
   ]
  },
  {
   "cell_type": "code",
   "execution_count": 15,
   "metadata": {},
   "outputs": [],
   "source": [
    "import random\n",
    "import datetime as DT  # we can rename an import so it is more reader-friendly\n",
    "\n",
    "def fakeSensor():\n",
    "    dataSet = []\n",
    "\n",
    "    while len(dataSet) < 100:\n",
    "        someInt = random.randint(0, 10)\n",
    "        dataSet.append(makePackage(someInt))\n",
    "\n",
    "    return dataSet\n",
    "\n",
    "def makePackage(data):\n",
    "    num = random.random()\n",
    "    nowTime = DT.datetime.utcnow()\n",
    "\n",
    "    if num < 0.2:\n",
    "        return None\n",
    "    elif num < 0.4:\n",
    "        return {\"messUp\": data}\n",
    "    elif num < 0.6:\n",
    "        return data, nowTime\n",
    "    elif num < 0.8:\n",
    "        return {\"data\": \"Wrong!\", \"timeStamp\": DT}\n",
    "    else:\n",
    "        return {\"data\": data, \"timeStamp\": DT}"
   ]
  },
  {
   "cell_type": "code",
   "execution_count": null,
   "metadata": {},
   "outputs": [],
   "source": []
  }
 ],
 "metadata": {
  "kernelspec": {
   "display_name": "Python 3",
   "language": "python",
   "name": "python3"
  },
  "language_info": {
   "codemirror_mode": {
    "name": "ipython",
    "version": 3
   },
   "file_extension": ".py",
   "mimetype": "text/x-python",
   "name": "python",
   "nbconvert_exporter": "python",
   "pygments_lexer": "ipython3",
   "version": "3.7.3"
  }
 },
 "nbformat": 4,
 "nbformat_minor": 4
}
