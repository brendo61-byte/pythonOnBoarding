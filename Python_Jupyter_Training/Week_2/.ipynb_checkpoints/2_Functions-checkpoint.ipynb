{
 "cells": [
  {
   "cell_type": "markdown",
   "metadata": {},
   "source": [
    "# What You Will Learn\n",
    "- What is a function\n",
    "- When to use functions\n",
    "- How to pass parameters into functions\n",
    "- Tuples\n",
    "- Mutable vs immuntable variables\n",
    "- Funcions returning tuples"
   ]
  },
  {
   "cell_type": "markdown",
   "metadata": {},
   "source": [
    "## What is a function\n",
    "\n",
    "In math class we learned that we can define fucntions such as f(x)=x+1. Therefore f(2)=2+1=3.\n",
    "\n",
    "This is kinda how functions work in Python. You define inputs like x, specify the behavior of the function, like 2+1, and that will producne an output, in this case 3.\n",
    "\n",
    "Let's see this in code"
   ]
  },
  {
   "cell_type": "code",
   "execution_count": 1,
   "metadata": {},
   "outputs": [
    {
     "name": "stdout",
     "output_type": "stream",
     "text": [
      "3\n"
     ]
    }
   ],
   "source": [
    "def f(x):\n",
    "    return x + 1\n",
    "\n",
    "result = f(2)\n",
    "print(result)"
   ]
  },
  {
   "cell_type": "code",
   "execution_count": 5,
   "metadata": {},
   "outputs": [
    {
     "name": "stdout",
     "output_type": "stream",
     "text": [
      "77.25\n"
     ]
    }
   ],
   "source": [
    "def getAverage(gradeList):\n",
    "    gradeSum = sum(gradeList)\n",
    "    n = len(gradeList)\n",
    "    \n",
    "    avg = gradeSum / n\n",
    "    \n",
    "    return avg\n",
    "\n",
    "gradeList = [85, 73, 91, 60]\n",
    "\n",
    "avgGrade = getAverage(gradeList)\n",
    "\n",
    "print(avgGrade)"
   ]
  },
  {
   "cell_type": "markdown",
   "metadata": {},
   "source": [
    "#### Note\n",
    "    -If we do not spesifcy a return then the function will return None"
   ]
  },
  {
   "cell_type": "code",
   "execution_count": 6,
   "metadata": {},
   "outputs": [
    {
     "name": "stdout",
     "output_type": "stream",
     "text": [
      "None\n",
      "<class 'NoneType'>\n"
     ]
    }
   ],
   "source": [
    "def getAverage(gradeList):\n",
    "    gradeSum = sum(gradeList)\n",
    "    n = len(gradeList)\n",
    "    \n",
    "    avg = gradeSum / n\n",
    "    \n",
    "avgGrade = getAverage(gradeList)\n",
    "\n",
    "print(avgGrade)\n",
    "print(type(avgGrade))"
   ]
  },
  {
   "cell_type": "markdown",
   "metadata": {},
   "source": [
    "#### Note\n",
    "- In some cases you will have functions that don't need to return anything"
   ]
  },
  {
   "cell_type": "code",
   "execution_count": 8,
   "metadata": {},
   "outputs": [
    {
     "name": "stdout",
     "output_type": "stream",
     "text": [
      "The Alarm Is Now active\n"
     ]
    }
   ],
   "source": [
    "def raiseAlarm():\n",
    "    print(\"The Alarm Is Now active\")\n",
    "    # in a real program that was setting an alarm high this would be calling other functions\n",
    "\n",
    "raiseAlarm()"
   ]
  },
  {
   "cell_type": "markdown",
   "metadata": {},
   "source": [
    "#### Note\n",
    " - Something interesting happens when we do not put the '()' after a function name"
   ]
  },
  {
   "cell_type": "code",
   "execution_count": 9,
   "metadata": {},
   "outputs": [
    {
     "data": {
      "text/plain": [
       "<function __main__.raiseAlarm()>"
      ]
     },
     "execution_count": 9,
     "metadata": {},
     "output_type": "execute_result"
    }
   ],
   "source": [
    "def raiseAlarm():\n",
    "    print(\"The Alarm Is Now active\")\n",
    "    # in a real program that was setting an alarm high this would be calling other functions\n",
    "\n",
    "raiseAlarm"
   ]
  },
  {
   "cell_type": "markdown",
   "metadata": {},
   "source": [
    "Here we pointed to the function called raiseAlarm but we did call it"
   ]
  },
  {
   "cell_type": "markdown",
   "metadata": {},
   "source": [
    "## When to use a fucntion\n",
    "\n",
    "Until know we had code \"free floating\". This is bad. Don't do it. For each \"thing\" you need to do, there should be a new function.\n",
    "\n",
    "We do this to allow for Modular Design:\n",
    "- Break a problem up into smaller chuncks. Each small chunk should be its own function. This helps you plan a work flow for code\n",
    "- For larger projects de-bugging is a major issue. If you have 10,000+ lines of code and something breaks you need a way to dig back though and find where an error is occuring. Hence, modular design\n",
    "- If we have modular designs then we can reuse code over again for other projects\n",
    "- Read-ablity. Has anyone opened up a MATLAB script and it has over 200 lines and it just is so confusing to read... Imagine if Google write all 2 billion lines of code for its search engine like that? How long would that on-boarding take?\n",
    "    - Using functions is kinda like in 4th grade when papers first starting using paragraphs. Your work is getting to the point more modularity is needed or else no one will be able to read it."
   ]
  },
  {
   "cell_type": "markdown",
   "metadata": {},
   "source": [
    "### Example\n",
    "\n",
    "Above we solved the average of a list of grades. Did you notice we get the length of that list and the sum of that list from two diffrent function calls? ...\n",
    "\n",
    "Let's rewrite that code but this time we write those calls ourselves."
   ]
  },
  {
   "cell_type": "code",
   "execution_count": 17,
   "metadata": {},
   "outputs": [
    {
     "name": "stdout",
     "output_type": "stream",
     "text": [
      "309\n",
      "4\n",
      "77.25\n"
     ]
    }
   ],
   "source": [
    "def getSum(gradeList):\n",
    "    s = 0\n",
    "    for grade in gradeList:\n",
    "        s += grade\n",
    "        \n",
    "    return s\n",
    "\n",
    "\n",
    "def getLegnth(gradeList):\n",
    "    l = 0\n",
    "    for grade in gradeList:\n",
    "        l += 1\n",
    "        \n",
    "    return l\n",
    "\n",
    "\n",
    "def getAverage(gradeList):\n",
    "    gradeSum = getSum(gradeList)\n",
    "    length = getLegnth(gradeList)\n",
    "    \n",
    "    return gradeSum / length\n",
    "\n",
    "gradeList = [85, 73, 91, 60]\n",
    "\n",
    "avgGrade = getAverage(gradeList)\n",
    "\n",
    "print(avgGrade)"
   ]
  },
  {
   "cell_type": "markdown",
   "metadata": {},
   "source": [
    "#### What if we need something like f(x,y) that has two inputs?"
   ]
  },
  {
   "cell_type": "code",
   "execution_count": 1,
   "metadata": {},
   "outputs": [
    {
     "name": "stdout",
     "output_type": "stream",
     "text": [
      "2.0\n"
     ]
    }
   ],
   "source": [
    "def maths(x, y):\n",
    "    return x / y\n",
    "\n",
    "print(maths(6, 3))"
   ]
  },
  {
   "cell_type": "markdown",
   "metadata": {},
   "source": [
    "#### Note\n",
    "- Here the order is import that we pass in varables. What happens if we pass in 3 then 6 ..."
   ]
  },
  {
   "cell_type": "code",
   "execution_count": 3,
   "metadata": {},
   "outputs": [
    {
     "name": "stdout",
     "output_type": "stream",
     "text": [
      "0.5\n"
     ]
    }
   ],
   "source": [
    "def maths(x, y):\n",
    "    return x / y\n",
    "\n",
    "print(maths(3, 6))"
   ]
  },
  {
   "cell_type": "markdown",
   "metadata": {},
   "source": [
    "#### Note\n",
    "- We can also define inputs to match an expected varable"
   ]
  },
  {
   "cell_type": "code",
   "execution_count": 4,
   "metadata": {},
   "outputs": [
    {
     "name": "stdout",
     "output_type": "stream",
     "text": [
      "2.0\n"
     ]
    }
   ],
   "source": [
    "def maths(x, y):\n",
    "    return x / y\n",
    "\n",
    "print(maths(y=3, x=6))"
   ]
  },
  {
   "cell_type": "markdown",
   "metadata": {},
   "source": [
    "#### Note\n",
    "- You can also set default values that can be overwritten"
   ]
  },
  {
   "cell_type": "code",
   "execution_count": 5,
   "metadata": {},
   "outputs": [
    {
     "name": "stdout",
     "output_type": "stream",
     "text": [
      "2.0\n"
     ]
    }
   ],
   "source": [
    "def maths(x=6, y=3):\n",
    "    return x / y\n",
    "\n",
    "print(maths())"
   ]
  },
  {
   "cell_type": "code",
   "execution_count": 6,
   "metadata": {},
   "outputs": [
    {
     "name": "stdout",
     "output_type": "stream",
     "text": [
      "20.0\n"
     ]
    }
   ],
   "source": [
    "def maths(x=6, y=3):\n",
    "    return x / y\n",
    "\n",
    "print(maths(x=100, y=5)) # overwrites default vales in maths()"
   ]
  },
  {
   "cell_type": "markdown",
   "metadata": {},
   "source": [
    "## Global Varables vs Function varables\n",
    "\n",
    "So right now we have two diffrent types of varables\n",
    "1) Global varables\n",
    "    - meaning everything can see this varable\n",
    "2) Function \n",
    "    - the varable can only exist in the function"
   ]
  },
  {
   "cell_type": "code",
   "execution_count": null,
   "metadata": {},
   "outputs": [],
   "source": [
    "X = 5\n",
    "\n",
    "def test():\n",
    "    for i in range(X): # global varable being accessed in a function\n",
    "        print(i)"
   ]
  },
  {
   "cell_type": "code",
   "execution_count": null,
   "metadata": {},
   "outputs": [],
   "source": [
    "def example():\n",
    "    bigVAl = 99999999\n",
    "    \n",
    "def thingy():\n",
    "    print(bigVAl)  # will this throw an error? If so why and what kind?"
   ]
  },
  {
   "cell_type": "markdown",
   "metadata": {},
   "source": [
    "## Note\n",
    "- Finish the code in the two examples above to call test() and thingy() and see what happens"
   ]
  },
  {
   "cell_type": "markdown",
   "metadata": {},
   "source": [
    "## Tuples\n",
    "\n",
    "In python a tuple is like a list with one change: once it is set it cannot change. This is called an immutable object. Compared to a list whos content can be altered - that is a mutable object.\n",
    "\n",
    "Let's see it in action"
   ]
  },
  {
   "cell_type": "code",
   "execution_count": 8,
   "metadata": {},
   "outputs": [
    {
     "name": "stdout",
     "output_type": "stream",
     "text": [
      "('test', 85, False)\n",
      "<class 'tuple'>\n",
      "\n",
      "test\n",
      "\n",
      "85\n",
      "\n",
      "False\n"
     ]
    }
   ],
   "source": [
    "example = \"test\", 85, False\n",
    "\n",
    "print(example)\n",
    "print(type(example))\n",
    "\n",
    "for item in example:\n",
    "    print(f\"\\n{item}\")"
   ]
  },
  {
   "cell_type": "code",
   "execution_count": 10,
   "metadata": {},
   "outputs": [
    {
     "name": "stdout",
     "output_type": "stream",
     "text": [
      "test\n",
      "85\n",
      "85\n"
     ]
    }
   ],
   "source": [
    "example = \"test\", 85, False\n",
    "\n",
    "# given this tubple we can unpack it into 3 varables\n",
    "\n",
    "x, y, z = example\n",
    "\n",
    "print(x)\n",
    "print(y)\n",
    "print(y)"
   ]
  },
  {
   "cell_type": "code",
   "execution_count": 12,
   "metadata": {},
   "outputs": [
    {
     "name": "stdout",
     "output_type": "stream",
     "text": [
      "458\n",
      "8\n"
     ]
    }
   ],
   "source": [
    "# this unpacking alows us to return multilbe things from a function\n",
    "\n",
    "def getSum(inputList):\n",
    "    s = 0\n",
    "    for item in inputList:\n",
    "        s += item\n",
    "        \n",
    "    return s\n",
    "\n",
    "\n",
    "def getLegnth(inputList):\n",
    "    l = 0\n",
    "    for item in inputList:\n",
    "        l += 1\n",
    "        \n",
    "    return l\n",
    "\n",
    "\n",
    "def getListInfo(gradeList):\n",
    "    exSum = getSum(gradeList)\n",
    "    exLength = getLegnth(gradeList)\n",
    "    \n",
    "    return exSum, exLength\n",
    "    \n",
    "\n",
    "exampleList = [85, 73, 91, 60, 72, 29, 1, 47]\n",
    "\n",
    "listSum, listLength = getListInfo(exampleList)\n",
    "\n",
    "print(listSum)\n",
    "print(listLength)"
   ]
  },
  {
   "cell_type": "code",
   "execution_count": 16,
   "metadata": {},
   "outputs": [
    {
     "name": "stdout",
     "output_type": "stream",
     "text": [
      "Fort Collins has a population of 165000\n",
      "Fort Collins has a zip-code range of 80521–80528\n"
     ]
    }
   ],
   "source": [
    "def makeQuerry(name):\n",
    "    fakeDataBase = {\n",
    "        \"Fort Collins\": {\n",
    "            \"Popuation\": 165000,\n",
    "            \"Zip Code\": \"80521–80528\"\n",
    "        }\n",
    "    }\n",
    "    \n",
    "    return fakeDataBase.get(name)\n",
    "\n",
    "def getCityInfo(name):\n",
    "    querry = makeQuerry(name)\n",
    "    \n",
    "    if querry:\n",
    "        return querry.get(\"Popuation\"), querry.get(\"Zip Code\")\n",
    "    \n",
    "def dataBaseRequest(name):\n",
    "    population, zipCodeRange = getCityInfo(name)\n",
    "    \n",
    "    if population:\n",
    "        print(f\"{name} has a population of {population}\")\n",
    "    \n",
    "    if zipCodeRange:\n",
    "        print(f\"{name} has a zip-code range of {zipCodeRange}\")\n",
    "        \n",
    "dataBaseRequest(name=\"Fort Collins\")"
   ]
  },
  {
   "cell_type": "markdown",
   "metadata": {},
   "source": [
    "# What you need to do\n",
    "1) Create a function(s) that take in inputs a,b,c and solve the quadratic formula. Assume no complex numbers\n",
    "2) Create a function that take in the list called \"grades\" below and return the name of the student has the highest grade\n",
    "\n",
    "grades = {\"Logan\": 92, \"Wes\": 4, \"Brendon\": 84, \"Abdula\": 87, \"Tanner\": 110, \"Tomas\": -5}"
   ]
  },
  {
   "cell_type": "code",
   "execution_count": null,
   "metadata": {},
   "outputs": [],
   "source": []
  }
 ],
 "metadata": {
  "kernelspec": {
   "display_name": "Python 3",
   "language": "python",
   "name": "python3"
  },
  "language_info": {
   "codemirror_mode": {
    "name": "ipython",
    "version": 3
   },
   "file_extension": ".py",
   "mimetype": "text/x-python",
   "name": "python",
   "nbconvert_exporter": "python",
   "pygments_lexer": "ipython3",
   "version": "3.7.3"
  }
 },
 "nbformat": 4,
 "nbformat_minor": 4
}
