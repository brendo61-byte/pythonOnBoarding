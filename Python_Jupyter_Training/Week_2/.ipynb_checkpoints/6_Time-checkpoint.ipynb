{
 "cells": [
  {
   "cell_type": "markdown",
   "metadata": {},
   "source": [
    "# What you will learn\n",
    "- Time since epoch\n",
    "- Datetime Objects\n",
    "- Handling Timezones\n",
    "- UTC time\n",
    "- Convert time\n",
    "- Operations on time"
   ]
  },
  {
   "cell_type": "markdown",
   "metadata": {},
   "source": [
    "## Time Since Epoch (TSE)\n",
    "\n",
    "Way back in the early days of computers did not have a fixed refrence for time. Then on Jan 1, 1970 at 12:00:00am Greenwich mean time all the machines started counting. Now every computer had a fixed refrence: the number of seconds that have elapsed since this time.\n",
    "\n",
    "This is called time since epoch"
   ]
  },
  {
   "cell_type": "markdown",
   "metadata": {},
   "source": [
    "#### Note\n",
    "- Greenwich mean time is now called UTC time; meaning the timezone hour is +0"
   ]
  },
  {
   "cell_type": "code",
   "execution_count": 2,
   "metadata": {},
   "outputs": [
    {
     "name": "stdout",
     "output_type": "stream",
     "text": [
      "Seconds Since Jan 1, 1970 at 12:00:00am: 1585773053.460401\n"
     ]
    }
   ],
   "source": [
    "import time\n",
    "\n",
    "TSE = time.time()\n",
    "print(\"Seconds Since Jan 1, 1970 at 12:00:00am: {}\".format(TSE))"
   ]
  },
  {
   "cell_type": "markdown",
   "metadata": {},
   "source": [
    "### Timestamps\n",
    "\n",
    "This allows us to create timeStamps with a known refrence about what that time means. Lets show some example data being collected"
   ]
  },
  {
   "cell_type": "code",
   "execution_count": 3,
   "metadata": {},
   "outputs": [
    {
     "name": "stdout",
     "output_type": "stream",
     "text": [
      "Value: 99 --- TimeStamp: 1585774414.0603247\n",
      "Value: 2 --- TimeStamp: 1585774415.0614328\n"
     ]
    }
   ],
   "source": [
    "import random\n",
    "import time\n",
    "\n",
    "\n",
    "def makeData():\n",
    "    val = random.randint(0, 101)  # 101 is exclusive while 0 is inclusive\n",
    "\n",
    "    return val\n",
    "\n",
    "\n",
    "def dataCollector(t, n):\n",
    "    dataList = []\n",
    "    startTime = time.time()\n",
    "\n",
    "    while time.time() < startTime + t:  # program will run for t number of seconds\n",
    "        data = makeData()\n",
    "        timeStamp = time.time()\n",
    "\n",
    "        reading = {\"value\": data, \"timeStamp\": timeStamp}\n",
    "        dataList.append(reading)\n",
    "\n",
    "        time.sleep(n)  # program will pause for n number of seconds\n",
    "\n",
    "    return dataList\n",
    "\n",
    "\n",
    "def run():\n",
    "    dataSet = dataCollector(t=2, n=1)\n",
    "\n",
    "    for dataSample in dataSet:\n",
    "        value, timeStamp = dataSample.values()\n",
    "\n",
    "        print(\"Value: {} --- TimeStamp: {}\".format(value, timeStamp))\n",
    "\n",
    "\n",
    "if __name__ == \"__main__\":\n",
    "    run()\n"
   ]
  },
  {
   "cell_type": "markdown",
   "metadata": {},
   "source": [
    "#### Note:\n",
    "- Hopefully here you can start to see that we getting to the point of building useful programs\n",
    "- This program above is an example of running an experiment for t seconds and sampling every n seconds\n",
    "- You could easly to change the makeData() call to say collect a value from a pressure sensor or volt-meter\n",
    "- We will continoue to expand this idea of data collection and organizing our results "
   ]
  },
  {
   "cell_type": "markdown",
   "metadata": {},
   "source": [
    "## Datetime Objects\n",
    "\n",
    "Python has another way of organizing time: Datetime objects. This are more heavy duty but provide a higher degree of functionality. Let's see it"
   ]
  },
  {
   "cell_type": "code",
   "execution_count": 12,
   "metadata": {},
   "outputs": [
    {
     "name": "stdout",
     "output_type": "stream",
     "text": [
      "2020-04-01 15:04:51.967548\n"
     ]
    }
   ],
   "source": [
    "import datetime\n",
    "\n",
    "timeStamp = datetime.datetime.now()  # will use your local timezone as defined by your computer\n",
    "\n",
    "print(timeStamp)"
   ]
  },
  {
   "cell_type": "markdown",
   "metadata": {},
   "source": [
    "#### Note\n",
    "- We can see that there is a lot of information here\n",
    "    - year\n",
    "    - month\n",
    "    - day\n",
    "    - hour\n",
    "    - minute\n",
    "    - second\n",
    "    - millisecond"
   ]
  },
  {
   "cell_type": "code",
   "execution_count": 26,
   "metadata": {},
   "outputs": [
    {
     "name": "stdout",
     "output_type": "stream",
     "text": [
      "Year: 2020\n",
      "Month: 4\n",
      "Day: 1\n",
      "Hour: 15\n",
      "Minute: 8\n",
      "Microsecond: 530192\n"
     ]
    }
   ],
   "source": [
    "import datetime\n",
    "\n",
    "timeStamp = datetime.datetime.now()\n",
    "\n",
    "# year\n",
    "print(\"Year: {}\".format(timeStamp.year))\n",
    "# month\n",
    "print(\"Month: {}\".format(timeStamp.month))\n",
    "# day\n",
    "print(\"Day: {}\".format(timeStamp.day))\n",
    "# hour\n",
    "print(\"Hour: {}\".format(timeStamp.hour))\n",
    "# minute\n",
    "print(\"Minute: {}\".format(timeStamp.minute))\n",
    "# microsecond\n",
    "print(\"Microsecond: {}\".format(timeStamp.microsecond))"
   ]
  },
  {
   "cell_type": "markdown",
   "metadata": {},
   "source": [
    "We can also do a few other cool things ..."
   ]
  },
  {
   "cell_type": "code",
   "execution_count": 1,
   "metadata": {},
   "outputs": [
    {
     "name": "stdout",
     "output_type": "stream",
     "text": [
      "Date Info: 2020-04-01\n",
      "Time Info: 15:39:41.526133\n",
      "\n",
      "Wed Apr  1 15:39:41 2020\n",
      "2020-04-01 15:39:41.526133\n"
     ]
    }
   ],
   "source": [
    "import datetime\n",
    "\n",
    "timeStamp = datetime.datetime.now()\n",
    "\n",
    "# Just get the date info\n",
    "print(\"Date Info: {}\".format(timeStamp.date()))\n",
    "\n",
    "# Just get the time info\n",
    "print(\"Time Info: {}\\n\".format(timeStamp.time()))\n",
    "\n",
    "# print out pretty\n",
    "print(timeStamp.ctime())\n",
    "\n",
    "# this is a better way to print if you need to move data around\n",
    "print(str(timeStamp))"
   ]
  },
  {
   "cell_type": "markdown",
   "metadata": {},
   "source": [
    "# Change from UTC time to local time"
   ]
  },
  {
   "cell_type": "code",
   "execution_count": 32,
   "metadata": {},
   "outputs": [
    {
     "name": "stdout",
     "output_type": "stream",
     "text": [
      "2020-04-01 15:16:36.143140\n",
      "2020-04-01 21:16:36.143256\n"
     ]
    }
   ],
   "source": [
    "import datetime\n",
    "\n",
    "x = datetime.datetime.now()\n",
    "y = datetime.datetime.utcnow()\n",
    "\n",
    "print(x)\n",
    "print(y)"
   ]
  },
  {
   "cell_type": "markdown",
   "metadata": {},
   "source": [
    "If the code above is run we can see that local time (assuming you are in Colorado) is 6 hours behind UTC time; i.e. Mountain Time = UTC - 06:00\n",
    "\n",
    "How can we convert?"
   ]
  },
  {
   "cell_type": "code",
   "execution_count": 1,
   "metadata": {},
   "outputs": [
    {
     "name": "stdout",
     "output_type": "stream",
     "text": [
      "  UTC Time: 2020-04-01 22:10:03.347779\n",
      "Local Time: 2020-04-01 16:10:03.347779-06:00\n"
     ]
    }
   ],
   "source": [
    "import datetime\n",
    "\n",
    "\n",
    "def utcToLocal(time):\n",
    "    return time.replace(tzinfo=datetime.timezone.utc).astimezone(tz=None)\n",
    "\n",
    "\n",
    "def run():\n",
    "    utcTime = datetime.datetime.utcnow()\n",
    "\n",
    "    print(\"  UTC Time: {}\".format(str(utcTime)))\n",
    "\n",
    "    localTime = utcToLocal(time=utcTime)\n",
    "\n",
    "    print(\"Local Time: {}\".format(str(localTime)))\n",
    "\n",
    "\n",
    "if __name__ == '__main__':\n",
    "    run()"
   ]
  },
  {
   "cell_type": "markdown",
   "metadata": {},
   "source": [
    "#### Note\n",
    "- See the -06:00\n",
    "- This is indicating that the local time is 6 hours behind UTC time"
   ]
  },
  {
   "cell_type": "markdown",
   "metadata": {},
   "source": [
    "# Operations on Time"
   ]
  },
  {
   "cell_type": "markdown",
   "metadata": {},
   "source": [
    "#### TSO to Datetime "
   ]
  },
  {
   "cell_type": "code",
   "execution_count": 5,
   "metadata": {},
   "outputs": [
    {
     "name": "stdout",
     "output_type": "stream",
     "text": [
      "DTO-to-TSE: 1585779479.836605\n",
      "TSE-to-DTO: 2020-04-01 16:17:59.838416\n"
     ]
    }
   ],
   "source": [
    "import datetime\n",
    "import time\n",
    "\n",
    "conv = datetime.datetime.now().timestamp()\n",
    "print(\"DTO-to-TSE: {}\".format(conv))\n",
    "\n",
    "otherWay = datetime.datetime.fromtimestamp(time.time())\n",
    "print(\"TSE-to-DTO: {}\".format(otherWay))"
   ]
  },
  {
   "cell_type": "markdown",
   "metadata": {},
   "source": [
    "#### Your own datetime objects"
   ]
  },
  {
   "cell_type": "code",
   "execution_count": 7,
   "metadata": {},
   "outputs": [
    {
     "name": "stdout",
     "output_type": "stream",
     "text": [
      "Custom Date Time Object of my Birthday: 1998-01-23 00:00:00\n",
      "<class 'datetime.datetime'>\n",
      "\n",
      "Custom Date of my Birthday: 1998-01-23\n",
      "<class 'datetime.date'>\n",
      "\n",
      "Custom Time: 13:30:00\n",
      "<class 'datetime.time'>\n"
     ]
    }
   ],
   "source": [
    "import datetime\n",
    "\n",
    "dateTime = datetime.datetime(year=1998, month=1, day=23)\n",
    "justDate = datetime.date(year=1998, month=1, day=23)\n",
    "\n",
    "print(\"Custom Date Time Object of my Birthday: {}\".format(dateTime))\n",
    "print(type(dateTime))\n",
    "\n",
    "print(\"\\nCustom Date of my Birthday: {}\".format(justDate))\n",
    "print(type(justDate))\n",
    "\n",
    "justTime = datetime.time(hour=13, minute=30, second=0)\n",
    "print(\"\\nCustom Time: {}\".format(justTime))\n",
    "print(type(justTime))"
   ]
  },
  {
   "cell_type": "markdown",
   "metadata": {},
   "source": [
    "#### Adding time"
   ]
  },
  {
   "cell_type": "code",
   "execution_count": 9,
   "metadata": {},
   "outputs": [
    {
     "name": "stdout",
     "output_type": "stream",
     "text": [
      "First time: 16:30:00\n",
      "Second time: 18:00:00\n"
     ]
    }
   ],
   "source": [
    "import datetime\n",
    "\n",
    "first = datetime.time(hour=16, minute=30)\n",
    "print(\"First time: {}\".format(first))\n",
    "\n",
    "second = first.replace(hour=18, minute=0)\n",
    "print(\"Second time: {}\".format(second))"
   ]
  },
  {
   "cell_type": "code",
   "execution_count": 12,
   "metadata": {},
   "outputs": [
    {
     "name": "stdout",
     "output_type": "stream",
     "text": [
      "           Today it is: 2020-04-01\n",
      "In one year it will be: 2021-04-01\n"
     ]
    }
   ],
   "source": [
    "import datetime\n",
    "\n",
    "today = datetime.date.today()\n",
    "inOneYear = datetime.date(year=today.year + 1, month=today.month, day=today.day)\n",
    "\n",
    "print(\"           Today it is: {}\".format(str(today)))\n",
    "print(\"In one year it will be: {}\".format(str(inOneYear)))"
   ]
  },
  {
   "cell_type": "markdown",
   "metadata": {},
   "source": [
    "### Subtracting time"
   ]
  },
  {
   "cell_type": "code",
   "execution_count": 27,
   "metadata": {},
   "outputs": [
    {
     "name": "stdout",
     "output_type": "stream",
     "text": [
      "Today is: 2020-04-01\n",
      "Parking ticket is due on: 2020-05-01\n",
      "\n",
      "You have 30 days to pay your ticket\n"
     ]
    }
   ],
   "source": [
    "import datetime\n",
    "\n",
    "todayIs = datetime.date.today()\n",
    "ticketIsDueBy = datetime.date(year=2020, month=todayIs.month + 1, day=1)\n",
    "\n",
    "print(\"Today is: {}\".format(str(todayIs)))\n",
    "print(\"Parking ticket is due on: {}\".format(str(ticketIsDueBy)))\n",
    "\n",
    "delta = ticketIsDueBy - todayIs\n",
    "\n",
    "print(\"\\nYou have {} days to pay your ticket\".format(delta.days))"
   ]
  },
  {
   "cell_type": "markdown",
   "metadata": {},
   "source": [
    "##### Some example above but with a twist ..."
   ]
  },
  {
   "cell_type": "code",
   "execution_count": 28,
   "metadata": {},
   "outputs": [
    {
     "name": "stdout",
     "output_type": "stream",
     "text": [
      "Today is: 2020-04-01 16:30:57.249533\n",
      "Parking ticket is due on: 2020-05-01 00:00:00\n",
      "\n",
      "You have 29 days to pay your ticket\n"
     ]
    }
   ],
   "source": [
    "import datetime\n",
    "\n",
    "todayIs = datetime.datetime.today()\n",
    "ticketIsDueBy = datetime.datetime(year=2020, month=todayIs.month + 1, day=1)\n",
    "\n",
    "print(\"Today is: {}\".format(str(todayIs)))\n",
    "print(\"Parking ticket is due on: {}\".format(str(ticketIsDueBy)))\n",
    "\n",
    "delta = ticketIsDueBy - todayIs\n",
    "\n",
    "print(\"\\nYou have {} days to pay your ticket\".format(delta.days))"
   ]
  },
  {
   "cell_type": "markdown",
   "metadata": {},
   "source": [
    "#### Note\n",
    "- Can you figure out why using datetime objects prints a diffrent number of days then date objects?"
   ]
  },
  {
   "cell_type": "markdown",
   "metadata": {},
   "source": [
    "## Birthday example\n",
    "\n",
    "Let's do an example to figure out if today is my birthday or not!"
   ]
  },
  {
   "cell_type": "code",
   "execution_count": 29,
   "metadata": {},
   "outputs": [
    {
     "name": "stdout",
     "output_type": "stream",
     "text": [
      "There are 297 days left till your next birthday!\n"
     ]
    }
   ],
   "source": [
    "import datetime\n",
    "\n",
    "def bDayCheck(today, brendonBDay):\n",
    "    if today.month == brendonBDay.month and today.day == brendonBDay.day:\n",
    "        print(\"Happy Birthday!\")\n",
    "    else:\n",
    "        if today.month == brendonBDay.month:\n",
    "            daysToBDay = brendonBDay.day - today.day\n",
    "            print(\"Only {} days till your birthday!\".format(daysToBDay))\n",
    "        else:\n",
    "            nextYearBDay = datetime.date(year=today.year + 1, month=brendonBDay.month, day=brendonBDay.day)\n",
    "            daysLeft = nextYearBDay - today.date()\n",
    "            # See here today is a datetime object of type datetime and nextYearBDay is of type date - so we have to convert\n",
    "            # today into a date object. You can also convert datetime into just time in the same way\n",
    "            print(\"There are {} days left till your next birthday!\".format(daysLeft.days))\n",
    "\n",
    "if __name__==\"__main__\":\n",
    "    today = datetime.datetime.now()\n",
    "    brendonBDay = datetime.date(year=1998, month=1, day=23)\n",
    "    \n",
    "    bDayCheck(today, brendonBDay)"
   ]
  },
  {
   "cell_type": "markdown",
   "metadata": {},
   "source": [
    "# What you need to do\n",
    "\n",
    "At the bottom of this module there is a variable called hw. This is a dict that contains names of students and info\n",
    "about their homework including the grade they earned and what time they submitted it.\n",
    "\n",
    "Some studnets turned their homework in late. For each hour they turned it in late remove 5% of their grade. Greate a master grade dict with the ajusted grades. If a student format to turn in their homework (the grade is None) then give them a 0.\n",
    "\n",
    "The homework was due on November 1st at 6pm (don't worry about the year).\n",
    "\n",
    "Your output should look like ...\n",
    "{\n",
    "    \"Amy\": {\n",
    "            \"Final Grade\": 39\n",
    "    },\n",
    "    \"Brad\": {\n",
    "            \"Final Grade: 0\n",
    "    }, ...\n",
    "}"
   ]
  },
  {
   "cell_type": "code",
   "execution_count": 30,
   "metadata": {},
   "outputs": [],
   "source": [
    "hw ={\n",
    "    \"Amy\": {\n",
    "        \"grade\": 64,\n",
    "        \"Time\": 1572676823.0\n",
    "    },\n",
    "    \"Brad\": {\n",
    "        \"grade\": None,\n",
    "        \"Time\": 1572677809.0\n",
    "    },\n",
    "    \"Alex\": {\n",
    "        \"grade\": 60,\n",
    "        \"Time\": 1572590298.0\n",
    "    },\n",
    "    \"Dillon\": {\n",
    "        \"grade\": None,\n",
    "        \"Time\": 1572591061.0\n",
    "    },\n",
    "    \"Rhianna\": {\n",
    "        \"grade\": 89,\n",
    "        \"Time\": 1572590301.0\n",
    "    },\n",
    "    \"Sara\": {\n",
    "        \"grade\": None,\n",
    "        \"Time\": 1572590639.0\n",
    "    },\n",
    "    \"Jordan\": {\n",
    "        \"grade\": 97,\n",
    "        \"Time\": 1572674570.0\n",
    "    },\n",
    "    \"Hannah\": {\n",
    "        \"grade\": None,\n",
    "        \"Time\": 1572591401.0\n",
    "    },\n",
    "    \"Abi\": {\n",
    "        \"grade\": 68,\n",
    "        \"Time\": 1572589751.0\n",
    "    },\n",
    "    \"Sam\": {\n",
    "        \"grade\": 72,\n",
    "        \"Time\": 1572591009.0\n",
    "    },\n",
    "    \"Cat\": {\n",
    "        \"grade\": 85,\n",
    "        \"Time\": 1572588399.0\n",
    "    },\n",
    "    \"Tomas\": {\n",
    "        \"grade\": None,\n",
    "        \"Time\": 1572588220.0\n",
    "    },\n",
    "    \"Ashly\": {\n",
    "        \"grade\": None,\n",
    "        \"Time\": 1572591074.0\n",
    "    }\n",
    "}"
   ]
  },
  {
   "cell_type": "code",
   "execution_count": null,
   "metadata": {},
   "outputs": [],
   "source": []
  }
 ],
 "metadata": {
  "kernelspec": {
   "display_name": "Python 3",
   "language": "python",
   "name": "python3"
  },
  "language_info": {
   "codemirror_mode": {
    "name": "ipython",
    "version": 3
   },
   "file_extension": ".py",
   "mimetype": "text/x-python",
   "name": "python",
   "nbconvert_exporter": "python",
   "pygments_lexer": "ipython3",
   "version": "3.7.3"
  }
 },
 "nbformat": 4,
 "nbformat_minor": 4
}
