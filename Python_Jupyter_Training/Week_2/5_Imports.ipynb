{
 "cells": [
  {
   "cell_type": "markdown",
   "metadata": {},
   "source": [
    "# What you will learn\n",
    "- Python Standard Imports\n",
    "- Code reuse though imports\n",
    "- The Super Scary Terminal\n",
    "- Pip"
   ]
  },
  {
   "cell_type": "markdown",
   "metadata": {},
   "source": [
    "## Python Standard Imports\n",
    "\n",
    "If you have gotten this point and wondered \"Has anyone else had to write this code before?\" you are starting to think like a programmer. There are a lot of \"basic\" things that every programmer needs. So how can we access this already written code? By importing them into our code!\n",
    "\n",
    "In the last lession you had to write a function that calculated the standard devation... well that if I told you that code already existed :)"
   ]
  },
  {
   "cell_type": "code",
   "execution_count": 1,
   "metadata": {},
   "outputs": [
    {
     "name": "stdout",
     "output_type": "stream",
     "text": [
      "24.746933431957068\n"
     ]
    }
   ],
   "source": [
    "import statistics \n",
    "\n",
    "def run(data):\n",
    "    std = statistics.stdev(data)\n",
    "    \n",
    "    print(std)\n",
    "\n",
    "if __name__==\"__main__\":\n",
    "    data = [91,82,43,79,23,72,34,63]\n",
    "    run(data)"
   ]
  },
  {
   "cell_type": "markdown",
   "metadata": {},
   "source": [
    "What about a random number generator?"
   ]
  },
  {
   "cell_type": "code",
   "execution_count": 3,
   "metadata": {},
   "outputs": [
    {
     "name": "stdout",
     "output_type": "stream",
     "text": [
      "[0.7178884681104637, 0.14605475091565134, 0.5058336125835188, 0.7859506655522032, 0.9331337640092996, 0.13346593151716446, 0.8073033741561697, 0.7814726820025245, 0.7287930722763347, 0.33742948224776337]\n"
     ]
    }
   ],
   "source": [
    "import random\n",
    "\n",
    "def getRandomNums(n):\n",
    "    temp = []\n",
    "    for i in range(n):\n",
    "        temp.append(random.random())\n",
    "        \n",
    "    return temp\n",
    "\n",
    "if __name__==\"__main__\":\n",
    "    randList = getRandomNums(n=10)\n",
    "    print(randList)"
   ]
  },
  {
   "cell_type": "markdown",
   "metadata": {},
   "source": [
    "Or what about some trig functions?"
   ]
  },
  {
   "cell_type": "code",
   "execution_count": 18,
   "metadata": {},
   "outputs": [
    {
     "name": "stdout",
     "output_type": "stream",
     "text": [
      "Cos(0pi/2) = 1.0\n",
      "Cos(1pi/2) = 6.123233995736766e-17\n",
      "Cos(2pi/2) = -1.0\n",
      "Cos(3pi/2) = -1.8369701987210297e-16\n",
      "Cos(4pi/2) = 1.0\n"
     ]
    }
   ],
   "source": [
    "import math\n",
    "\n",
    "def trigEx(n):\n",
    "    for val in range(0, 2*n+1):\n",
    "        pi = (val / n) * math.pi\n",
    "        \n",
    "        cos = math.cos(pi)\n",
    "        print(\"Cos({}pi/{}) = {}\".format(val, n, cos))\n",
    "        \n",
    "if __name__==\"__main__\":\n",
    "    trigEx(n=2)"
   ]
  },
  {
   "cell_type": "markdown",
   "metadata": {},
   "source": [
    "#### Note\n",
    "- cos(pi/2) does not equal zero. This is becuase computers do not have exact answers. There is no pi/2 becuase pi/2 has an infinite number decimal places. Python, at some point has to round. Hence we get a number that is very small, nut not exactly zero"
   ]
  },
  {
   "cell_type": "markdown",
   "metadata": {},
   "source": [
    "## Code reuse\n",
    "\n",
    "You can also import code from .py files you have written.\n",
    "\n",
    "Under week two there is folder called \"example code\". Please download the two files them and move them into your Pycharm Project\n",
    "\n",
    "The files in your PyCharm Project should look like this:"
   ]
  },
  {
   "cell_type": "raw",
   "metadata": {},
   "source": [
    ".\n",
    "├── someCallsToImport.py\n",
    "├── students.py\n",
    "└── *anything else you had in there*"
   ]
  },
  {
   "cell_type": "markdown",
   "metadata": {},
   "source": [
    "Go ahead and run studnets.py\n",
    "\n",
    "Please take the time to notice that it is calling functions in this other script.\n",
    "\n",
    "This allows us to further break code up into smaller more modular chunks. Then if need be we can move .py files to other projects for reuse"
   ]
  },
  {
   "cell_type": "markdown",
   "metadata": {},
   "source": [
    "## The Terminal\n",
    "\n",
    "If anyone has watched a Spy or heist movie chances are you have seen a terminal. This is the black screen where the hacker is typing out commands to turn off some secuirty and just before the main chacater gets caught they go \"I'm in\". You know what I'm talking about?\n",
    "\n",
    "In programming the terminal is a means of programmers to talk to the computer the \"old school way\" - meaning before desktop GUIs became a thing with mouses and users just point and click."
   ]
  },
  {
   "cell_type": "markdown",
   "metadata": {},
   "source": [
    "### On PyCharm\n",
    "\n",
    "Please open up your PyCharm Project.\n",
    "\n",
    "In the bottom of the screen you will see a tap called \"Terminal\". Click that tab.\n",
    "\n",
    "This is the screen all those hackers use :)\n",
    "\n",
    "We will use it our-selves here in just a minute!"
   ]
  },
  {
   "cell_type": "markdown",
   "metadata": {},
   "source": [
    "## Pip\n",
    "\n",
    "Okay so we talked about some standard import and importing your own code between .py files. What if you want to use someone elses code?\n",
    "\n",
    "THIS! THIS IDEA! That we can share code between programmers is part of what makes Python so powerful. There is a comminity of thousands and thousands of programmers and many of them have written the code you need.\n",
    "\n",
    "And because programmers are awesome they share that code in what are called \"packages\". Pip is a package manager and allows you to install \"packages\" so that you can import them!"
   ]
  },
  {
   "cell_type": "markdown",
   "metadata": {},
   "source": [
    "### Download your first package\n",
    "\n",
    "In the terminal please type the following:"
   ]
  },
  {
   "cell_type": "markdown",
   "metadata": {},
   "source": [
    "pip3 install numpy"
   ]
  },
  {
   "cell_type": "markdown",
   "metadata": {},
   "source": [
    "Yes, it is that easy ...\n",
    "\n",
    "Often if you look for code online you will be directed to https://pypi.org/\n",
    "This is the Python Package Index (PyPi)\n",
    "\n",
    "On this site are a few hundred thousand packages containing hundreds of millions of lines of code. All free. All for you to use."
   ]
  },
  {
   "cell_type": "markdown",
   "metadata": {},
   "source": [
    "#### Numpy\n",
    "\n",
    "On PyPi let's look at the Numpy Package\n",
    "\n",
    "https://pypi.org/project/numpy/\n",
    "\n",
    "You can see right at the top \"pip install Numpy\"\n",
    "\n",
    "Most packages will tell you to install them exactly like this so you can copy and paste into your terminal"
   ]
  },
  {
   "cell_type": "markdown",
   "metadata": {},
   "source": [
    "#### Note\n",
    "- We use pip3 to spesify Python3"
   ]
  },
  {
   "cell_type": "markdown",
   "metadata": {},
   "source": []
  }
 ],
 "metadata": {
  "kernelspec": {
   "display_name": "Python 3",
   "language": "python",
   "name": "python3"
  },
  "language_info": {
   "codemirror_mode": {
    "name": "ipython",
    "version": 3
   },
   "file_extension": ".py",
   "mimetype": "text/x-python",
   "name": "python",
   "nbconvert_exporter": "python",
   "pygments_lexer": "ipython3",
   "version": "3.7.3"
  }
 },
 "nbformat": 4,
 "nbformat_minor": 4
}
