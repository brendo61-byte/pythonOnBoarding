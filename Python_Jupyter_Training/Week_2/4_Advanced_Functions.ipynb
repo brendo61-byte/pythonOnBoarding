{
 "cells": [
  {
   "cell_type": "markdown",
   "metadata": {},
   "source": [
    "# What you will learn\n",
    "- How to pass another function as an input\n",
    "- *args\n",
    "- **kargs"
   ]
  },
  {
   "cell_type": "markdown",
   "metadata": {},
   "source": [
    "## Passing a function as an input\n",
    "\n",
    "Lets say we have a function that handles how we operate over data. Depending on how what kind of data we have we will ajsut how these data operations are handled\n",
    "\n",
    "Let me show you what I mean ..."
   ]
  },
  {
   "cell_type": "code",
   "execution_count": 2,
   "metadata": {},
   "outputs": [
    {
     "name": "stdout",
     "output_type": "stream",
     "text": [
      "This is func 1\n"
     ]
    }
   ],
   "source": [
    "# first how we pass a function as an input\n",
    "\n",
    "def function1():\n",
    "    print(\"This is func 1\")\n",
    "\n",
    "    \n",
    "def run(someInput):\n",
    "    someInput()\n",
    "    \n",
    "\n",
    "if __name__==\"__main__\":\n",
    "    param = function1\n",
    "    run(param)"
   ]
  },
  {
   "cell_type": "code",
   "execution_count": 5,
   "metadata": {},
   "outputs": [
    {
     "name": "stdout",
     "output_type": "stream",
     "text": [
      "The argument we pass to run() is param and it has a value of: <function function1 at 0x7f60f37f1a60>\n",
      "\n",
      "That means here 'someInput' is still pointing to the fucntion called 'fucntion1'\n",
      "Given this we can call 'someInput' the same as we can say 'function()' becauase they are pointers to the same memory address containing the function\n",
      "\n",
      "This is func 1\n"
     ]
    }
   ],
   "source": [
    "# How does this work? Let's break it down\n",
    "\n",
    "def function1():\n",
    "    print(\"This is func 1\")\n",
    "\n",
    "    \n",
    "def run(someInput):\n",
    "    print(\"That means here 'someInput' is still pointing to the fucntion called 'fucntion1'\")\n",
    "    print(\"Given this we can call 'someInput' the same as we can say 'function()' becauase they are pointers to the same memory address containing the function\\n\")\n",
    "    someInput()\n",
    "    \n",
    "\n",
    "if __name__==\"__main__\":\n",
    "    param = function1\n",
    "    print(f\"The argument we pass to run() is param and it has a value of: {param}\\n\")\n",
    "    run(param)"
   ]
  },
  {
   "cell_type": "code",
   "execution_count": 25,
   "metadata": {},
   "outputs": [
    {
     "name": "stdout",
     "output_type": "stream",
     "text": [
      "\n",
      "int_Sum: 6\n",
      "float_Sum: 7.09\n"
     ]
    }
   ],
   "source": [
    "int_Sum = 0  # i use cammel case for function names and function varables\n",
    "float_Sum = 0  # but snake for global varabes. This is purely a styling choice\n",
    "\n",
    "def addFloat(val):\n",
    "    global float_Sum\n",
    "    float_Sum += val\n",
    "\n",
    "\n",
    "def addInt(val):\n",
    "    global int_Sum\n",
    "    int_Sum += val\n",
    "\n",
    "\n",
    "def fakeDataBase(valType):\n",
    "    dataHandling = {\n",
    "        int: addInt,\n",
    "        float: addFloat\n",
    "    }\n",
    "\n",
    "    return dataHandling.get(valType)\n",
    "\n",
    "\n",
    "def run(call, val):\n",
    "    call(val)\n",
    "    \n",
    "\n",
    "def main(data):\n",
    "    for val in data:\n",
    "        if type(val) is int:\n",
    "            call = fakeDataBase(int)\n",
    "        \n",
    "        elif type(val) is float:\n",
    "            call = fakeDataBase(float)\n",
    "        else:\n",
    "            call = None\n",
    "            \n",
    "        if call:\n",
    "            run(call, val)\n",
    "            \n",
    "            \n",
    "    print(f\"\\nint_Sum: {int_Sum}\")\n",
    "    print(f\"float_Sum: {float_Sum}\")\n",
    "\n",
    "if __name__==\"__main__\":\n",
    "    someData = [1, 5, 7.0, 0.09]\n",
    "    main(data=someData)"
   ]
  },
  {
   "cell_type": "markdown",
   "metadata": {},
   "source": [
    "# What you need to do\n",
    "\n",
    "### Look at the bottom of this notebook for layout of the program!\n",
    "### Then read this\n",
    "\n",
    "- Creat a function called main() that should take two arugments\n",
    "    - a dict\n",
    "    - a function to call\n",
    "    - an int (that is a between 0-3 will index to list of length=4)\n",
    "- The dict below \"Students\" should be passed form your "
   ]
  },
  {
   "cell_type": "raw",
   "metadata": {},
   "source": [
    "__name__==\"__main__\""
   ]
  },
  {
   "cell_type": "markdown",
   "metadata": {},
   "source": [
    "to main() along with:\n",
    "    - a pointer to one of two functions \n",
    "    - and an int (again that index val between 0-3)\n",
    "\n",
    "- The two funcitons to point to are:\n",
    "    - Function 1) standard_dev()\n",
    "        - Input args\n",
    "            - a list\n",
    "            - an int (that is for an index in the list)\n",
    "        - operation\n",
    "            - it will solve the standard deviation given a list as an input\n",
    "            - based on the index given determine how many standard deveations above or below the mean the value at the given index is\n",
    "        - return\n",
    "            - return how many how many standard deviations above or below the value at the index is from the mean\n",
    "    \n",
    "    -\n",
    "    - Function 2) percentile()\n",
    "        - Input args\n",
    "            - a list\n",
    "            - an int (that is for an index in the list)\n",
    "        - operation\n",
    "            - gets a value from the given index position of the list\n",
    "            - determines the percentile of that value\n",
    "                - i.e. if you had this list: [1,2,3,4,5,6,7,8,9,10]\n",
    "                - 10 is the 100th percentile, 1 would be 0th percentile, 5 would be the 50th percentile, etc\n",
    "        - return the percentile\n",
    "        \n",
    "\n",
    "\n",
    "-\n",
    "- BEFORE the above two functions are called main() needs to call one more function\n",
    "    - main() needs to call makeLists() passing it the students dict\n",
    "        - makeLists()\n",
    "            - input args\n",
    "                - a dict (Students)\n",
    "            - operation\n",
    "                - for each student determine that students averageGrade\n",
    "                - Then append tempList as a tuple of grade, studnetName\n",
    "                    - i.e. tempList = [(85.45, \"Brendon\"), (82.1, \"Nolan\"), ... etc]\n",
    "                        - I made the above averages up\n",
    "                        - To append a tuple to a list do: list.append((x, y))\n",
    "                            - Note the double parentheses\n",
    "            - return\n",
    "                - the tempList\n",
    "                \n",
    "#### Notes\n",
    "- This is challenging b/c is has a lot of parts\n",
    "- Break your code up into parts! You can create more functions then what is below to help\n",
    "- Feel free to reuse code from other lessions or from week 1 content!\n",
    "\n",
    "#### Please copy and paste the below template into PyCharm to solve ... if you have not been solving the questions in PyCharm I strongly encourage you to make that change now"
   ]
  },
  {
   "cell_type": "code",
   "execution_count": null,
   "metadata": {},
   "outputs": [],
   "source": [
    "Students = {\n",
    "    \"students\": {\n",
    "        \"Brendon\": {\n",
    "            \"Major\": \"Electrical Engineering\",\n",
    "            \"Year\": \"Senior\",\n",
    "            \"Class Grades\": [88.7, 75.5, 81.5, 90.5, 71.0]\n",
    "        },\n",
    "        \"Nolan\": {\n",
    "            \"Major\": \"Mechanical Engineering\",\n",
    "            \"Year\": \"Graduated\",\n",
    "            \"Class Grades\": [98.7, 65.5, 87.5, 70.9, 79.0]\n",
    "        },\n",
    "        \"Logan\": {\n",
    "            \"Major\": \"Electrical Engineering\",\n",
    "            \"Year\": \"Graduated\",\n",
    "            \"Class Grades\": [72.7, 72.5, 67.2, 67.19, 85.12]\n",
    "        },\n",
    "        \"Willow\": {\n",
    "            \"Major\": \"Electrical Engineering\",\n",
    "            \"Year\": \"Graduated\",\n",
    "            \"Class Grades\": [89.23, 78.92, 70.03, 90.23, 88.29]\n",
    "        }\n",
    "    }\n",
    "}\n",
    "\n",
    "\n",
    "def standard_dev(listInfo, indexVal):\n",
    "    pass\n",
    "\n",
    "\n",
    "def percentile(listInfo, indexVal):\n",
    "    pass\n",
    "\n",
    "\n",
    "def makeLists(listInfo):\n",
    "    tempList = []\n",
    "    \n",
    "    return tempList\n",
    "\n",
    "\n",
    "def main(call, dictInfo, indexVal):\n",
    "    gradeAvgList, nameList = makeLists(listInfo)\n",
    "    \n",
    "    result = call(gpaList, indexVal)\n",
    "    \n",
    "    if indexVal == standard_dev:\n",
    "        print(\"{} has is {} STDs from the mean\".format(nameList[indexVal], result))\n",
    "    \n",
    "    if indexVal == percentile:\n",
    "        print(\"{} has is in the {} percentile of their peers\".format(nameList[indexVal], result))\n",
    "        \n",
    "if __name__\"__main__\":\n",
    "    students = Students\n",
    "    indexVal = 2 # must be 0,1,2,3\n",
    "    call = standard_dev\n",
    "    \n",
    "    # or \n",
    "    # call = percentile\n",
    "    \n",
    "    main(call=call, dictInfo=students, indexVal=indexVal)"
   ]
  },
  {
   "cell_type": "code",
   "execution_count": null,
   "metadata": {},
   "outputs": [],
   "source": []
  }
 ],
 "metadata": {
  "kernelspec": {
   "display_name": "Python 3",
   "language": "python",
   "name": "python3"
  },
  "language_info": {
   "codemirror_mode": {
    "name": "ipython",
    "version": 3
   },
   "file_extension": ".py",
   "mimetype": "text/x-python",
   "name": "python",
   "nbconvert_exporter": "python",
   "pygments_lexer": "ipython3",
   "version": "3.7.3"
  }
 },
 "nbformat": 4,
 "nbformat_minor": 4
}
