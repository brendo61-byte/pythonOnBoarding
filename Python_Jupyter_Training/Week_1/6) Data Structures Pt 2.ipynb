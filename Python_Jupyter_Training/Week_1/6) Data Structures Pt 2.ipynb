{
 "cells": [
  {
   "cell_type": "markdown",
   "metadata": {},
   "source": [
    "# What you will lean\n",
    "- Operations on lists"
   ]
  },
  {
   "cell_type": "markdown",
   "metadata": {},
   "source": [
    "## Lists\n",
    "\n",
    "There are a number of 'things' we can do with lists:\n",
    "- append\n",
    "- find length, sum, max, min\n",
    "- get item by index\n",
    "- get index of item in list\n",
    "- pop\n",
    "- remove item by value\n",
    "- delete item by index\n",
    "\n",
    "We will go though each of the above in the following examples"
   ]
  },
  {
   "cell_type": "markdown",
   "metadata": {},
   "source": [
    "### Item vs Index in Lists\n",
    "\n",
    "An item of a list is just the 'stuff' in that list. While the index is where that 'stuff' is in the list."
   ]
  },
  {
   "cell_type": "markdown",
   "metadata": {},
   "source": [
    "### Append"
   ]
  },
  {
   "cell_type": "code",
   "execution_count": 1,
   "metadata": {},
   "outputs": [
    {
     "name": "stdout",
     "output_type": "stream",
     "text": [
      "[]\n",
      "[5, 6]\n"
     ]
    }
   ],
   "source": [
    "x = []  # an empty list\n",
    "print(x)\n",
    "\n",
    "x.append(5)  # add items to list\n",
    "x.append(6)\n",
    "\n",
    "print(x)"
   ]
  },
  {
   "cell_type": "markdown",
   "metadata": {},
   "source": [
    "#### Note\n",
    "- The most recent item that is appended is added to the end of the list\n",
    "- If you need to sort a list (by value, alphabetically, etc) check out this documentation: https://www.w3schools.com/python/ref_list_sort.asp"
   ]
  },
  {
   "cell_type": "markdown",
   "metadata": {},
   "source": [
    "### Find Length, Sum, Max, Min"
   ]
  },
  {
   "cell_type": "code",
   "execution_count": 2,
   "metadata": {},
   "outputs": [
    {
     "name": "stdout",
     "output_type": "stream",
     "text": [
      "9\n",
      "45\n",
      "9\n",
      "1\n"
     ]
    }
   ],
   "source": [
    "numbers = [1,2,3,4,5,6,7,8,9]\n",
    "\n",
    "print(len(numbers))  # number of items in a list\n",
    "print(sum(numbers))  # sum of all the numbers in a list\n",
    "print(max(numbers))  # max value in the list\n",
    "print(min(numbers))  # min value in the list"
   ]
  },
  {
   "cell_type": "markdown",
   "metadata": {},
   "source": [
    "### Get item by index value"
   ]
  },
  {
   "cell_type": "code",
   "execution_count": 6,
   "metadata": {},
   "outputs": [
    {
     "name": "stdout",
     "output_type": "stream",
     "text": [
      "Alex\n",
      "Jim\n",
      "Conner\n",
      "Kaies\n"
     ]
    }
   ],
   "source": [
    "names = [\"Alex\", \"Jim\", \"Jenny\", \"Katie\", \"Conner\"]  # here Alex, Jim, and Jenny are the three items that make up the list 'names'\n",
    "\n",
    "# Python indexes starting at 0.\n",
    "# So to get the item that is at index 0 - i.e. 'Alex' we can say ...\n",
    "print(names[0])\n",
    "\n",
    "# To get the item at index 1...\n",
    "print(names[1])\n",
    "\n",
    "# To get the last element in a list...\n",
    "print(names[-1])\n",
    "\n",
    "# Second to last...\n",
    "print(names[-2])"
   ]
  },
  {
   "cell_type": "markdown",
   "metadata": {},
   "source": [
    "### Get index of an item"
   ]
  },
  {
   "cell_type": "code",
   "execution_count": 8,
   "metadata": {},
   "outputs": [
    {
     "name": "stdout",
     "output_type": "stream",
     "text": [
      "0\n",
      "3\n"
     ]
    }
   ],
   "source": [
    "names = [\"Alex\", \"Jim\", \"Jenny\", \"Katie\", \"Conner\"]\n",
    "\n",
    "index1 = names.index(\"Alex\")\n",
    "print(index1)\n",
    "\n",
    "index2 = names.index(\"Katie\")\n",
    "print(index2)"
   ]
  },
  {
   "cell_type": "markdown",
   "metadata": {},
   "source": [
    "### POP\n",
    "\n",
    "Pop is way to remove an element from a list but also give it to you."
   ]
  },
  {
   "cell_type": "code",
   "execution_count": 11,
   "metadata": {},
   "outputs": [
    {
     "name": "stdout",
     "output_type": "stream",
     "text": [
      "Before any pops ...\n",
      "['Alex', 'Jim', 'Jenny', 'Katie', 'Conner']\n",
      "\n",
      "First pop\n",
      "['Alex', 'Jim', 'Jenny', 'Katie']\n",
      "Conner\n",
      "\n",
      "Second pop\n",
      "['Alex', 'Jim', 'Jenny']\n",
      "Katie\n",
      "\n",
      "When you forget the '()' after pop\n",
      "<built-in method pop of list object at 0x10bdd8820>\n"
     ]
    }
   ],
   "source": [
    "names = [\"Alex\", \"Jim\", \"Jenny\", \"Katie\", \"Conner\"]\n",
    "print(\"Before any pops ...\")\n",
    "print(names)\n",
    "\n",
    "print(\"\\nFirst pop\")\n",
    "x = names.pop()\n",
    "print(names)\n",
    "print(x)\n",
    "\n",
    "print(\"\\nSecond pop\")\n",
    "y = names.pop\n",
    "print(names)\n",
    "print(y)\n",
    "\n",
    "print(\"\\nWhen you forget the '()' after pop\")\n",
    "z = names.pop\n",
    "print(z)"
   ]
  },
  {
   "cell_type": "markdown",
   "metadata": {},
   "source": [
    "#### Notes\n",
    "- pop will default to \"popping\" the last item in a list\n",
    "- When you use pop you are calling another bit of code to remove an item from a list and return it\n",
    "- That is why you need the () - in Python this is how functions and methods are called\n",
    "- In math class a function can be f(x)=2x+3. You can \"call\" that function and you pass in a value x, it will do an operation on x, and will return a value\n",
    "- Here you call pop just like f(x), pop does an operation (remove an item from the list), and returns the item\n",
    "\n",
    "\n",
    "#### Non-default popping\n",
    "What if you didn't want to remove the last item in a list? Just speficy the index number!"
   ]
  },
  {
   "cell_type": "code",
   "execution_count": 13,
   "metadata": {},
   "outputs": [
    {
     "name": "stdout",
     "output_type": "stream",
     "text": [
      "Before any pops ...\n",
      "['Alex', 'Jim', 'Jenny', 'Katie', 'Conner']\n",
      "\n",
      "First pop\n",
      "['Alex', 'Jim', 'Katie', 'Conner']\n",
      "Jenny\n",
      "\n",
      "Second pop\n",
      "['Alex', 'Jim', 'Katie']\n",
      "Conner\n"
     ]
    }
   ],
   "source": [
    "names = [\"Alex\", \"Jim\", \"Jenny\", \"Katie\", \"Conner\"]\n",
    "print(\"Before any pops ...\")\n",
    "print(names)\n",
    "\n",
    "print(\"\\nFirst pop\")\n",
    "x = names.pop(2)  # remove Jenny\n",
    "print(names)\n",
    "print(x)\n",
    "\n",
    "print(\"\\nSecond pop\")\n",
    "y = names.pop(-1)  # pop(-1) will always remove the first element in a list\n",
    "print(names)\n",
    "print(y)"
   ]
  },
  {
   "cell_type": "markdown",
   "metadata": {},
   "source": [
    "### Note\n",
    "- If a list is empty you cannot pop"
   ]
  },
  {
   "cell_type": "code",
   "execution_count": 14,
   "metadata": {},
   "outputs": [
    {
     "ename": "IndexError",
     "evalue": "pop from empty list",
     "output_type": "error",
     "traceback": [
      "\u001b[0;31m---------------------------------------------------------------------------\u001b[0m",
      "\u001b[0;31mIndexError\u001b[0m                                Traceback (most recent call last)",
      "\u001b[0;32m<ipython-input-14-2bbd9e0c16c5>\u001b[0m in \u001b[0;36m<module>\u001b[0;34m\u001b[0m\n\u001b[1;32m      1\u001b[0m \u001b[0mx\u001b[0m \u001b[0;34m=\u001b[0m \u001b[0;34m[\u001b[0m\u001b[0;34m]\u001b[0m  \u001b[0;31m# empty list\u001b[0m\u001b[0;34m\u001b[0m\u001b[0;34m\u001b[0m\u001b[0m\n\u001b[0;32m----> 2\u001b[0;31m \u001b[0mx\u001b[0m\u001b[0;34m.\u001b[0m\u001b[0mpop\u001b[0m\u001b[0;34m(\u001b[0m\u001b[0;34m)\u001b[0m\u001b[0;34m\u001b[0m\u001b[0;34m\u001b[0m\u001b[0m\n\u001b[0m",
      "\u001b[0;31mIndexError\u001b[0m: pop from empty list"
     ]
    }
   ],
   "source": [
    "x = []  # empty list\n",
    "x.pop()"
   ]
  },
  {
   "cell_type": "markdown",
   "metadata": {},
   "source": [
    "### Note\n",
    "- You can see if a list is empty by checking the \"truth-y-ness\" of it"
   ]
  },
  {
   "cell_type": "code",
   "execution_count": 16,
   "metadata": {},
   "outputs": [
    {
     "name": "stdout",
     "output_type": "stream",
     "text": [
      "List 1 is has items in it: False\n",
      "List 2 is has items in it: True\n"
     ]
    }
   ],
   "source": [
    "list1 = []\n",
    "\n",
    "list2 = [\"item0\", \"item1\"]\n",
    "\n",
    "test1 = bool(list1)\n",
    "\n",
    "test2 = bool(list2)\n",
    "\n",
    "print(f\"List 1 is has items in it: {test1}\")\n",
    "print(f\"List 2 is has items in it: {test2}\")"
   ]
  },
  {
   "cell_type": "markdown",
   "metadata": {},
   "source": [
    "### Delete Item by Value\n",
    "\n",
    "There are two ways to delete an item from a list. The first is by it's value using the \"remove\"."
   ]
  },
  {
   "cell_type": "code",
   "execution_count": 21,
   "metadata": {},
   "outputs": [
    {
     "name": "stdout",
     "output_type": "stream",
     "text": [
      "['Jim', 'Jenny', 'Katie', 'Conner']\n"
     ]
    }
   ],
   "source": [
    "names = [\"Alex\", \"Jim\", \"Jenny\", \"Katie\", \"Conner\"]\n",
    "\n",
    "names.remove(\"Alex\")\n",
    "\n",
    "print(names)"
   ]
  },
  {
   "cell_type": "markdown",
   "metadata": {},
   "source": [
    "#### Note:\n",
    "- Before I said that pop was like f(x)=2x+3. Here \"remove\" is like f(x), but instead of passing in x as an input argument we are passing in \"Alex\".\n",
    "- remove will throw an error if there is no matching item in the list"
   ]
  },
  {
   "cell_type": "code",
   "execution_count": 22,
   "metadata": {},
   "outputs": [
    {
     "ename": "ValueError",
     "evalue": "list.remove(x): x not in list",
     "output_type": "error",
     "traceback": [
      "\u001b[0;31m---------------------------------------------------------------------------\u001b[0m",
      "\u001b[0;31mValueError\u001b[0m                                Traceback (most recent call last)",
      "\u001b[0;32m<ipython-input-22-3540b3a25cad>\u001b[0m in \u001b[0;36m<module>\u001b[0;34m\u001b[0m\n\u001b[1;32m      1\u001b[0m \u001b[0mnumbers\u001b[0m \u001b[0;34m=\u001b[0m \u001b[0;34m[\u001b[0m\u001b[0;36m1\u001b[0m\u001b[0;34m,\u001b[0m\u001b[0;36m2\u001b[0m\u001b[0;34m,\u001b[0m\u001b[0;36m3\u001b[0m\u001b[0;34m,\u001b[0m\u001b[0;36m4\u001b[0m\u001b[0;34m]\u001b[0m\u001b[0;34m\u001b[0m\u001b[0;34m\u001b[0m\u001b[0m\n\u001b[1;32m      2\u001b[0m \u001b[0;34m\u001b[0m\u001b[0m\n\u001b[0;32m----> 3\u001b[0;31m \u001b[0mnumbers\u001b[0m\u001b[0;34m.\u001b[0m\u001b[0mremove\u001b[0m\u001b[0;34m(\u001b[0m\u001b[0;36m5\u001b[0m\u001b[0;34m)\u001b[0m\u001b[0;34m\u001b[0m\u001b[0;34m\u001b[0m\u001b[0m\n\u001b[0m",
      "\u001b[0;31mValueError\u001b[0m: list.remove(x): x not in list"
     ]
    }
   ],
   "source": [
    "numbers = [1,2,3,4]\n",
    "\n",
    "numbers.remove(5)"
   ]
  },
  {
   "cell_type": "markdown",
   "metadata": {},
   "source": [
    "### Delete Item by Index\n",
    "\n",
    "The other way to delete an item is by its index value"
   ]
  },
  {
   "cell_type": "code",
   "execution_count": 23,
   "metadata": {},
   "outputs": [
    {
     "name": "stdout",
     "output_type": "stream",
     "text": [
      "['Jim', 'Jenny', 'Katie', 'Conner']\n",
      "['Jim', 'Jenny', 'Katie']\n"
     ]
    }
   ],
   "source": [
    "names = [\"Alex\", \"Jim\", \"Jenny\", \"Katie\", \"Conner\"]\n",
    "\n",
    "del names[0]  # will remove first item\n",
    "print(names)\n",
    "\n",
    "del names[-1]  # will remove last item\n",
    "print(names)"
   ]
  },
  {
   "cell_type": "markdown",
   "metadata": {},
   "source": [
    "#### Note\n",
    "- If the index doesn't exist in a list an error will be thrown\n",
    "- This can when the index is out of range or if the list if empty"
   ]
  },
  {
   "cell_type": "code",
   "execution_count": 24,
   "metadata": {},
   "outputs": [
    {
     "ename": "IndexError",
     "evalue": "list assignment index out of range",
     "output_type": "error",
     "traceback": [
      "\u001b[0;31m---------------------------------------------------------------------------\u001b[0m",
      "\u001b[0;31mIndexError\u001b[0m                                Traceback (most recent call last)",
      "\u001b[0;32m<ipython-input-24-b022f438ef2b>\u001b[0m in \u001b[0;36m<module>\u001b[0;34m\u001b[0m\n\u001b[1;32m      1\u001b[0m \u001b[0;31m# del on emplty list\u001b[0m\u001b[0;34m\u001b[0m\u001b[0;34m\u001b[0m\u001b[0;34m\u001b[0m\u001b[0m\n\u001b[1;32m      2\u001b[0m \u001b[0mx\u001b[0m \u001b[0;34m=\u001b[0m \u001b[0;34m[\u001b[0m\u001b[0;34m]\u001b[0m\u001b[0;34m\u001b[0m\u001b[0;34m\u001b[0m\u001b[0m\n\u001b[0;32m----> 3\u001b[0;31m \u001b[0;32mdel\u001b[0m \u001b[0mx\u001b[0m\u001b[0;34m[\u001b[0m\u001b[0;34m-\u001b[0m\u001b[0;36m1\u001b[0m\u001b[0;34m]\u001b[0m\u001b[0;34m\u001b[0m\u001b[0;34m\u001b[0m\u001b[0m\n\u001b[0m",
      "\u001b[0;31mIndexError\u001b[0m: list assignment index out of range"
     ]
    }
   ],
   "source": [
    "# del on emplty list\n",
    "x = []\n",
    "del x[-1]"
   ]
  },
  {
   "cell_type": "code",
   "execution_count": 26,
   "metadata": {},
   "outputs": [
    {
     "ename": "IndexError",
     "evalue": "list assignment index out of range",
     "output_type": "error",
     "traceback": [
      "\u001b[0;31m---------------------------------------------------------------------------\u001b[0m",
      "\u001b[0;31mIndexError\u001b[0m                                Traceback (most recent call last)",
      "\u001b[0;32m<ipython-input-26-845ec008b67e>\u001b[0m in \u001b[0;36m<module>\u001b[0;34m\u001b[0m\n\u001b[1;32m      1\u001b[0m \u001b[0mx\u001b[0m \u001b[0;34m=\u001b[0m \u001b[0;34m[\u001b[0m\u001b[0;36m0\u001b[0m\u001b[0;34m,\u001b[0m\u001b[0;36m1\u001b[0m\u001b[0;34m,\u001b[0m\u001b[0;36m2\u001b[0m\u001b[0;34m,\u001b[0m\u001b[0;36m3\u001b[0m\u001b[0;34m,\u001b[0m\u001b[0;36m4\u001b[0m\u001b[0;34m,\u001b[0m\u001b[0;36m5\u001b[0m\u001b[0;34m]\u001b[0m\u001b[0;34m\u001b[0m\u001b[0;34m\u001b[0m\u001b[0m\n\u001b[1;32m      2\u001b[0m \u001b[0;34m\u001b[0m\u001b[0m\n\u001b[0;32m----> 3\u001b[0;31m \u001b[0;32mdel\u001b[0m \u001b[0mx\u001b[0m\u001b[0;34m[\u001b[0m\u001b[0;36m6\u001b[0m\u001b[0;34m]\u001b[0m\u001b[0;34m\u001b[0m\u001b[0;34m\u001b[0m\u001b[0m\n\u001b[0m",
      "\u001b[0;31mIndexError\u001b[0m: list assignment index out of range"
     ]
    }
   ],
   "source": [
    "# list does not have an index at 6\n",
    "x = [0,1,2,3,4,5]\n",
    "\n",
    "del x[6]"
   ]
  },
  {
   "cell_type": "markdown",
   "metadata": {},
   "source": [
    "## Copying lists\n",
    "\n",
    "If you create a list x and then set y=x you really have not created a new list. Python points to the same list. In memory x and y are at the same location. X and Y are just like two people pointing to the same stop. So if you changed y, x would also change.\n",
    "\n",
    "Let's see this happen."
   ]
  },
  {
   "cell_type": "code",
   "execution_count": 2,
   "metadata": {},
   "outputs": [
    {
     "name": "stdout",
     "output_type": "stream",
     "text": [
      "X: [1, 2, 3, 4, 5]\n",
      "Y: [1, 2, 3, 4, 5]\n",
      "\n",
      "After appending '6' to Y ... \n",
      "\n",
      "X: [1, 2, 3, 4, 5, 6]\n",
      "Y: [1, 2, 3, 4, 5, 6]\n"
     ]
    }
   ],
   "source": [
    "x = [1,2,3,4,5]\n",
    "y = x\n",
    "\n",
    "print(f\"X: {x}\")\n",
    "print(f\"Y: {y}\")\n",
    "\n",
    "y.append(6)\n",
    "print(\"\\nAfter appending '6' to Y ... \\n\")\n",
    "\n",
    "print(f\"X: {x}\")\n",
    "print(f\"Y: {y}\")"
   ]
  },
  {
   "cell_type": "markdown",
   "metadata": {},
   "source": [
    "If we want to seperate lists that do not point to the same memory addresses then we need to copy the list.\n",
    "\n",
    "This is super simple using the copy function of lists"
   ]
  },
  {
   "cell_type": "code",
   "execution_count": 5,
   "metadata": {},
   "outputs": [
    {
     "name": "stdout",
     "output_type": "stream",
     "text": [
      "X: [1, 2, 3, 4, 5]\n",
      "Y: [1, 2, 3, 4, 5]\n",
      "\n",
      "After appending '6' to Y (using copy)... \n",
      "\n",
      "X: [1, 2, 3, 4, 5]\n",
      "Y: [1, 2, 3, 4, 5, 6]\n"
     ]
    }
   ],
   "source": [
    "x = [1,2,3,4,5]\n",
    "y = x.copy()\n",
    "\n",
    "print(f\"X: {x}\")\n",
    "print(f\"Y: {y}\")\n",
    "\n",
    "y.append(6)\n",
    "print(\"\\nAfter appending '6' to Y (using copy)... \\n\")\n",
    "\n",
    "print(f\"X: {x}\")\n",
    "print(f\"Y: {y}\")"
   ]
  },
  {
   "cell_type": "code",
   "execution_count": null,
   "metadata": {},
   "outputs": [],
   "source": []
  }
 ],
 "metadata": {
  "kernelspec": {
   "display_name": "Python 3",
   "language": "python",
   "name": "python3"
  },
  "language_info": {
   "codemirror_mode": {
    "name": "ipython",
    "version": 3
   },
   "file_extension": ".py",
   "mimetype": "text/x-python",
   "name": "python",
   "nbconvert_exporter": "python",
   "pygments_lexer": "ipython3",
   "version": "3.7.6"
  }
 },
 "nbformat": 4,
 "nbformat_minor": 4
}
