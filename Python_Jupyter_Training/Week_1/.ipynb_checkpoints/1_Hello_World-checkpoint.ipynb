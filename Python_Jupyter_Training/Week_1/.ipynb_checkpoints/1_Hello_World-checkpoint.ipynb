{
 "cells": [
  {
   "cell_type": "markdown",
   "metadata": {},
   "source": [
    "# Welcome to Python! \n",
    "Let's start with the best way to get familiar with a language: Hello World"
   ]
  },
  {
   "cell_type": "markdown",
   "metadata": {},
   "source": [
    "## This will teach you:\n",
    "- How to print in python ... an invaluable skill every programmer will utilize\n",
    "- How to run a program. Sounds simple but hey we need to start somewhere."
   ]
  },
  {
   "cell_type": "markdown",
   "metadata": {},
   "source": [
    "We will print to the terminal a string (group of characters) that says \"Hello World\""
   ]
  },
  {
   "cell_type": "code",
   "execution_count": 4,
   "metadata": {},
   "outputs": [
    {
     "name": "stdout",
     "output_type": "stream",
     "text": [
      "Hello World\n"
     ]
    }
   ],
   "source": [
    "print(\"Hello World\")"
   ]
  },
  {
   "cell_type": "markdown",
   "metadata": {},
   "source": [
    "# What You Need To Do\n",
    "In Pycharm open the file called \"1_Hello_World\". Print the following:\n",
    "    - Print \"Hello World\"\n",
    "    - Print your name"
   ]
  },
  {
   "cell_type": "markdown",
   "metadata": {},
   "source": [
    "#### Note\n",
    "- In PyCharm the \"run\" button is the green triangle in the top right cornor\n",
    "- For all future \"What you need to do\" please create a new .py file in python and name it as:\n",
    "{lession_number}_name_of_the_lession\n",
    "- Ex: 1_Hello_World\n",
    "- Write any code you need to solve the \"What you need to do\" questions in this file"
   ]
  }
 ],
 "metadata": {
  "kernelspec": {
   "display_name": "Python 3",
   "language": "python",
   "name": "python3"
  },
  "language_info": {
   "codemirror_mode": {
    "name": "ipython",
    "version": 3
   },
   "file_extension": ".py",
   "mimetype": "text/x-python",
   "name": "python",
   "nbconvert_exporter": "python",
   "pygments_lexer": "ipython3",
   "version": "3.7.6"
  }
 },
 "nbformat": 4,
 "nbformat_minor": 4
}
