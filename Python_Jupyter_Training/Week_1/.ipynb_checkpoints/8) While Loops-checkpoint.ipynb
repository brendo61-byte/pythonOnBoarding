{
 "cells": [
  {
   "cell_type": "markdown",
   "metadata": {},
   "source": [
    "# What you will lean:\n",
    "- What is a while loop\n",
    "- How to write a while\n",
    "- starting conditions for while loops\n",
    "- Exit conditions for while loops"
   ]
  },
  {
   "cell_type": "markdown",
   "metadata": {},
   "source": [
    "## What is a while loop\n",
    "\n",
    "Similar to for loops while loops are used to loop over a section of code. The diffrence is that for loops iterate though something, but while loops continue to loop as long as a condition is still true\n",
    "\n",
    "Here are some examples:"
   ]
  },
  {
   "cell_type": "code",
   "execution_count": 2,
   "metadata": {},
   "outputs": [
    {
     "name": "stdout",
     "output_type": "stream",
     "text": [
      "1\n",
      "2\n",
      "3\n",
      "4\n"
     ]
    }
   ],
   "source": [
    "i = 1\n",
    "\n",
    "while i < 5:\n",
    "    print(i)\n",
    "    i += 1 # this means take the current value of i and add 1. It is that same as saying 'i = i + 1'"
   ]
  },
  {
   "cell_type": "code",
   "execution_count": 3,
   "metadata": {},
   "outputs": [
    {
     "name": "stdout",
     "output_type": "stream",
     "text": [
      "5\n",
      "4\n",
      "3\n",
      "2\n",
      "1\n"
     ]
    }
   ],
   "source": [
    "i = 5\n",
    "\n",
    "while i > 0:\n",
    "    print(i)\n",
    "    i -= 1"
   ]
  },
  {
   "cell_type": "code",
   "execution_count": 4,
   "metadata": {},
   "outputs": [
    {
     "name": "stdout",
     "output_type": "stream",
     "text": [
      "[3, 5, 7, 11, 13, 17, 19, 23, 29, 31, 37, 41, 43, 47]\n"
     ]
    }
   ],
   "source": [
    "# code that finds prime numbers\n",
    "\n",
    "num = 3  #\n",
    "primes = []\n",
    "\n",
    "while num < 50:\n",
    "    prime = True\n",
    "    \n",
    "    for divisor in range(2, num - 1):\n",
    "        if num % divisor == 0:\n",
    "            prime = False\n",
    "            break\n",
    "    \n",
    "    if prime:\n",
    "        primes.append(num)\n",
    "        \n",
    "    num += 1\n",
    "        \n",
    "print(primes)\n",
    "        "
   ]
  },
  {
   "cell_type": "markdown",
   "metadata": {},
   "source": [
    "We can use break in both for and while loops"
   ]
  },
  {
   "cell_type": "code",
   "execution_count": 7,
   "metadata": {},
   "outputs": [
    {
     "name": "stdout",
     "output_type": "stream",
     "text": [
      "status=True\n",
      "status=True\n",
      "status=True\n",
      "status=True\n",
      "Broke the loop\n"
     ]
    }
   ],
   "source": [
    "import time\n",
    "\n",
    "startTime = time.time()\n",
    "\n",
    "status = True\n",
    "\n",
    "while status:\n",
    "    print(f\"status={status}\")\n",
    "    nowTime = time.time()\n",
    "    \n",
    "    if nowTime > startTime + 3:\n",
    "        break\n",
    "        \n",
    "    time.sleep(1)  # tells code to pause for n number of seconds - in this case one second\n",
    "\n",
    "print(\"Broke the loop\")"
   ]
  },
  {
   "cell_type": "markdown",
   "metadata": {},
   "source": [
    "Could also write the above example like this:"
   ]
  },
  {
   "cell_type": "code",
   "execution_count": 10,
   "metadata": {},
   "outputs": [
    {
     "name": "stdout",
     "output_type": "stream",
     "text": [
      "status=True\n",
      "status=True\n",
      "status=True\n",
      "status=True\n",
      "\n",
      "status=False\n"
     ]
    }
   ],
   "source": [
    "import time\n",
    "\n",
    "startTime = time.time()\n",
    "\n",
    "status = True\n",
    "\n",
    "while status:\n",
    "    print(f\"status={status}\")\n",
    "    nowTime = time.time()\n",
    "    \n",
    "    if nowTime > startTime + 3:\n",
    "        status = False\n",
    "        \n",
    "    time.sleep(1)  # tells code to pause for n number of seconds - in this case one second\n",
    "\n",
    "print(f\"\\nstatus={status}\")"
   ]
  },
  {
   "cell_type": "markdown",
   "metadata": {},
   "source": [
    "# What you need to do\n",
    "\n",
    "Solve the FizzBuzz problem\n",
    "\n",
    "This is a classic program interview question!\n",
    "\n",
    "Create a program that ...\n",
    "- counts from 1 to 100\n",
    "- If the number count is divisible by only 3 print \"Fizz\"\n",
    "- If the number count is divisible by only 5 print \"Buzz\"\n",
    "- If the number count is divisible by both 5 and 3 print \"FizzBuzz\"\n",
    "- If the number count is not divisible by either 3 or 5 print the number\n",
    "\n",
    "The first 15 lines of output should look like this ...\n",
    "\n",
    "1\n",
    "\n",
    "2\n",
    "\n",
    "Fizz\n",
    "\n",
    "4\n",
    "\n",
    "Buzz\n",
    "\n",
    "Fizz\n",
    "\n",
    "7\n",
    "\n",
    "8\n",
    "\n",
    "Fizz\n",
    "\n",
    "Buzz\n",
    "\n",
    "11\n",
    "\n",
    "Fizz\n",
    "\n",
    "13\n",
    "\n",
    "14\n",
    "\n",
    "FizzBuzz"
   ]
  },
  {
   "cell_type": "code",
   "execution_count": null,
   "metadata": {},
   "outputs": [],
   "source": []
  }
 ],
 "metadata": {
  "kernelspec": {
   "display_name": "Python 3",
   "language": "python",
   "name": "python3"
  },
  "language_info": {
   "codemirror_mode": {
    "name": "ipython",
    "version": 3
   },
   "file_extension": ".py",
   "mimetype": "text/x-python",
   "name": "python",
   "nbconvert_exporter": "python",
   "pygments_lexer": "ipython3",
   "version": "3.7.6"
  }
 },
 "nbformat": 4,
 "nbformat_minor": 4
}
