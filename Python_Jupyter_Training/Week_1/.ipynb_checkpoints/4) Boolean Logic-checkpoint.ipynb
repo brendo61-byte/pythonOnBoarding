{
 "cells": [
  {
   "cell_type": "markdown",
   "metadata": {},
   "source": [
    "# What you will learn\n",
    "* True and False in Python (the 'truth-y-ness' of things)\n",
    "* How to evaluate an expression\n",
    "* Use mathmatical expression to determine properties\n",
    "* Boolean Logic"
   ]
  },
  {
   "cell_type": "markdown",
   "metadata": {},
   "source": [
    "## What is a boolean\n",
    "\n",
    "In short a boolean is a \"thing\" that can have two states: true of false; on or off; 1 or 0.\n",
    "\n",
    "Here are a few examples to show what this means"
   ]
  },
  {
   "cell_type": "code",
   "execution_count": 1,
   "metadata": {},
   "outputs": [
    {
     "data": {
      "text/plain": [
       "False"
      ]
     },
     "execution_count": 1,
     "metadata": {},
     "output_type": "execute_result"
    }
   ],
   "source": [
    "# Example 1 - less/greater then\n",
    "\n",
    "5 < 3"
   ]
  },
  {
   "cell_type": "code",
   "execution_count": 2,
   "metadata": {},
   "outputs": [
    {
     "data": {
      "text/plain": [
       "True"
      ]
     },
     "execution_count": 2,
     "metadata": {},
     "output_type": "execute_result"
    }
   ],
   "source": [
    "# Example 2 - less/greater then\n",
    "\n",
    "3.14159 < 5"
   ]
  },
  {
   "cell_type": "code",
   "execution_count": 3,
   "metadata": {},
   "outputs": [
    {
     "data": {
      "text/plain": [
       "True"
      ]
     },
     "execution_count": 3,
     "metadata": {},
     "output_type": "execute_result"
    }
   ],
   "source": [
    "# Example 3 - equals\n",
    "\n",
    "\"Test\" == \"Test\""
   ]
  },
  {
   "cell_type": "code",
   "execution_count": 4,
   "metadata": {},
   "outputs": [
    {
     "data": {
      "text/plain": [
       "True"
      ]
     },
     "execution_count": 4,
     "metadata": {},
     "output_type": "execute_result"
    }
   ],
   "source": [
    "# Example 4 - less then or equal to\n",
    "\n",
    "5.5 <= 5.5"
   ]
  },
  {
   "cell_type": "code",
   "execution_count": 5,
   "metadata": {},
   "outputs": [
    {
     "data": {
      "text/plain": [
       "False"
      ]
     },
     "execution_count": 5,
     "metadata": {},
     "output_type": "execute_result"
    }
   ],
   "source": [
    "# Example 5 - less then or equal to\n",
    "\n",
    "5.6 <= 5.5"
   ]
  },
  {
   "cell_type": "markdown",
   "metadata": {},
   "source": [
    "## Evaluations\n",
    "\n",
    "The above is how we can evaluate expressions and find the 'truth-y-ness' of things.\n",
    "Let's show some more examples with varables."
   ]
  },
  {
   "cell_type": "code",
   "execution_count": 1,
   "metadata": {},
   "outputs": [
    {
     "name": "stdout",
     "output_type": "stream",
     "text": [
      "Sabrina is underage: True\n",
      "Sabrina is now of age: False\n",
      "Sabrina is over age: False\n"
     ]
    }
   ],
   "source": [
    "legalAge = 21\n",
    "age = 20\n",
    "name = 'Sabrina'\n",
    "\n",
    "underage = age < legalAge\n",
    "\n",
    "justTurnedOfAge = age == legalAge\n",
    "\n",
    "isOlder = age > legalAge\n",
    "\n",
    "print(f\"{name} is underage: {underage}\")\n",
    "print(f\"{name} is now of age: {justTurnedOfAge}\")\n",
    "print(f\"{name} is over age: {justTurnedOfAge}\")"
   ]
  },
  {
   "cell_type": "code",
   "execution_count": 11,
   "metadata": {},
   "outputs": [
    {
     "name": "stdout",
     "output_type": "stream",
     "text": [
      "After 4s you will have earned 103.81289062499945 dollars. Goal Reached: False\n",
      "After 8s you will have earned 218.40289750991724 dollars. Goal Reached: True\n"
     ]
    }
   ],
   "source": [
    "# Let's try to do something more compplicated\n",
    "# Here we will show how little my saving account intrest helps me\n",
    "# Let's take a principle value of $1000 and try to earn $200 in intrest compounded annually\n",
    "\n",
    "# A = P(1+r)^(t)\n",
    "# Where ...A=ending value, P=starting principle, r=intrest rate, t=numer of years\n",
    "\n",
    "target = 1200\n",
    "p = 1000\n",
    "r = 0.025\n",
    "\n",
    "years1 = 4  # 4 years of intrest\n",
    "sum1 = p* (1 + r) ** years1  # total money in 4 yeras\n",
    "targetTry1 = sum1 >= target  # check if we earned enough money\n",
    "netgain1 = sum1 - p  # total money earing in 4 years\n",
    "print(f\"After {years1}s you will have earned {netgain1} dollars. Goal Reached: {targetTry1}\")\n",
    "\n",
    "years2 = 8  # 8 years of intrest\n",
    "sum2 = p* (1 + r) ** years2  # total money in 8 yeras\n",
    "targetTry2 = sum2 >= target  # check if we earned enough money\n",
    "netgain2 = sum2 - p  # total money earing in 8 years\n",
    "print(f\"After {years2}s you will have earned {netgain2} dollars. Goal Reached: {targetTry2}\")"
   ]
  },
  {
   "cell_type": "markdown",
   "metadata": {},
   "source": [
    "## Boolean Logic\n",
    "\n",
    "Okay we now have these concepts of 'truth-y-ness'. Let's talk what else we can do.\n",
    "Here we are going to intoduce some basic boolean logic:\n",
    "\n",
    "### or\n",
    "The 'or' will return true if JUST ONE of the checked expressions is true."
   ]
  },
  {
   "cell_type": "code",
   "execution_count": 13,
   "metadata": {},
   "outputs": [
    {
     "name": "stdout",
     "output_type": "stream",
     "text": [
      "1 > 5 is False\n",
      "6 > 5 is True\n",
      "1 > 5 or 6 > 5 is True\n"
     ]
    }
   ],
   "source": [
    "a = 1 > 5\n",
    "b = 6 > 5\n",
    "c = a or b\n",
    "\n",
    "print(f\"1 > 5 is {a}\")\n",
    "print(f\"6 > 5 is {b}\")\n",
    "print(f\"1 > 5 or 6 > 5 is {c}\")"
   ]
  },
  {
   "cell_type": "markdown",
   "metadata": {},
   "source": [
    "### and\n",
    "'And' is the opossite of 'or'. For 'and' to evaluate to to true ALL the expressions are true"
   ]
  },
  {
   "cell_type": "code",
   "execution_count": 14,
   "metadata": {},
   "outputs": [
    {
     "name": "stdout",
     "output_type": "stream",
     "text": [
      "1 < 5 is True\n",
      "2 < 5 is True\n",
      "3 < 5 is True\n",
      "1 < 5 and 2 < 5 and 3 < 5 is True\n"
     ]
    }
   ],
   "source": [
    "a = 1 < 5\n",
    "b = 2 < 5\n",
    "c = 3 < 5\n",
    "\n",
    "d = a and b and c\n",
    "\n",
    "print(f\"1 < 5 is {a}\")\n",
    "print(f\"2 < 5 is {b}\")\n",
    "print(f\"3 < 5 is {c}\")\n",
    "print(f\"1 < 5 and 2 < 5 and 3 < 5 is {d}\")"
   ]
  },
  {
   "cell_type": "markdown",
   "metadata": {},
   "source": [
    "but if just one expression is false ..."
   ]
  },
  {
   "cell_type": "code",
   "execution_count": 15,
   "metadata": {},
   "outputs": [
    {
     "name": "stdout",
     "output_type": "stream",
     "text": [
      "1 < 5 is True\n",
      "2 < 5 is True\n",
      "3 < 5 is False\n",
      "1 < 5 and 2 < 5 and 3 < 5 is False\n"
     ]
    }
   ],
   "source": [
    "a = 1 < 5\n",
    "b = 2 < 5\n",
    "c = 3 > 5  # this is now false\n",
    "\n",
    "d = a and b and c\n",
    "\n",
    "print(f\"1 < 5 is {a}\")\n",
    "print(f\"2 < 5 is {b}\")\n",
    "print(f\"3 < 5 is {c}\")\n",
    "print(f\"1 < 5 and 2 < 5 and 3 < 5 is {d}\")"
   ]
  },
  {
   "cell_type": "markdown",
   "metadata": {},
   "source": [
    "### not\n",
    "'Not' will invert a boolean's state.\n",
    "\n",
    "not true -> false\n",
    "\n",
    "not false -> true\n",
    "\n",
    "This is usefully when you need to use negative logic. For example to check if something has not occured (more on this later)."
   ]
  },
  {
   "cell_type": "code",
   "execution_count": 17,
   "metadata": {},
   "outputs": [
    {
     "data": {
      "text/plain": [
       "False"
      ]
     },
     "execution_count": 17,
     "metadata": {},
     "output_type": "execute_result"
    }
   ],
   "source": [
    "not True"
   ]
  },
  {
   "cell_type": "code",
   "execution_count": 18,
   "metadata": {},
   "outputs": [
    {
     "data": {
      "text/plain": [
       "True"
      ]
     },
     "execution_count": 18,
     "metadata": {},
     "output_type": "execute_result"
    }
   ],
   "source": [
    "not False "
   ]
  },
  {
   "cell_type": "code",
   "execution_count": 20,
   "metadata": {},
   "outputs": [
    {
     "name": "stdout",
     "output_type": "stream",
     "text": [
      "5 > 6 is False\n",
      "not 5 > 6 is True\n"
     ]
    }
   ],
   "source": [
    "x = 5 > 6\n",
    "\n",
    "notx = not x\n",
    "\n",
    "print(f\"5 > 6 is {x}\")\n",
    "print(f\"not 5 > 6 is {notx}\")"
   ]
  },
  {
   "cell_type": "markdown",
   "metadata": {},
   "source": [
    "## What you need to do\n",
    "- By hand solve this boolean logic expression:\n",
    "(((3 > 5) or (9 > 2 ** 4)) or (\"name\" == \"test\")) and (7 > 12)\n",
    "\n",
    "*hint: evaluating only one expression should tell you the anwser"
   ]
  }
 ],
 "metadata": {
  "kernelspec": {
   "display_name": "Python 3",
   "language": "python",
   "name": "python3"
  },
  "language_info": {
   "codemirror_mode": {
    "name": "ipython",
    "version": 3
   },
   "file_extension": ".py",
   "mimetype": "text/x-python",
   "name": "python",
   "nbconvert_exporter": "python",
   "pygments_lexer": "ipython3",
   "version": "3.7.6"
  }
 },
 "nbformat": 4,
 "nbformat_minor": 4
}
