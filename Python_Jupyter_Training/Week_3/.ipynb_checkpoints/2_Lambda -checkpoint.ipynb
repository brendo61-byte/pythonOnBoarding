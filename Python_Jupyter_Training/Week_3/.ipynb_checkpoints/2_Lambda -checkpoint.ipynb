{
 "cells": [
  {
   "cell_type": "markdown",
   "metadata": {},
   "source": [
    "# What you will learn\n",
    "- Python Lambda\n",
    "- When to use Lambdas"
   ]
  },
  {
   "cell_type": "markdown",
   "metadata": {},
   "source": [
    "### What is a lambda function\n",
    "\n",
    "In python a lambda function is anonymous function - meaning it doesn't have a name. They operate similar to matlab and take input arugments and and expression in their definition"
   ]
  },
  {
   "cell_type": "code",
   "execution_count": 2,
   "metadata": {},
   "outputs": [
    {
     "name": "stdout",
     "output_type": "stream",
     "text": [
      "25\n"
     ]
    }
   ],
   "source": [
    "test = lambda x: x*x\n",
    "\n",
    "result = test(5)\n",
    "\n",
    "print(result)"
   ]
  },
  {
   "cell_type": "markdown",
   "metadata": {},
   "source": [
    "#### Note\n",
    "- We do not have to spesify a return for the lambda function. It will simply return the result of the expression - in this case x*x"
   ]
  },
  {
   "cell_type": "markdown",
   "metadata": {},
   "source": [
    "### Maps and lambda"
   ]
  },
  {
   "cell_type": "code",
   "execution_count": 3,
   "metadata": {},
   "outputs": [
    {
     "name": "stdout",
     "output_type": "stream",
     "text": [
      "[1, 4, 9, 25, 49, 121, 169, 289, 361, 529, 841, 961, 1369]\n"
     ]
    }
   ],
   "source": [
    "someList = [1, 2, 3, 5, 7, 11, 13, 17, 19, 23, 29, 31, 37]\n",
    "\n",
    "results = list(map(lambda x: x*x, someList))  # times each number by its self\n",
    "\n",
    "print(results)"
   ]
  },
  {
   "cell_type": "code",
   "execution_count": 5,
   "metadata": {},
   "outputs": [
    {
     "name": "stdout",
     "output_type": "stream",
     "text": [
      "[False, True, False, True, False, True, False, False, True, False, False, False, False]\n"
     ]
    }
   ],
   "source": [
    "someList = [1, 2, 3, 4, 7, 8, 13, 17, 12, 23, 29, 45, 37]\n",
    "\n",
    "results = list(map(lambda x: x % 2 == 0, someList))  # bool of if the number devisable by 2\n",
    "\n",
    "print(results)"
   ]
  },
  {
   "cell_type": "markdown",
   "metadata": {},
   "source": [
    "### Is this the best way?\n",
    "\n",
    "Depedning on who you talk to the above two examples are \"bad\" and should be rewritten like this:"
   ]
  },
  {
   "cell_type": "code",
   "execution_count": 19,
   "metadata": {},
   "outputs": [
    {
     "name": "stdout",
     "output_type": "stream",
     "text": [
      "[1, 4, 9, 25, 49, 121, 169, 289, 361, 529, 841, 961, 1369]\n"
     ]
    }
   ],
   "source": [
    "someList = [1, 2, 3, 5, 7, 11, 13, 17, 19, 23, 29, 31, 37]\n",
    "\n",
    "result = [val*val for val in someList]\n",
    "\n",
    "print(result)"
   ]
  },
  {
   "cell_type": "code",
   "execution_count": 25,
   "metadata": {},
   "outputs": [
    {
     "name": "stdout",
     "output_type": "stream",
     "text": [
      "[False, True, False, True, False, True, False, False, True, False, False, False, False]\n"
     ]
    }
   ],
   "source": [
    "someList = [1, 2, 3, 4, 7, 8, 13, 17, 12, 23, 29, 45, 37]\n",
    "\n",
    "results = [True if val % 2 == 0 else False for val in someList]\n",
    "\n",
    "print(results)"
   ]
  },
  {
   "cell_type": "markdown",
   "metadata": {},
   "source": [
    "#### Note\n",
    "- We are throwing some new things at you here\n",
    "- Yes you can do loops in a single line\n",
    "    - breaking down the example above (the one checking if things are even or odd - i.e. devisable by 2)\n",
    "        - this is saying append True if val % 2 == 0\n",
    "        - else append False\n",
    "        - the variable \"val\" will come from \"for val in someList\"\n",
    "\n",
    "- Some will say one way is better. I find the one-line for loops to be hard to read - especially when if statement are involved\n",
    "\n",
    "- We show this so you know what this code is doing when you see it. I recommend you do not write with single line for loops. "
   ]
  },
  {
   "cell_type": "markdown",
   "metadata": {},
   "source": [
    "# What you need to do\n",
    "\n",
    "This was the task from week 2 lession 2 - Functions. Redo it replacing all functions with lambdas.\n",
    "\n",
    "1) Create a function(s) that take in inputs a,b,c and solve the quadratic formula. Assume no complex numbers\n",
    "2) Create a function that take in the list called \"grades\" below and return the name of the student has the highest grade\n",
    "\n",
    "grades = {\"Logan\": 92, \"Wes\": 4, \"Brendon\": 84, \"Abdula\": 87, \"Tanner\": 110, \"Tomas\": -5}"
   ]
  },
  {
   "cell_type": "code",
   "execution_count": null,
   "metadata": {},
   "outputs": [],
   "source": []
  }
 ],
 "metadata": {
  "kernelspec": {
   "display_name": "Python 3",
   "language": "python",
   "name": "python3"
  },
  "language_info": {
   "codemirror_mode": {
    "name": "ipython",
    "version": 3
   },
   "file_extension": ".py",
   "mimetype": "text/x-python",
   "name": "python",
   "nbconvert_exporter": "python",
   "pygments_lexer": "ipython3",
   "version": "3.7.3"
  }
 },
 "nbformat": 4,
 "nbformat_minor": 4
}
