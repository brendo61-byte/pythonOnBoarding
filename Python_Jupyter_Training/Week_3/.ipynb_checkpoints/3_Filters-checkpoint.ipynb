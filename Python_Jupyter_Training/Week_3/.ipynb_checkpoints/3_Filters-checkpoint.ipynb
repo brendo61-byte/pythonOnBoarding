{
 "cells": [
  {
   "cell_type": "markdown",
   "metadata": {},
   "source": [
    "# What you will learn \n",
    "- Filters\n",
    "- Filters in relation to lambdas and maps"
   ]
  },
  {
   "cell_type": "markdown",
   "metadata": {},
   "source": [
    "## What is a filter in Python?\n",
    "\n",
    "The filter() method filters the given sequence with the help of a function that tests each element in the sequence to be true or not.\n"
   ]
  },
  {
   "cell_type": "code",
   "execution_count": 5,
   "metadata": {},
   "outputs": [
    {
     "name": "stdout",
     "output_type": "stream",
     "text": [
      "1586062838.417618\n",
      "1586062839.417618\n",
      "1586062840.417618\n",
      "1586062841.417618\n",
      "1586062842.417618\n",
      "1586062843.417618\n",
      "1586062844.417618\n",
      "1586062845.417618\n",
      "1586062846.417618\n",
      "1586062847.417618\n",
      "1586062848.417618\n"
     ]
    }
   ],
   "source": [
    "DUE = 1586062848.417618  # TSE time stamp\n",
    "\n",
    "def testTime(timeStamp):\n",
    "    if timeStamp <= DUE:\n",
    "        return True\n",
    "\n",
    "if __name__==\"__main__\":\n",
    "    someTimeStamps = [1586062838.417618, 1586062839.417618, 1586062840.417618, 1586062841.417618, 1586062842.417618, 1586062843.417618, 1586062844.417618, 1586062845.417618, 1586062846.417618, 1586062847.417618, 1586062848.417618, 1586062849.417618, 1586062850.417618, 1586062851.417618, 1586062852.417618, 1586062853.417618, 1586062854.417618, 1586062855.417618, 1586062856.417618, 1586062857.417618]\n",
    "    results = filter(testTime, someTimeStamps)\n",
    "    \n",
    "    for thing in results:\n",
    "        print(thing)"
   ]
  },
  {
   "cell_type": "markdown",
   "metadata": {},
   "source": [
    "### Is this like a map?\n",
    "\n",
    "Well a little - but really no. Let me show you what this would look like if we used map"
   ]
  },
  {
   "cell_type": "code",
   "execution_count": 6,
   "metadata": {},
   "outputs": [
    {
     "name": "stdout",
     "output_type": "stream",
     "text": [
      "True\n",
      "True\n",
      "True\n",
      "True\n",
      "True\n",
      "True\n",
      "True\n",
      "True\n",
      "True\n",
      "True\n",
      "True\n",
      "None\n",
      "None\n",
      "None\n",
      "None\n",
      "None\n",
      "None\n",
      "None\n",
      "None\n",
      "None\n"
     ]
    }
   ],
   "source": [
    "DUE = 1586062848.417618  # TSE time stamp\n",
    "\n",
    "def testTime(timeStamp):\n",
    "    if timeStamp <= DUE:\n",
    "        return True\n",
    "\n",
    "if __name__==\"__main__\":\n",
    "    someTimeStamps = [1586062838.417618, 1586062839.417618, 1586062840.417618, 1586062841.417618, 1586062842.417618, 1586062843.417618, 1586062844.417618, 1586062845.417618, 1586062846.417618, 1586062847.417618, 1586062848.417618, 1586062849.417618, 1586062850.417618, 1586062851.417618, 1586062852.417618, 1586062853.417618, 1586062854.417618, 1586062855.417618, 1586062856.417618, 1586062857.417618]\n",
    "    results = map(testTime, someTimeStamps)\n",
    "    \n",
    "    for thing in results:\n",
    "        print(thing)"
   ]
  },
  {
   "cell_type": "markdown",
   "metadata": {},
   "source": [
    "## Filter vs Map\n",
    "\n",
    "- The filter took our iterable object (a list) and ran it against a test function. Check item in our iterable object is checked against the test function and if it passes that test it will be added to the results\n",
    "\n",
    "- Map on the otherhand will simply take what ever was returned from the function and add it the results"
   ]
  },
  {
   "cell_type": "markdown",
   "metadata": {},
   "source": [
    "### When is this useful\n",
    "\n",
    "Have you ever tried to search for something online? Maybe, on Door Dash you only wanted Asian food tonight. How does it reutrn only those results... yet some form of a filter!\n",
    "\n",
    "Want to only select studnets that are failing? Use a filter. Want to find what tests produced results that were outside of tolerance? Use a filter."
   ]
  },
  {
   "cell_type": "markdown",
   "metadata": {},
   "source": [
    "## Filters and lambdas"
   ]
  },
  {
   "cell_type": "code",
   "execution_count": 8,
   "metadata": {},
   "outputs": [
    {
     "name": "stdout",
     "output_type": "stream",
     "text": [
      "1586062838.417618\n",
      "1586062839.417618\n",
      "1586062840.417618\n",
      "1586062841.417618\n",
      "1586062842.417618\n",
      "1586062843.417618\n",
      "1586062844.417618\n",
      "1586062845.417618\n",
      "1586062846.417618\n",
      "1586062847.417618\n",
      "1586062848.417618\n"
     ]
    }
   ],
   "source": [
    "# rewritting the above code with lambdas in place of functions\n",
    "\n",
    "DUE = 1586062848.417618  # TSE time stamp\n",
    "\n",
    "if __name__==\"__main__\":\n",
    "    someTimeStamps = [1586062838.417618, 1586062839.417618, 1586062840.417618, 1586062841.417618, 1586062842.417618, 1586062843.417618, 1586062844.417618, 1586062845.417618, 1586062846.417618, 1586062847.417618, 1586062848.417618, 1586062849.417618, 1586062850.417618, 1586062851.417618, 1586062852.417618, 1586062853.417618, 1586062854.417618, 1586062855.417618, 1586062856.417618, 1586062857.417618]\n",
    "    results = filter(lambda time: time <= DUE, someTimeStamps)\n",
    "    \n",
    "    for thing in results:\n",
    "        print(thing)"
   ]
  },
  {
   "cell_type": "markdown",
   "metadata": {},
   "source": [
    "#### Note\n",
    "- We can use lambda functions here in place of a function\n",
    "- This can help clean up code "
   ]
  },
  {
   "cell_type": "markdown",
   "metadata": {},
   "source": [
    "# What you need to do\n",
    "\n",
    "Below is the task from week 2 lession 6 - Time. Redo it using lambdas, maps, and filters. You can use \n",
    "\n"
   ]
  },
  {
   "cell_type": "raw",
   "metadata": {},
   "source": [
    "if __name__==\"__main__\":"
   ]
  },
  {
   "cell_type": "markdown",
   "metadata": {},
   "source": [
    "and"
   ]
  },
  {
   "cell_type": "raw",
   "metadata": {},
   "source": [
    "def run():"
   ]
  },
  {
   "cell_type": "markdown",
   "metadata": {},
   "source": [
    "as functions but only those two. The rest should be lambdas, maps, and filters"
   ]
  },
  {
   "cell_type": "markdown",
   "metadata": {},
   "source": [
    "#### Why am I reusing past assignments\n",
    "\n",
    "I am not trying to be lazy writing these lessons. Yes coming up with good assignments is the most time-consuming part but I want you to realize there are many ways to write a program. Each approach will have advantages and disadvantages of course. I hope that by rewriting code you can get a feeling for what paths of attack suit a particular problem best.\n",
    "\n",
    "I also hope that if you redo a problem you will solve it in a better way and realize mistakes you made the first time."
   ]
  },
  {
   "cell_type": "markdown",
   "metadata": {},
   "source": [
    "## The task\n",
    "\n",
    "At the bottom of this module there is a variable called hw. This is a dict that contains names of students and info\n",
    "about their homework including the grade they earned and what time they submitted it.\n",
    "\n",
    "Some studnets turned their homework in late. For each hour they turned it in late remove 5% of their grade. Greate a master grade dict with the ajusted grades. If a student format to turn in their homework (the grade is None) then give them a 0.\n",
    "\n",
    "The homework was due on November 1st at 6pm (don't worry about the year).\n",
    "\n",
    "Your output should look like ...\n",
    "{\n",
    "    \"Amy\": {\n",
    "            \"Final Grade\": 39\n",
    "    },\n",
    "    \"Brad\": {\n",
    "            \"Final Grade: 0\n",
    "    }, ...\n",
    "}"
   ]
  },
  {
   "cell_type": "code",
   "execution_count": 9,
   "metadata": {},
   "outputs": [],
   "source": [
    "hw ={\n",
    "    \"Amy\": {\n",
    "        \"grade\": 64,\n",
    "        \"Time\": 1572676823.0\n",
    "    },\n",
    "    \"Brad\": {\n",
    "        \"grade\": None,\n",
    "        \"Time\": 1572677809.0\n",
    "    },\n",
    "    \"Alex\": {\n",
    "        \"grade\": 60,\n",
    "        \"Time\": 1572590298.0\n",
    "    },\n",
    "    \"Dillon\": {\n",
    "        \"grade\": None,\n",
    "        \"Time\": 1572591061.0\n",
    "    },\n",
    "    \"Rhianna\": {\n",
    "        \"grade\": 89,\n",
    "        \"Time\": 1572590301.0\n",
    "    },\n",
    "    \"Sara\": {\n",
    "        \"grade\": None,\n",
    "        \"Time\": 1572590639.0\n",
    "    },\n",
    "    \"Jordan\": {\n",
    "        \"grade\": 97,\n",
    "        \"Time\": 1572674570.0\n",
    "    },\n",
    "    \"Hannah\": {\n",
    "        \"grade\": None,\n",
    "        \"Time\": 1572591401.0\n",
    "    },\n",
    "    \"Abi\": {\n",
    "        \"grade\": 68,\n",
    "        \"Time\": 1572589751.0\n",
    "    },\n",
    "    \"Sam\": {\n",
    "        \"grade\": 72,\n",
    "        \"Time\": 1572591009.0\n",
    "    },\n",
    "    \"Cat\": {\n",
    "        \"grade\": 85,\n",
    "        \"Time\": 1572588399.0\n",
    "    },\n",
    "    \"Tomas\": {\n",
    "        \"grade\": None,\n",
    "        \"Time\": 1572588220.0\n",
    "    },\n",
    "    \"Ashly\": {\n",
    "        \"grade\": None,\n",
    "        \"Time\": 1572591074.0\n",
    "    }\n",
    "}"
   ]
  },
  {
   "cell_type": "code",
   "execution_count": null,
   "metadata": {},
   "outputs": [],
   "source": []
  }
 ],
 "metadata": {
  "kernelspec": {
   "display_name": "Python 3",
   "language": "python",
   "name": "python3"
  },
  "language_info": {
   "codemirror_mode": {
    "name": "ipython",
    "version": 3
   },
   "file_extension": ".py",
   "mimetype": "text/x-python",
   "name": "python",
   "nbconvert_exporter": "python",
   "pygments_lexer": "ipython3",
   "version": "3.7.3"
  }
 },
 "nbformat": 4,
 "nbformat_minor": 4
}
