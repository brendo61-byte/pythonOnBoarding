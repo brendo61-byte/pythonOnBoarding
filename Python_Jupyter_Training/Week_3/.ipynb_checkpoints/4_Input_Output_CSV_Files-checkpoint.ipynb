{
 "cells": [
  {
   "cell_type": "markdown",
   "metadata": {},
   "source": [
    "# What you will learn\n",
    "- What is a CSV file\n",
    "- Reading and writting on a csv file"
   ]
  },
  {
   "cell_type": "markdown",
   "metadata": {},
   "source": [
    "### CSV = Comma seperated values\n",
    "\n",
    "Chances are you have worked with .csv files before. There are simply values sperated by commas ...\n",
    "\n",
    "#### Note\n",
    "- All files used or created will be stored under week 3 in a folder called \"data\"\n",
    "\n",
    "Here is some exampe output:"
   ]
  },
  {
   "cell_type": "raw",
   "metadata": {},
   "source": [
    "data,timeStamp,dataType,units,sensorType,supervisorID\n",
    "35.18,03/22/2020-23:54:04,Humidity,%,BME280,2\n",
    "840.78,03/22/2020-23:54:04,Pressure,hPa,BME280,2\n",
    "1546.75,03/22/2020-23:54:04,Elevation,m,BME280,2\n",
    "176.6784452,03/22/2020-17:54:04,solar irradiance,w/m^2,ADC1115_Pyra,1\n",
    "0.035,03/22/2020-17:54:04,raw Voltage,V,ADC1115_Pyra,1\n",
    "17.25,03/22/2020-23:54:05,Temperature,C,BME280,2\n",
    "35.18,03/22/2020-23:54:05,Humidity,%,BME280,2\n",
    "840.84,03/22/2020-23:54:05,Pressure,hPa,BME280,2\n",
    "1546.24,03/22/2020-23:54:05,Elevation,m,BME280,2\n",
    "175.4164563,03/22/2020-17:54:06,solar irradiance,w/m^2,ADC1115_Pyra,1\n",
    "0.03475,03/22/2020-17:54:06,raw Voltage,V,ADC1115_Pyra,1\n",
    "17.23,03/22/2020-23:54:06,Temperature,C,BME280,2\n",
    "35.16,03/22/2020-23:54:06,Humidity,%,BME280,2\n",
    "840.73,03/22/2020-23:54:06,Pressure,hPa,BME280,2\n",
    "1547.14,03/22/2020-23:54:06,Elevation,m,BME280,2\n",
    "176.0474508,03/22/2020-17:54:07,solar irradiance,w/m^2,ADC1115_Pyra,1\n",
    "0.034875,03/22/2020-17:54:07,raw Voltage,V,ADC1115_Pyra,1\n",
    "17.24,03/22/2020-23:54:07,Temperature,C,BME280,2\n",
    "34.98,03/22/2020-23:54:07,Humidity,%,BME280,2\n",
    "840.67,03/22/2020-23:54:07,Pressure,hPa,BME280,2"
   ]
  },
  {
   "cell_type": "markdown",
   "metadata": {},
   "source": [
    "If this kinda looks like data in excel that is because excel spread-sheets can be exported as .csv files.\n",
    "\n",
    "Above each column for a given row has a distinction. The first row shown above are the column headers - i.e. the name of each column. We'll show how to work with this data but first the basics:\n",
    "\n",
    "## Reading a CSV file"
   ]
  },
  {
   "cell_type": "code",
   "execution_count": 9,
   "metadata": {},
   "outputs": [
    {
     "name": "stdout",
     "output_type": "stream",
     "text": [
      "['data', 'timeStamp', 'dataType', 'units', 'sensorType', 'supervisorID']\n",
      "['218.3240787', '03/22/2020-17:38:38', 'solar irradiance', 'w/m^2', 'ADC1115_Pyra', '1']\n",
      "['0.04325', '03/22/2020-17:38:38', 'raw Voltage', 'V', 'ADC1115_Pyra', '1']\n",
      "['17.67', '03/22/2020-23:38:39', 'Temperature', 'C', 'BME280', '2']\n",
      "['35.05', '03/22/2020-23:38:39', 'Humidity', '%', 'BME280', '2']\n",
      "['840.43', '03/22/2020-23:38:39', 'Pressure', 'hPa', 'BME280', '2']\n",
      "['1550.4', '03/22/2020-23:38:39', 'Elevation', 'm', 'BME280', '2']\n",
      "['218.3240787', '03/22/2020-17:38:39', 'solar irradiance', 'w/m^2', 'ADC1115_Pyra', '1']\n",
      "['0.04325', '03/22/2020-17:38:39', 'raw Voltage', 'V', 'ADC1115_Pyra', '1']\n",
      "['17.68', '03/22/2020-23:38:40', 'Temperature', 'C', 'BME280', '2']\n"
     ]
    }
   ],
   "source": [
    "import csv\n",
    "import os\n",
    "\n",
    "def run():\n",
    "    with open(\"./data/example1.csv\", \"r\") as csvFile: # the \"r\" means read\n",
    "        fileReader = csv.reader(csvFile)\n",
    "\n",
    "        i = 0\n",
    "        for row in fileReader:\n",
    "            print(row)\n",
    "            i += 1\n",
    "\n",
    "            if i == 10:\n",
    "                break\n",
    "            \n",
    "if __name__==\"__main__\":\n",
    "    run()"
   ]
  },
  {
   "cell_type": "markdown",
   "metadata": {},
   "source": [
    "#### Note\n",
    "- The \"if i == 10\" break is just so all 5001 rows are not printed\n",
    "- the \"r\" tells the file to be opened for reading only"
   ]
  },
  {
   "cell_type": "markdown",
   "metadata": {},
   "source": [
    "### What is the \"with open\"\n",
    "\n",
    "To operate (meaning to read or to write) on a file that file has to be accessed. This involves opening the file. But what happens when you are done? That file needs to be closed. This is where \"with\" comes in. It is a context manager meaning that when you fall out of the with indentation the file will automatically be closed.\n",
    "\n",
    "You cannot write to a file that another program is using - this is like two people trying to use the remote at the same time; chaoas and confusion will result. Context mangers allow clean closing of files without having to explicitly state that the file closes.\n",
    "\n",
    "We could write the above code as seen below - but THIS IS BAD FORM!"
   ]
  },
  {
   "cell_type": "code",
   "execution_count": 6,
   "metadata": {},
   "outputs": [
    {
     "name": "stdout",
     "output_type": "stream",
     "text": [
      "['data', 'timeStamp', 'dataType', 'units', 'sensorType', 'supervisorID']\n",
      "['218.3240787', '03/22/2020-17:38:38', 'solar irradiance', 'w/m^2', 'ADC1115_Pyra', '1']\n",
      "['0.04325', '03/22/2020-17:38:38', 'raw Voltage', 'V', 'ADC1115_Pyra', '1']\n",
      "['17.67', '03/22/2020-23:38:39', 'Temperature', 'C', 'BME280', '2']\n",
      "['35.05', '03/22/2020-23:38:39', 'Humidity', '%', 'BME280', '2']\n",
      "['840.43', '03/22/2020-23:38:39', 'Pressure', 'hPa', 'BME280', '2']\n",
      "['1550.4', '03/22/2020-23:38:39', 'Elevation', 'm', 'BME280', '2']\n",
      "['218.3240787', '03/22/2020-17:38:39', 'solar irradiance', 'w/m^2', 'ADC1115_Pyra', '1']\n",
      "['0.04325', '03/22/2020-17:38:39', 'raw Voltage', 'V', 'ADC1115_Pyra', '1']\n",
      "['17.68', '03/22/2020-23:38:40', 'Temperature', 'C', 'BME280', '2']\n"
     ]
    }
   ],
   "source": [
    "# this is bad code\n",
    "csvFile = open(\"./data/example1.csv\")\n",
    "\n",
    "fileReader = csv.reader(csvFile)\n",
    "\n",
    "i = 0\n",
    "for row in fileReader:\n",
    "    print(row)\n",
    "    i += 1\n",
    "\n",
    "    if i == 10:\n",
    "        break\n",
    "\n",
    "csvFile.close()"
   ]
  },
  {
   "cell_type": "markdown",
   "metadata": {},
   "source": [
    "## Writing to a CSV file\n",
    "\n",
    "Above we used \"r\" to read from a file. Well now that becomes \"w\" to write.\n",
    "\n",
    "#### Important\n",
    "If you write to a file that already exists then the file will be overwritten. There will be no warning as with many office tools saying you are about to overwrite something.\n",
    "\n",
    "If you with to add something to a csv file we will cover that below."
   ]
  },
  {
   "cell_type": "code",
   "execution_count": 36,
   "metadata": {},
   "outputs": [
    {
     "name": "stdout",
     "output_type": "stream",
     "text": [
      "['data', 'timeStamp', 'dataType']\n",
      "['100', '1586128830.8706567', 'random Float']\n",
      "['7', '1586128830.870685', 'random Float']\n",
      "['23', '1586128830.8707', 'random Float']\n",
      "['95', '1586128830.8707128', 'random Float']\n",
      "['17', '1586128830.8707256', 'random Float']\n",
      "['25', '1586128830.870738', 'random Float']\n",
      "['27', '1586128830.8707497', 'random Float']\n",
      "['1', '1586128830.8707626', 'random Float']\n",
      "['3', '1586128830.8707747', 'random Float']\n",
      "['50', '1586128830.870787', 'random Float']\n"
     ]
    }
   ],
   "source": [
    "import csv\n",
    "import os\n",
    "import time\n",
    "import random\n",
    "\n",
    "HEADERS = ['data', 'timeStamp', 'dataType']\n",
    "\n",
    "def makeRow(): # random data to put in csv\n",
    "    return [random.randint(0,101), time.time(), \"random Float\"]\n",
    "    \n",
    "\n",
    "def makeFile(): # makes a csv\n",
    "    with open(\"./data/example2.csv\", \"w\") as csvFile: # the \"w\" means write\n",
    "        fileWriter = csv.writer(csvFile)\n",
    "        \n",
    "        fileWriter.writerow(HEADERS)\n",
    "        \n",
    "        for i in range(10):\n",
    "            fileWriter.writerow(makeRow())\n",
    "            \n",
    "\n",
    "def readFile(): # read from the csv you created to see it!\n",
    "    with open(\"./data/example2.csv\", \"r\") as csvFile:\n",
    "        fileReader = csv.reader(csvFile)\n",
    "\n",
    "        for row in fileReader:\n",
    "            print(row)\n",
    "            \n",
    "if __name__==\"__main__\":\n",
    "    makeFile()\n",
    "    readFile()"
   ]
  },
  {
   "cell_type": "markdown",
   "metadata": {},
   "source": [
    "#### Note\n",
    "- If you re-run the above bit of code you will notice that the all the values change\n",
    "- This is, again, because the \"w\" mode will overwrite your files!\n",
    "- Please don't accedently overwrite the results of an experiment have to redo it ... "
   ]
  },
  {
   "cell_type": "markdown",
   "metadata": {},
   "source": [
    "## From csv to list of dics\n",
    "\n",
    "Often it is good to organize data in a csv to a list of dics. This is easier to later operate on"
   ]
  },
  {
   "cell_type": "code",
   "execution_count": 34,
   "metadata": {},
   "outputs": [
    {
     "name": "stdout",
     "output_type": "stream",
     "text": [
      "[{'data': '77', 'timeStamp': '1586127437.9168706', 'dataType': 'random Float'}, {'data': '99', 'timeStamp': '1586127437.9168973', 'dataType': 'random Float'}, {'data': '71', 'timeStamp': '1586127437.9169118', 'dataType': 'random Float'}, {'data': '72', 'timeStamp': '1586127437.9169242', 'dataType': 'random Float'}, {'data': '9', 'timeStamp': '1586127437.9169366', 'dataType': 'random Float'}, {'data': '85', 'timeStamp': '1586127437.9169497', 'dataType': 'random Float'}, {'data': '75', 'timeStamp': '1586127437.9169614', 'dataType': 'random Float'}, {'data': '21', 'timeStamp': '1586127437.916973', 'dataType': 'random Float'}, {'data': '75', 'timeStamp': '1586127437.9169855', 'dataType': 'random Float'}, {'data': '47', 'timeStamp': '1586127437.9169977', 'dataType': 'random Float'}]\n"
     ]
    }
   ],
   "source": [
    "# we'll take the values that you just created in the above code and turn them into the list of dics!\n",
    "\n",
    "def csvToDict(csvData):\n",
    "    headers = next(csvData)  # next will push the iterable object one forword\n",
    "    \n",
    "    data = list(map(lambda row: dict(zip(headers, row)) , csvData))\n",
    "    \n",
    "    return data\n",
    "\n",
    "\n",
    "def run(): # read from the csv you created to see it!\n",
    "    with open(\"./data/example2.csv\", \"r\") as csvFile:\n",
    "        fileReader = csv.reader(csvFile)\n",
    "        listOfDics = csvToDict(fileReader)\n",
    "        \n",
    "        print(listOfDics)\n",
    "        \n",
    "            \n",
    "if __name__==\"__main__\":\n",
    "    run()"
   ]
  },
  {
   "cell_type": "markdown",
   "metadata": {},
   "source": [
    "## Appending a csv file\n",
    "\n",
    "Let's take the csv file you created above and append it with 10 more rows"
   ]
  },
  {
   "cell_type": "code",
   "execution_count": 37,
   "metadata": {},
   "outputs": [
    {
     "name": "stdout",
     "output_type": "stream",
     "text": [
      "['data', 'timeStamp', 'dataType']\n",
      "['100', '1586128830.8706567', 'random Float']\n",
      "['7', '1586128830.870685', 'random Float']\n",
      "['23', '1586128830.8707', 'random Float']\n",
      "['95', '1586128830.8707128', 'random Float']\n",
      "['17', '1586128830.8707256', 'random Float']\n",
      "['25', '1586128830.870738', 'random Float']\n",
      "['27', '1586128830.8707497', 'random Float']\n",
      "['1', '1586128830.8707626', 'random Float']\n",
      "['3', '1586128830.8707747', 'random Float']\n",
      "['50', '1586128830.870787', 'random Float']\n",
      "['29', '1586128842.588033', 'random Float']\n",
      "['31', '1586128842.5880682', 'random Float']\n",
      "['37', '1586128842.588084', 'random Float']\n",
      "['21', '1586128842.588097', 'random Float']\n",
      "['82', '1586128842.5881093', 'random Float']\n",
      "['56', '1586128842.5881224', 'random Float']\n",
      "['58', '1586128842.5881343', 'random Float']\n",
      "['22', '1586128842.5881467', 'random Float']\n",
      "['97', '1586128842.5881586', 'random Float']\n",
      "['57', '1586128842.588171', 'random Float']\n"
     ]
    }
   ],
   "source": [
    "import csv\n",
    "import os\n",
    "import time\n",
    "import random\n",
    "\n",
    "HEADERS = ['data', 'timeStamp', 'dataType']\n",
    "\n",
    "def makeRow(): # random data to put in csv\n",
    "    return [random.randint(0,101), time.time(), \"random Float\"]\n",
    "    \n",
    "\n",
    "def makeFile(): # makes a csv\n",
    "    with open(\"./data/example2.csv\", \"a\") as csvFile: # the \"a\" means append\n",
    "        fileWriter = csv.writer(csvFile)\n",
    "        \n",
    "        for i in range(10):\n",
    "            fileWriter.writerow(makeRow())\n",
    "            \n",
    "\n",
    "def readFile(): # read from the csv you created to see it!\n",
    "    with open(\"./data/example2.csv\", \"r\") as csvFile:\n",
    "        fileReader = csv.reader(csvFile)\n",
    "\n",
    "        for row in fileReader:\n",
    "            print(row)\n",
    "            \n",
    "if __name__==\"__main__\":\n",
    "    makeFile()\n",
    "    readFile()"
   ]
  },
  {
   "cell_type": "markdown",
   "metadata": {},
   "source": [
    "#### Note\n",
    "- Yep, it is that simple to append. Just change \"w\" to \"a\"\n",
    "- If you try to append a file that does not exist then that file will be created for you"
   ]
  },
  {
   "cell_type": "markdown",
   "metadata": {},
   "source": [
    "#### Note\n",
    "- There are some other options besides \"r\", \"w\", \"a\" but those three should work for now. Just know ther are a few more.\n",
    "    - See here for details: https://docs.python.org/3/library/functions.html#open"
   ]
  },
  {
   "cell_type": "markdown",
   "metadata": {},
   "source": [
    "# What you need to do\n",
    "\n",
    "- Read in the csv file from example1.csv\n",
    "- Turn it into a list of dicts\n",
    "- Replace all timeStamps with their equivalent time since epoch value\n",
    "- Find the mean of the timeStamps\n",
    "- Discard all data points that have timeStamps lower thean the that mean\n",
    "- Write all data points that have a sensorType of \"BME280\" to a .csv file called \"BME280\" that is in the \"data folder\"\n",
    "- Write all data points that have a sensorType of \"ADC1115_Pyra\" to a .csv file called \"ADC1115_Pyra\" that is in the \"data folder\""
   ]
  },
  {
   "cell_type": "code",
   "execution_count": null,
   "metadata": {},
   "outputs": [],
   "source": []
  }
 ],
 "metadata": {
  "kernelspec": {
   "display_name": "Python 3",
   "language": "python",
   "name": "python3"
  },
  "language_info": {
   "codemirror_mode": {
    "name": "ipython",
    "version": 3
   },
   "file_extension": ".py",
   "mimetype": "text/x-python",
   "name": "python",
   "nbconvert_exporter": "python",
   "pygments_lexer": "ipython3",
   "version": "3.7.3"
  }
 },
 "nbformat": 4,
 "nbformat_minor": 4
}
