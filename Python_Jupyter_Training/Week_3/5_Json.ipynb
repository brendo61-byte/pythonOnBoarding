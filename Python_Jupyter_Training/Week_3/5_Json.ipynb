{
 "cells": [
  {
   "cell_type": "markdown",
   "metadata": {},
   "source": [
    "# What you will learn\n",
    "- JSON files\n",
    "- Reading and writting JSON files\n",
    "- Using JSON as a config for your Python program"
   ]
  },
  {
   "cell_type": "markdown",
   "metadata": {},
   "source": [
    "JSON stands for JavaScript Object Notation. It is a comman way to format data. Below is an example of a JSON file used in a data collection sensor"
   ]
  },
  {
   "cell_type": "raw",
   "metadata": {},
   "source": [
    "{\n",
    "    \"launcher\": {\n",
    "        \"args\": {\n",
    "            \"supervisorList\": [\n",
    "                {\n",
    "                    \"supervisorType\": \"ADC1115_Pyra\",\n",
    "                    \"supervisorID\": 2,\n",
    "                    \"customConfig\": null,\n",
    "                    \"globalID\": 1\n",
    "                }\n",
    "            ]\n",
    "        }\n",
    "    },\n",
    "    \"commandControl\": {\n",
    "        \"args\": {\n",
    "            \"heartBeatInterval\": 60,\n",
    "            \"commandServerEndPoint\": \"http://18.221.181.138/command/device/getCommands\"\n",
    "        }\n",
    "    },\n",
    "    \"dataControl\": {\n",
    "        \"args\": {\n",
    "            \"updateInterval\": 60,\n",
    "            \"dataIngestion_URL\": \"http://18.221.181.138/data/device/dataIngestion\",\n",
    "            \"callBack_URL\": \"http://18.221.181.138/data/devicecallBack\",\n",
    "            \"destination\": \"self.localData/dataRepo.json\",\n",
    "            \"localData\": \"Local_Data/\",\n",
    "            \"localFileName\": \"localCSV.csv\"\n",
    "        }\n",
    "    },\n",
    "    \"managementController\": {\n",
    "        \"args\": {\n",
    "            \"updateInterval\": 1,\n",
    "            \"registrationURL\": \"http://18.221.181.138/management/device/supervisorRegistration\"\n",
    "        }\n",
    "    },\n",
    "    \"logLevel\": \"DEBUG\",\n",
    "    \"test\": false,\n",
    "    \"threadLimit\": 10,\n",
    "    \"deviceID\": 1\n",
    "}"
   ]
  },
  {
   "cell_type": "markdown",
   "metadata": {},
   "source": [
    "#### Note\n",
    "- Does this formatting look familar?\n",
    "- That is becuase Python dictionaries are almost the same as JSON\n",
    "- Infact we can load in a JSON file as a dictionary!"
   ]
  },
  {
   "cell_type": "code",
   "execution_count": 3,
   "metadata": {},
   "outputs": [
    {
     "name": "stdout",
     "output_type": "stream",
     "text": [
      "<class 'dict'>\n",
      "\n",
      "{'launcher': {'args': {'supervisorList': [{'supervisorType': 'ADC1115_Pyra', 'supervisorID': 2, 'customConfig': None, 'globalID': 1}]}}, 'commandControl': {'args': {'heartBeatInterval': 60, 'commandServerEndPoint': 'http://18.221.181.138/command/device/getCommands'}}, 'dataControl': {'args': {'updateInterval': 60, 'dataIngestion_URL': 'http://18.221.181.138/data/device/dataIngestion', 'callBack_URL': 'http://18.221.181.138/data/devicecallBack', 'destination': 'self.localData/dataRepo.json', 'localData': 'Local_Data/', 'localFileName': 'localCSV.csv'}}, 'managementController': {'args': {'updateInterval': 1, 'registrationURL': 'http://18.221.181.138/management/device/supervisorRegistration'}}, 'logLevel': 'DEBUG', 'test': False, 'threadLimit': 10, 'deviceID': 1}\n",
      "\n",
      "\n"
     ]
    }
   ],
   "source": [
    "# all files for this lesson should go in the same \"data\" folder as before with .csv\n",
    "# we will load the above json example\n",
    "import json\n",
    "\n",
    "\n",
    "CONFIG_PATH = \"./data/deviceConfig.json\"\n",
    "\n",
    "\n",
    "with open(CONFIG_PATH) as configFile:\n",
    "    config = json.load(configFile)\n",
    "    \n",
    "    print(\"{}\\n\\n{}\\n\\n\".format(type(config), config))\n"
   ]
  },
  {
   "cell_type": "markdown",
   "metadata": {},
   "source": [
    "### Let's pull a JSON and use it as a configuration file"
   ]
  },
  {
   "cell_type": "raw",
   "metadata": {},
   "source": [
    "{\n",
    "  \"test\": {\n",
    "    \"interval\": 1,\n",
    "    \"duration\": 5,\n",
    "    \"lowEnd\": 0,\n",
    "    \"highEnd\": 100\n",
    "  }\n",
    "}"
   ]
  },
  {
   "cell_type": "markdown",
   "metadata": {},
   "source": [
    "This the config we will use"
   ]
  },
  {
   "cell_type": "code",
   "execution_count": 7,
   "metadata": {},
   "outputs": [
    {
     "name": "stdout",
     "output_type": "stream",
     "text": [
      "[80, 61, 62, 53, 55]\n"
     ]
    }
   ],
   "source": [
    "import json\n",
    "import time\n",
    "import random\n",
    "\n",
    "CONFIG_PATH = \"./data/config.json\"\n",
    "\n",
    "def test(interval, duration, lowEnd, highEnd):\n",
    "    testResults = []\n",
    "    \n",
    "    endTime = time.time() + duration\n",
    "    \n",
    "    while time.time() < endTime:\n",
    "        testResults.append(random.randint(lowEnd, highEnd + 1)) # we do highend + 1 b/c the high end is exclusive and users don't want to have to think aobut these things\n",
    "       \n",
    "        time.sleep(interval)\n",
    "        \n",
    "    return testResults\n",
    "\n",
    "\n",
    "if __name__==\"__main__\":\n",
    "    with open(CONFIG_PATH) as configFile:\n",
    "        config = json.load(configFile)\n",
    "        \n",
    "    results = test(**config[\"test\"])\n",
    "    \n",
    "    print(results)\n"
   ]
  },
  {
   "cell_type": "markdown",
   "metadata": {},
   "source": [
    "#### Note\n",
    "\n",
    "This is super powerful. This is a basic example but realize you can set parameters to complex functions with simple syntax.\n",
    "\n",
    "Meaning that if you need to ajust a test of functionality you don't edit code: you edit a configuration file. This makes maintaining larger programs easier and simplifies the process for non-software people to work with."
   ]
  },
  {
   "cell_type": "markdown",
   "metadata": {},
   "source": [
    "## Writing to a .json file"
   ]
  },
  {
   "cell_type": "code",
   "execution_count": 12,
   "metadata": {},
   "outputs": [
    {
     "name": "stdout",
     "output_type": "stream",
     "text": [
      "{'testStartTime': 1586141211.7606425, 'results': [15, 59, 94, 81, 35]}\n"
     ]
    }
   ],
   "source": [
    "import json\n",
    "import time\n",
    "import random\n",
    "\n",
    "CONFIG_PATH = \"./data/config.json\"\n",
    "\n",
    "\n",
    "def save(data, saveFile):\n",
    "    with open(saveFile, \"w\") as saver:\n",
    "        json.dump(data, saver)\n",
    "\n",
    "\n",
    "def test(interval, duration, lowEnd, highEnd, saveFile):\n",
    "    testResults = {\"testStartTime\": time.time()}\n",
    "    \n",
    "    tempData = []\n",
    "    \n",
    "    endTime = time.time() + duration\n",
    "    \n",
    "    while time.time() < endTime:\n",
    "        tempData.append(random.randint(lowEnd, highEnd + 1)) # we do highend + 1 b/c the high end is exclusive and users don't want to have to think aobut these things\n",
    "       \n",
    "        time.sleep(interval)\n",
    "        \n",
    "    testResults.update({\"results\": tempData})\n",
    "        \n",
    "    save(testResults, saveFile)\n",
    "\n",
    "    \n",
    "def viewResults(saveFile):\n",
    "    with open(saveFile, \"r\") as resultsFile:\n",
    "        results = json.load(resultsFile)\n",
    "        \n",
    "        print(results)\n",
    "    \n",
    "\n",
    "if __name__==\"__main__\":\n",
    "    with open(CONFIG_PATH, \"r\") as configFile:\n",
    "        config = json.load(configFile)\n",
    "        \n",
    "    saveFile = \"./data/results.json\"\n",
    "        \n",
    "    test(**config[\"test\"],  saveFile=saveFile)\n",
    "    \n",
    "    viewResults(saveFile)\n"
   ]
  },
  {
   "cell_type": "markdown",
   "metadata": {},
   "source": [
    "#### Note\n",
    "- I hope witht the above we can begin to see how a \"real\" program would be run\n",
    "- We have been using the \"r\" and \"w\" but we can use \"a\" as with csv"
   ]
  },
  {
   "cell_type": "markdown",
   "metadata": {},
   "source": [
    "# What you need to do\n",
    "\n",
    "Create a program that does the following:\n",
    "- samples a fake tempature sensor once every n seconds\n",
    "    - each sample should be a dict with the following keys: [timeStamp, \"dataValue\"]\n",
    "    - timeStamp should be a string of the current time, day, month, and year\n",
    "    - dataValue should be a random int between 0 and 100\n",
    "    - each sample will go into a list\n",
    "- sampling will go on for x seconds\n",
    "- once done with sampling write the data to a csv file\n",
    "    - the keys of the samples will be used as the column headers\n",
    "    - followed by all the datawith in the list of samples\n",
    "- only use one global variable to set the path of a config.json file\n",
    "    - this config should pass in a value for n, x, and a location to save the data "
   ]
  },
  {
   "cell_type": "code",
   "execution_count": null,
   "metadata": {},
   "outputs": [],
   "source": []
  }
 ],
 "metadata": {
  "kernelspec": {
   "display_name": "Python 3",
   "language": "python",
   "name": "python3"
  },
  "language_info": {
   "codemirror_mode": {
    "name": "ipython",
    "version": 3
   },
   "file_extension": ".py",
   "mimetype": "text/x-python",
   "name": "python",
   "nbconvert_exporter": "python",
   "pygments_lexer": "ipython3",
   "version": "3.7.3"
  }
 },
 "nbformat": 4,
 "nbformat_minor": 4
}
