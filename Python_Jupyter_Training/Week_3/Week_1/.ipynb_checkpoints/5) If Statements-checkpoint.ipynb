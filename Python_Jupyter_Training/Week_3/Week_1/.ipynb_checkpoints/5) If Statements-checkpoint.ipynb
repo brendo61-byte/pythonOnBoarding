{
 "cells": [
  {
   "cell_type": "markdown",
   "metadata": {},
   "source": [
    "## What you will learn:\n",
    "- What is an if statement\n",
    "- How does this relate to boolean logic\n",
    "- Using if to check conditions\n",
    "- dealing with else\n",
    "- dealing with ifelse"
   ]
  },
  {
   "cell_type": "markdown",
   "metadata": {},
   "source": [
    "### What is an if statement\n",
    "Okay, let's say your mom said \"If you clean your room you can have a cookie\" what is going on here. You have been given a statement: is room clean? \n",
    "\n",
    "Now if the room is clean (if the statement is True) then you get a cookie. If the room is\n",
    "not clean (the statement is False) then you don't get the cookie!\n",
    "\n",
    "Let's show this in code."
   ]
  },
  {
   "cell_type": "code",
   "execution_count": 1,
   "metadata": {},
   "outputs": [
    {
     "name": "stdout",
     "output_type": "stream",
     "text": [
      "You cleaned your room. You can have a cookie\n"
     ]
    }
   ],
   "source": [
    "cleanRoom = True\n",
    "\n",
    "if cleanRoom:\n",
    "    print(\"You cleaned your room. You can have a cookie\")"
   ]
  },
  {
   "cell_type": "markdown",
   "metadata": {},
   "source": [
    "#### A few points here\n",
    "- Note that there is a colon at the end of the if statment\n",
    "- The code under the if statment is indented\n",
    "- This code under the if statment will only be executed when the if statment evaluates to true"
   ]
  },
  {
   "cell_type": "code",
   "execution_count": 3,
   "metadata": {},
   "outputs": [
    {
     "name": "stdout",
     "output_type": "stream",
     "text": [
      "This code will run becuase the if statment evaluates to true\n",
      "This code will run though\n"
     ]
    }
   ],
   "source": [
    "# Example 1\n",
    "if True:\n",
    "    print(\"This code will run becuase the if statment evaluates to true\")\n",
    "\n",
    "# Example 2\n",
    "if False:\n",
    "    print(\"This code will not run\")\n",
    "\n",
    "# Example 3\n",
    "if not False:\n",
    "    print(\"This code will run also because not False is True\")"
   ]
  },
  {
   "cell_type": "markdown",
   "metadata": {},
   "source": [
    "#### A few more examples\n",
    "- We can also use Boolean logic with 'or' / 'and'"
   ]
  },
  {
   "cell_type": "code",
   "execution_count": 4,
   "metadata": {},
   "outputs": [
    {
     "name": "stdout",
     "output_type": "stream",
     "text": [
      "True or False is True\n",
      "True and True is True\n"
     ]
    }
   ],
   "source": [
    "# Example 4\n",
    "if True or False:\n",
    "    print(\"True or False is True\")\n",
    "    \n",
    "if True and True:\n",
    "    print(\"True and True is True\")\n",
    "    "
   ]
  },
  {
   "cell_type": "markdown",
   "metadata": {},
   "source": [
    "### if else\n",
    "\n",
    "Okay so what if we want to do something when a condition failes? We can use if followed by else! See below"
   ]
  },
  {
   "cell_type": "code",
   "execution_count": 8,
   "metadata": {},
   "outputs": [
    {
     "name": "stdout",
     "output_type": "stream",
     "text": [
      "You are too young too drink alcohol :(\n"
     ]
    }
   ],
   "source": [
    "age = 20\n",
    "drinkingAge = 21\n",
    "\n",
    "if age >= drinkingAge:\n",
    "    print(\"You can go to the bars!\")\n",
    "    \n",
    "else:\n",
    "    print(\"You are too young too drink alcohol :(\")"
   ]
  },
  {
   "cell_type": "markdown",
   "metadata": {},
   "source": [
    "### Checking a tolerance\n",
    "\n",
    "Often with data we want to make sure that a value is in tolernace. Let's do an example of this"
   ]
  },
  {
   "cell_type": "code",
   "execution_count": 9,
   "metadata": {},
   "outputs": [
    {
     "name": "stdout",
     "output_type": "stream",
     "text": [
      "Reading within tolerance\n"
     ]
    }
   ],
   "source": [
    "maxTemp = 75\n",
    "minTemp = 15\n",
    "\n",
    "reading = 67\n",
    "\n",
    "if reading < minTemp or reading > maxTemp:\n",
    "    print(\"WARNING: Reading out of tolerance\")\n",
    "    \n",
    "else:\n",
    "    print(\"Reading within tolerance\")"
   ]
  },
  {
   "cell_type": "markdown",
   "metadata": {},
   "source": [
    "### if, elif, else\n",
    "\n",
    "Let's say we want to check mulible conditions - such as sorting though data. To do this we can use if, elseif, and else.\n",
    "\n",
    "##### What does this do?\n",
    "\n",
    "if <case 1>:\n",
    "    program will go here\n",
    "    then be done with if statment\n",
    "\n",
    "elif <case 2>\n",
    "    program will go here\n",
    "    then be done\n",
    "    \n",
    "else:\n",
    "    program will go here\n",
    "    \n",
    "##### Why does this matter?\n",
    "\n",
    "Elif is Python's way of saying \"if the previous conditions were not true, then try this condition\".\n",
    "\n",
    "\n",
    "#### Example:\n",
    "Okay for this I rated coins based on their size:\n",
    "\n",
    "- penny = 2\n",
    "- dime = 1\n",
    "- nickle = 3\n",
    "- quarter = 4\n",
    "- silver-dollar = 5\n",
    "\n",
    "You can change the value of the variable \"coin\" below. "
   ]
  },
  {
   "cell_type": "code",
   "execution_count": 11,
   "metadata": {},
   "outputs": [
    {
     "name": "stdout",
     "output_type": "stream",
     "text": [
      "It's a nickle\n"
     ]
    }
   ],
   "source": [
    "coin = 3\n",
    "\n",
    "if 1 >= coin:\n",
    "    print(\"It's a dime\")\n",
    "elif 2 >= coin:\n",
    "    print(\"It's a penny\")\n",
    "elif 3 >= coin:\n",
    "    print(\"It's a nickle\")\n",
    "elif 4 >= coin:\n",
    "    print(\"It's a quarter\")\n",
    "else:\n",
    "    print(\"It's a half dollar\")"
   ]
  },
  {
   "cell_type": "markdown",
   "metadata": {},
   "source": [
    "### Nested if-statments\n",
    "\n",
    "Often we need to check mulible conditions. To do this we can use nested if-statments. BECAREFULL with these as they can get ugly fast.\n",
    "\n",
    "Nested if-statments can get complicated quick. They can be a major source of bugs and hard to read for other programmers."
   ]
  },
  {
   "cell_type": "markdown",
   "metadata": {},
   "source": [
    "#### An okay nested if-statement"
   ]
  },
  {
   "cell_type": "code",
   "execution_count": 14,
   "metadata": {},
   "outputs": [
    {
     "ename": "NameError",
     "evalue": "name 'weekDay' is not defined",
     "output_type": "error",
     "traceback": [
      "\u001b[0;31m---------------------------------------------------------------------------\u001b[0m",
      "\u001b[0;31mNameError\u001b[0m                                 Traceback (most recent call last)",
      "\u001b[0;32m<ipython-input-14-7af0a1c8d9f6>\u001b[0m in \u001b[0;36m<module>\u001b[0;34m\u001b[0m\n\u001b[0;32m----> 1\u001b[0;31m \u001b[0;32mif\u001b[0m \u001b[0mweekDay\u001b[0m\u001b[0;34m:\u001b[0m\u001b[0;34m\u001b[0m\u001b[0;34m\u001b[0m\u001b[0m\n\u001b[0m\u001b[1;32m      2\u001b[0m     \u001b[0;32mif\u001b[0m \u001b[0mdayTime\u001b[0m\u001b[0;34m:\u001b[0m\u001b[0;34m\u001b[0m\u001b[0;34m\u001b[0m\u001b[0m\n\u001b[1;32m      3\u001b[0m         \u001b[0mprint\u001b[0m\u001b[0;34m(\u001b[0m\u001b[0;34m\"I'm in school\"\u001b[0m\u001b[0;34m)\u001b[0m\u001b[0;34m\u001b[0m\u001b[0;34m\u001b[0m\u001b[0m\n\u001b[1;32m      4\u001b[0m     \u001b[0;32mif\u001b[0m \u001b[0mnightTime\u001b[0m\u001b[0;34m:\u001b[0m\u001b[0;34m\u001b[0m\u001b[0;34m\u001b[0m\u001b[0m\n\u001b[1;32m      5\u001b[0m         \u001b[0mprint\u001b[0m\u001b[0;34m(\u001b[0m\u001b[0;34m\"I'm studying\"\u001b[0m\u001b[0;34m)\u001b[0m\u001b[0;34m\u001b[0m\u001b[0;34m\u001b[0m\u001b[0m\n",
      "\u001b[0;31mNameError\u001b[0m: name 'weekDay' is not defined"
     ]
    }
   ],
   "source": [
    "weekDay = True\n",
    "dayTime = False\n",
    "\n",
    "\n",
    "if weekDay:\n",
    "    if dayTime:\n",
    "        print(\"I'm in school\")\n",
    "    else:\n",
    "        print(\"I'm studying\")"
   ]
  },
  {
   "cell_type": "markdown",
   "metadata": {},
   "source": [
    "#### A TERRIBLE nested if-statement\n",
    "\n",
    "Please NEVER write an if-statment like this ... life will be so much better"
   ]
  },
  {
   "cell_type": "code",
   "execution_count": 17,
   "metadata": {},
   "outputs": [
    {
     "name": "stdout",
     "output_type": "stream",
     "text": [
      "Band practice at 7pm\n",
      "Go to bed ealy\n"
     ]
    }
   ],
   "source": [
    "weekDay = True\n",
    "Monday = True\n",
    "dayTime = False\n",
    "rainedYesterday = True\n",
    "firstMondayOfMonth = True\n",
    "sencondMondayOfMonth = True\n",
    "fithMondayOfMonth = True\n",
    "holiday = False\n",
    "\n",
    "\n",
    "if weekDay:\n",
    "    if Monday:\n",
    "        if dayTime:\n",
    "            if rainedYesterday:\n",
    "                print(\"Wear a hoodie to class\")\n",
    "            else:\n",
    "                print(\"Wear short sleaves to class\")\n",
    "        else:\n",
    "            if firstMondayOfMonth or sencondMondayOfMonth:\n",
    "                print(\"Band practice at 7pm\")\n",
    "            if fithMondayOfMonth:\n",
    "                if holiday:\n",
    "                    print(\"Celibrate Holiday\")\n",
    "                else:\n",
    "                    print(\"Go to bed ealy\")\n",
    "            else:\n",
    "                print(\"Cook dinner\")"
   ]
  },
  {
   "cell_type": "markdown",
   "metadata": {},
   "source": [
    "## What you need to do:\n",
    "\n",
    "#### 1)\n",
    "\n",
    "- take in input x, where x is an int\n",
    "- checks if x is divisible by 3 (with no remainder)\n",
    "- checks if x is divisible by 5 (with no remainder)\n",
    "\n",
    "#### 2)\n",
    "- take in input y, where x is an int\n",
    "- if y is divisible by 3 and 5 prints \"divisible by 3 and 5\"\n",
    "- if y is only divisible by 3 prints \"divisible by 3\"\n",
    "- if y is only divisible by 5 print \"divisible by 5\"\n",
    "- if y is neither divisible by 5 or 3 then prints the value of x\n",
    "\n",
    "###### EX\n",
    "- Input = 15\n",
    "- Output = \"divisible by 3 and 5\"\n",
    "\n",
    "###### EX\n",
    "- Input = 9\n",
    "- Output = \"divisible by 3\"\n",
    "\n",
    "###### EX\n",
    "- Input = 10\n",
    "- Output = \"divisible by 5\"\n",
    "\n",
    "###### EX\n",
    "- Input = 4\n",
    "- Output = 4"
   ]
  }
 ],
 "metadata": {
  "kernelspec": {
   "display_name": "Python 3",
   "language": "python",
   "name": "python3"
  },
  "language_info": {
   "codemirror_mode": {
    "name": "ipython",
    "version": 3
   },
   "file_extension": ".py",
   "mimetype": "text/x-python",
   "name": "python",
   "nbconvert_exporter": "python",
   "pygments_lexer": "ipython3",
   "version": "3.7.6"
  }
 },
 "nbformat": 4,
 "nbformat_minor": 4
}
