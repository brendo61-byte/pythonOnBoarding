{
 "cells": [
  {
   "cell_type": "markdown",
   "metadata": {},
   "source": [
    "# What you will learn\n",
    "- Use of mapping\n",
    "- When applicable to map a function"
   ]
  },
  {
   "cell_type": "markdown",
   "metadata": {},
   "source": [
    "### What is a map\n",
    "\n",
    "A map function returns a map object(which is an iterator) of the results after applying the given function to each item of a given iterable (list, tuple etc)\n",
    "\n",
    "... Let's see this in action"
   ]
  },
  {
   "cell_type": "code",
   "execution_count": 4,
   "metadata": {},
   "outputs": [
    {
     "name": "stdout",
     "output_type": "stream",
     "text": [
      "[1, 2, 3, 4, 5]\n",
      "<map object at 0x7f9b186b2fd0>\n"
     ]
    }
   ],
   "source": [
    "def add(n):\n",
    "    return n + n\n",
    "\n",
    "vals = [1, 2, 3, 4, 5]\n",
    "\n",
    "result = map(add, vals)\n",
    "\n",
    "print(vals)\n",
    "print(result)"
   ]
  },
  {
   "cell_type": "markdown",
   "metadata": {},
   "source": [
    "#### Note\n",
    "- the map function takes two arugments\n",
    "    - the function the map is being applied to\n",
    "    - the iteral object (in this case a list) that will be sent to the fucntion\n",
    "    \n",
    "- notice that result doesn't actually print the output we want? We have to cast it with list"
   ]
  },
  {
   "cell_type": "code",
   "execution_count": 3,
   "metadata": {},
   "outputs": [
    {
     "name": "stdout",
     "output_type": "stream",
     "text": [
      "[1, 2, 3, 4, 5]\n",
      "[2, 4, 6, 8, 10]\n"
     ]
    }
   ],
   "source": [
    "def add(n):\n",
    "    return n + n\n",
    "\n",
    "vals = [1, 2, 3, 4, 5]\n",
    "\n",
    "result = map(add, vals)\n",
    "\n",
    "print(vals)\n",
    "print(list(result))"
   ]
  },
  {
   "cell_type": "markdown",
   "metadata": {},
   "source": [
    "### Why?\n",
    "\n",
    "This is a nice way to clean up code and made it easier to read. If you can do more work in one line, then do it!\n",
    "\n",
    "Below is the equivlent code using a look... not as clean as above is it?"
   ]
  },
  {
   "cell_type": "code",
   "execution_count": 5,
   "metadata": {},
   "outputs": [
    {
     "name": "stdout",
     "output_type": "stream",
     "text": [
      "[1, 2, 3, 4, 5]\n",
      "[2, 4, 6, 8, 10]\n"
     ]
    }
   ],
   "source": [
    "def add(n):\n",
    "    return n + n\n",
    "\n",
    "vals = [1, 2, 3, 4, 5]\n",
    "\n",
    "result = []\n",
    "\n",
    "for val in vals:\n",
    "    result.append(add(val))\n",
    "\n",
    "print(vals)\n",
    "print(result)"
   ]
  },
  {
   "cell_type": "markdown",
   "metadata": {},
   "source": [
    "### When to use\n",
    "\n",
    "Maps are great when you have to apply an operation to an entire list (or anytype of iterable) without having to a loop"
   ]
  },
  {
   "cell_type": "markdown",
   "metadata": {},
   "source": [
    "# What you need to do\n",
    "\n",
    "- Below are two lists: make and model\n",
    "- Create a function that will combine two string inputs together and return the result\n",
    "- Use a map to call this function. Save the output to a varable called\n",
    "- Have a second function that will print the value of a string passed into it\n",
    "- Call this second fucntion used a map\n",
    "\n",
    "Exmaple output:\n",
    "Ford Mustang\n",
    "Honda CRV\n",
    "BMW i3\n",
    "..."
   ]
  },
  {
   "cell_type": "code",
   "execution_count": 6,
   "metadata": {},
   "outputs": [],
   "source": [
    "make = [\"Ford\", \"Honda\", \"BMW\", \"Tesla\", \"Chevy\"]\n",
    "model = \"Mustang\", \"CRV\", \"i3\", \"model S\", \"Silverado\""
   ]
  },
  {
   "cell_type": "code",
   "execution_count": null,
   "metadata": {},
   "outputs": [],
   "source": []
  }
 ],
 "metadata": {
  "kernelspec": {
   "display_name": "Python 3",
   "language": "python",
   "name": "python3"
  },
  "language_info": {
   "codemirror_mode": {
    "name": "ipython",
    "version": 3
   },
   "file_extension": ".py",
   "mimetype": "text/x-python",
   "name": "python",
   "nbconvert_exporter": "python",
   "pygments_lexer": "ipython3",
   "version": "3.7.3"
  }
 },
 "nbformat": 4,
 "nbformat_minor": 4
}
