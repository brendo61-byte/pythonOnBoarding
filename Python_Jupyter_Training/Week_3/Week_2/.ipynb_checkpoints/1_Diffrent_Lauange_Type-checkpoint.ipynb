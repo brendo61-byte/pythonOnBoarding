{
 "cells": [
  {
   "cell_type": "markdown",
   "metadata": {},
   "source": [
    "# What you will learn\n",
    "- Pros/Cons to Python\n",
    "- High Level Launages vs Low Level Lanuages\n",
    "- Pointers\n",
    "- Industry Applications of Python"
   ]
  },
  {
   "cell_type": "markdown",
   "metadata": {},
   "source": [
    "## Some pre-text\n",
    "\n",
    "Okay so at this point you have started to figure how the nuts and bolts of Python. We have shown you how to swing a hammer per say - but not how to build the bird house.\n",
    "\n",
    "Before moving forward let's take a step back and talk about programming as a bigger picture."
   ]
  },
  {
   "cell_type": "markdown",
   "metadata": {},
   "source": [
    "## Why Python\n",
    "\n",
    "Obviously there are ALOT of programming launages; and even more options about those launages. So I wanted to take a moment and ask the question \"Why should I learn Python\"?\n",
    "\n",
    "1) Easy to learn\n",
    "    - Don't beleive me? Try doing something in C. Or better yet grab an assembler and learn assembly!\n",
    "2) Easy to read \n",
    "    - I'll show some examples between diffrent lanauges to give you context on this\n",
    "3) Companies want people who know Python\n",
    "    - In pretty much any \"top 10 programs to be a software enginer list\" you can find Python in the top 5\n",
    "    - The growth of Python has solidified it as manjor player in software land\n",
    "\n",
    "Now all of that is creat and what not but to me the biggest benefit:\n",
    "    \n",
    "4) High levels of abstration\n",
    "    - Meaning you as a programmer don't deal with the 1's and 0's of to make your computer run\n",
    "    - You can focus on solving problems\n",
    "    \n",
    "I say this because the truth about programming is no one cares about it. Your boss will not care if it took 100,000 lines of code or 15 lines of code to make something work. What your boss or client cares about it getting a solution... chances are you in this same boat.\n",
    "\n",
    "That means the less work you have to do solving the mundane, the less time you spend reinventing the wheel, the more time you can spend solving the problems that matter."
   ]
  },
  {
   "cell_type": "markdown",
   "metadata": {},
   "source": [
    "## What is abstraction\n",
    "\n",
    "In software abstraction is the idea that you remove attributes that are not needed by the programmer such that they can focus on essental elements. In this way 'extra' complexity is hidden away freeing an engineer or user from underlying details.\n",
    "\n",
    "We can go really deep into how this shapes a vast major of asspects of computer applications but this is not a CS class so let's not go down the rabit hole.\n",
    "\n",
    "That being said I think it is important for you to understand a few things about computers that you don't ever think about (because of abstration)."
   ]
  },
  {
   "cell_type": "markdown",
   "metadata": {},
   "source": [
    "## Memory\n",
    "\n",
    "So a lot of abstraction in Python comes from how you handle memory. When you run a Python program a Python interpreter converts your Python code into machine code. Machine code is a sequence of 1's and 0's that tell your CPU what to do.\n",
    "\n",
    "On your computer when you start MATLAB it takes a few seconds to load. Why is that? Well, it's moving data from storage (a hard-drive) to memory (Random Access Memory (RAM)). Why? Well, Think of recalling your first bosses last name... That properly took a second to remember right? Now think again, what is your first bosses last name? That is because in your brain that information was moving from long term storage to short term memory. Likewise, your computer moves data from storage to memory because storage can read/write information 40x-200x times faster than storage.\n",
    "\n",
    "In memory, data is stored into what are called addresses. Think of this like the mailroom from the Dorms. Every mailbox has an address and every mailbox can hold some package. In a computer that package is a sequence of 64bits; so in each mailbox, there is a number that has 64 1's and 0's."
   ]
  },
  {
   "cell_type": "markdown",
   "metadata": {},
   "source": [
    "#### Let's say you have this code:\n",
    "A = 1\n",
    "B= 2\n",
    "C = A + B\n",
    "\n",
    "To your CPU you are letting it:\n",
    "\n",
    "- Store the value 1 into a holding mailbox R1\n",
    "- Store the value 2 into a holding mailbox R2\n",
    "- Load the memory location of A into a holding mailbox R3\n",
    "- Load the memory location of B into a holding mailbox R4\n",
    "- Open the mailbox at memory location R3 and store the value of R1 in it\n",
    "- Open the mailbox at memory location R4 and store the value of R2 in it\n",
    "- Open the mailbox at memory location A and load the value into a holding mailbox called R5\n",
    "- Open the mailbox at memory location B and load the value into a holding mailbox called R6\n",
    "- Add together the values that were stored in the mailboxes R5 and R6 and save the result to the holding mailbox R7\n",
    "- Store the memory location of C into a holding mailbox R8\n",
    "- Open the memory location of R8 and store the value of R7 in it"
   ]
  },
  {
   "cell_type": "markdown",
   "metadata": {},
   "source": [
    "#### This is the assembly code that actually would do (A=1; B=2; C=A+B):\n",
    "\n",
    "- A     EQU             0x400053F1 ; location of memory address A\n",
    "- B     EQU             0x400053F2 ; location of memory address B\n",
    "- B     EQU             0x400053F3 ; location of memory address C\n",
    "\n",
    "- MOV                R1, #1 ; store value 1 into a holding mailbox R1\n",
    "- MOV\t\tR2, #2; store value 2 into a holding mailbox R2\n",
    "\n",
    "- LDR\t\t\tR3,=A; load the value of memory address A\n",
    "- LDR\t\t\tR4,=B; load the value of memory address B\n",
    "\n",
    "- STR\t\t\tR1, [R3]; store the value of R1 (1) into memory location R3 (A)\n",
    "- STR\t\t\tR2, [R4]; store the value of R2 (2) into memory location R4\n",
    "\n",
    "- LDR\t\t\tR5, [R3]; load the value at memory location R3 into R5\n",
    "- LDR\t\t\tR6, [R4]; load the value at memory location R4 into R6\n",
    "\n",
    "- ADD\t\tR7, R5, R6; R7=R5 + R6\n",
    "\n",
    "- LDR\t\t\tR8,=C; load the value of memory address C into R8\n",
    "- STR\t\t\tR7, [R8]; store the value of R7 (3) into memory location  R8"
   ]
  },
  {
   "cell_type": "markdown",
   "metadata": {},
   "source": [
    "If this looks like it sucks that is because it does!\n",
    "\n",
    "The most difficult part of this knowing where things are in memory; i.e. having to \"point\" to memory locations.\n",
    "Now assembly is the lowest level of programming you can do before you write pure machine code. The only diffrence between assembly and machine code is that in machine code \"LDR\" or \"STR\" will turn into more 1's and 0's. Other low level programming languages, such as C still have to deal with points but it is not nearly this bad!\n",
    "\n",
    "The beauty of Python is that things like this are abstracted away. Varables are still pointers but they do not require the level of work you see above."
   ]
  },
  {
   "cell_type": "markdown",
   "metadata": {},
   "source": [
    "#### Note\n",
    "\n",
    "I do want to point out the points are not the only thing Python abstracts. We won't touch on them as they are rather spesfici and outside scope for this class."
   ]
  },
  {
   "cell_type": "markdown",
   "metadata": {},
   "source": [
    "## Industry Applications\n",
    "\n",
    "I want to just talk about a few applications and companies where Python can be of use\n",
    "\n",
    "### Companies\n",
    "- Instagram\n",
    "- Google\n",
    "- Spodify\n",
    "- Netflix\n",
    "- PayPal\n",
    "- YouTube\n",
    "- FaceBook\n",
    "- Reddit\n",
    "- NASA\n",
    "- CIA\n",
    "... just to name a few\n",
    "\n",
    "### Fields\n",
    "- Education\n",
    "- Neural Networks\n",
    "- Deep Learning\n",
    "- Number Crunching\n",
    "- Web Development\n",
    "- Network Enginerring\n",
    "- Internet of Things\n",
    "- Statistics\n",
    "- Desktop GUIs\n",
    "... just to name a few"
   ]
  },
  {
   "cell_type": "code",
   "execution_count": null,
   "metadata": {},
   "outputs": [],
   "source": []
  }
 ],
 "metadata": {
  "kernelspec": {
   "display_name": "Python 3",
   "language": "python",
   "name": "python3"
  },
  "language_info": {
   "codemirror_mode": {
    "name": "ipython",
    "version": 3
   },
   "file_extension": ".py",
   "mimetype": "text/x-python",
   "name": "python",
   "nbconvert_exporter": "python",
   "pygments_lexer": "ipython3",
   "version": "3.7.3"
  }
 },
 "nbformat": 4,
 "nbformat_minor": 4
}
