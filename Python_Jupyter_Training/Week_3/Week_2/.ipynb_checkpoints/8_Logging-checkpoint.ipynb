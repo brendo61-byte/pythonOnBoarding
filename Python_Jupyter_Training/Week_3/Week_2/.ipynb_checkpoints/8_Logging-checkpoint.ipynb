{
 "cells": [
  {
   "cell_type": "markdown",
   "metadata": {},
   "source": [
    "# What you will learn\n",
    "- What are log files\n",
    "- Logging levels\n",
    "- How to log / log confiurations"
   ]
  },
  {
   "cell_type": "markdown",
   "metadata": {},
   "source": [
    "## What are log files\n",
    "\n",
    "Before we had a bunch of exceptions to handle errors in our code. So let's say we have a sensor platform reading in\n",
    "values and it catches an error - then what? Well the program didn't behave as we expected so that's a problem. So the\n",
    "best course of action is to then record the error so we can look at it latter. Right now all we do is print statements\n",
    "but soon we will need to log them in a real deployment situation. This is because we won't be there to read the prints but we need to be able to back and check on the program later."
   ]
  },
  {
   "cell_type": "markdown",
   "metadata": {},
   "source": [
    "Now I did just lie to you. You don't ONLY use logging for when an error occurs. That is just a use case. You can log\n",
    "anything you want! Did the program start correctly? Log that. Did the program start and then crash? Log that. Was there\n",
    "an error? Yea, log that too! Logging is so that you as a software engineer can go back though the log files and determine\n",
    "exactly what the program was doing."
   ]
  },
  {
   "cell_type": "markdown",
   "metadata": {},
   "source": [
    "## Log levels\n",
    "There are several levels of logging. Each means it is a more serious thing. \n",
    "\n",
    "The levels, in order of severity, are:\n",
    "- DEBUG\n",
    "    - Detailed information, typically of interest only when diagnosing problems\n",
    "- INFO\n",
    "    - Confirmation that things are working as expected\n",
    "- WARNING\n",
    "    - An indication that something unexpected happened, or indicative of some problem in the near future (e.g. ‘disk space low’). The software is still working as expected.\n",
    "- ERROR\n",
    "    - Due to a more serious problem, the software has not been able to perform some function.\n",
    "- CRITICAL\n",
    "    - A serious error, indicating that the program itself may be unable to continue running."
   ]
  },
  {
   "cell_type": "markdown",
   "metadata": {},
   "source": [
    "## How to log"
   ]
  },
  {
   "cell_type": "code",
   "execution_count": 7,
   "metadata": {},
   "outputs": [],
   "source": [
    "import logging\n",
    "\n",
    "# here we set up the log config\n",
    "# The level says \"catch everything that is at this log level or higher\"\n",
    "# This is nice so when developing you can include all debug level logs\n",
    "# Then move to log only info and higher later on\n",
    "logging.basicConfig(level=\"DEBUG\", filename='program.log', filemode='w', format='%(asctime)s - %(levelname)s - %(message)s')\n",
    "\n",
    "logging.debug(\"This is a debug level log\")\n",
    "logging.info(\"This is a info level log\")\n",
    "logging.warning(\"This is a warning level log\")\n",
    "logging.critical(\"This is a critical level log\")"
   ]
  },
  {
   "cell_type": "markdown",
   "metadata": {},
   "source": [
    "#### Note\n",
    "- Go back to the week 2 folder and you will see a new file called \"program.log\"\n",
    "- Open it and check it out"
   ]
  },
  {
   "cell_type": "markdown",
   "metadata": {},
   "source": [
    "#### Note\n",
    "- You can change the name of the log file by ajusteding the filename= param\n",
    "- There are two filemodes I would use for logging (for right now)\n",
    "    - \"a\"\n",
    "        - append\n",
    "            - good for when you want to add to a log file\n",
    "            - will not create a new file, just add to an existing one\n",
    "        \n",
    "    - \"w\"\n",
    "        - write \n",
    "            - this will overwrite anything that is in the logfile. So any old logs will be erased\n",
    "            - will create a new file if one does not alrady exist"
   ]
  },
  {
   "cell_type": "markdown",
   "metadata": {},
   "source": [
    "## Use case example"
   ]
  },
  {
   "cell_type": "code",
   "execution_count": 8,
   "metadata": {},
   "outputs": [],
   "source": [
    "import random\n",
    "import time\n",
    "import logging\n",
    "\n",
    "logging.basicConfig(level=\"DEBUG\", filename='program.log', filemode='w', format='%(asctime)s - %(levelname)s - %(message)s')\n",
    "\n",
    "\n",
    "\n",
    "def randomNum():\n",
    "    x = random.random()\n",
    "    \n",
    "    if x > 0.25:\n",
    "        return random.randint(0, 5)\n",
    "    else:\n",
    "        return None\n",
    "\n",
    "\n",
    "def divider():\n",
    "    for i in range(100):\n",
    "        try:\n",
    "            maths = randomNum() / randomNum()\n",
    "            logging.debug(f\"Math result: {maths}\")\n",
    "        except Exception as e:\n",
    "            logging.warning(f\"An exception as been raised: {e}\")\n",
    "\n",
    "        time.sleep(0.1)\n",
    "\n",
    "\n",
    "if __name__ == \"__main__\":\n",
    "    logging.info(\"Program starting\")\n",
    "    divider()\n"
   ]
  },
  {
   "cell_type": "markdown",
   "metadata": {},
   "source": [
    "# What you need to do:\n",
    "- Rewrite the program from module 7 using logging. Log when are where you think it's important"
   ]
  }
 ],
 "metadata": {
  "kernelspec": {
   "display_name": "Python 3",
   "language": "python",
   "name": "python3"
  },
  "language_info": {
   "codemirror_mode": {
    "name": "ipython",
    "version": 3
   },
   "file_extension": ".py",
   "mimetype": "text/x-python",
   "name": "python",
   "nbconvert_exporter": "python",
   "pygments_lexer": "ipython3",
   "version": "3.7.3"
  }
 },
 "nbformat": 4,
 "nbformat_minor": 4
}
