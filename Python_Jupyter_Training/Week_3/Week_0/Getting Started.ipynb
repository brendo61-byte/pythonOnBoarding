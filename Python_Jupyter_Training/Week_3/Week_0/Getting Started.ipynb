{
 "cells": [
  {
   "cell_type": "markdown",
   "metadata": {},
   "source": [
    "# Getting Started\n",
    "\n",
    "You will need to install a few things on your computer to begin this class\n",
    "- Python\n",
    "- PyCharm\n",
    "\n",
    "If you have a Mac or Windows machine we'll walk you though the install and setup steps. If you have a linux machine you should already know what you're doing :)"
   ]
  },
  {
   "cell_type": "markdown",
   "metadata": {},
   "source": [
    "## Step 1: Install Python\n",
    "To use the Python lauange the Python interprestor must be installed. As of now the latest version of Python is 3.8 so we will use that\n",
    "\n",
    "Go to this link: https://www.python.org/downloads/release/python-381/\n",
    "\n",
    "At the bottom are the downloads for the Python installer\n",
    "\n",
    "##### Windows Computers:\n",
    "- Click the file called \"Windows x86-64 executable installer\"\n",
    "\n",
    "##### Mac Computers:\n",
    "- Click the file called \"macOS 64-bit installer\"\n",
    "\n",
    "Download the installer, launch, and follow install-wizard instuctions. \n",
    "\n",
    "#### During Install\n",
    "- Choose the \"Install now\" option on the wizard.\n",
    "- On this same window check the box that says \"Add Python 3.8 to PATH\""
   ]
  },
  {
   "cell_type": "markdown",
   "metadata": {},
   "source": [
    "## Step 2: PyCharm\n",
    "Pycharm is an Integrated development environment (IDE) that words greate for Python. Think of it as a word editor spesifcally for Python. As you grow and use more programming tools you notice that PyCharm has support for these advanced tools.\n",
    "\n",
    "##### Windows Computers:\n",
    "- Go to this link: https://www.jetbrains.com/pycharm/download/#section=windows\n",
    "\n",
    "##### Mac Computers:\n",
    "- Go to this link: https://www.jetbrains.com/pycharm/download/#section=mac\n",
    "\n",
    "Download the free community version. Follow the install wizard instuctions.\n",
    "\n",
    "#### During Install\n",
    "- There will be an \"Installation Options\" window that pops up\n",
    "- Under \"Create Assoctions\" check the box next to \".py\"\n",
    "- Recommened: Under \"Create Desktop Shortcut\" check the box next to \"64-bit lancher\""
   ]
  },
  {
   "cell_type": "markdown",
   "metadata": {},
   "source": [
    "## Step 3: PyCharm Setup\n",
    "Any text editor can \"write\" code. If you just make a file ending in .py and add Python code then that is a valid python file. PyCharm and other IDEs are create because they are tools to help you write and run code all within the same program.\n",
    "\n",
    "##### What are we doing with setup?\n",
    "- Creating a new project\n",
    "- Adding files to this project\n",
    "\n",
    "#### New Project\n",
    "- Open PyCharm. If it is the first time opening PyCharm it will ask about user interface (UI) themes and featured plugins. Choose whatever theme you like and don't add any plugins.\n",
    "- Click \"create New Project\"\n",
    "- The project name will default to \"untitled\". Change this to \"PythonTraining\"\n",
    "- Click \"create\"\n",
    "\n",
    "### Adding files\n",
    "- On the top left cornor of the screen click file\n",
    "- new ...\n",
    "- Python File\n",
    "- name it \"1_Hello_World\""
   ]
  }
 ],
 "metadata": {
  "kernelspec": {
   "display_name": "Python 3",
   "language": "python",
   "name": "python3"
  },
  "language_info": {
   "codemirror_mode": {
    "name": "ipython",
    "version": 3
   },
   "file_extension": ".py",
   "mimetype": "text/x-python",
   "name": "python",
   "nbconvert_exporter": "python",
   "pygments_lexer": "ipython3",
   "version": "3.7.6"
  }
 },
 "nbformat": 4,
 "nbformat_minor": 4
}
