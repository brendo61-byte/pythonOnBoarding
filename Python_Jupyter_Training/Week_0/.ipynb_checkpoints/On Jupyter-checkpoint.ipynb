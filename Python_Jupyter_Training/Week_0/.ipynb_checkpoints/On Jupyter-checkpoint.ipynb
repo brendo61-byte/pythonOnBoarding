{
 "cells": [
  {
   "cell_type": "markdown",
   "metadata": {},
   "source": [
    "# What is Jupyter\n",
    "Jupyter is an open-source web application that allows you to create and share documents that contain live code, equations, visualizations and narrative text\n",
    "\n",
    "In short it's a create way to share interative code examples that you can play with in real time."
   ]
  },
  {
   "cell_type": "markdown",
   "metadata": {},
   "source": [
    "## A Quick Walkthough\n",
    "You are encouraged to adjust any code examples you see. The only way to get good at programming is to write and read code.\n",
    "\n",
    "While all students will have the same files to start with only you will see changes you make so feel free to code as you please!\n",
    "\n",
    "### Each \"block of stuff\" is a cell. We'll use cells of markdown and Python types.\n",
    "- Markdown is a way of formatting text\n",
    "- If you double click this cell you'll see the text change.\n",
    "- Python cells can run Python code\n",
    "\n",
    "### Run a cell\n",
    "- If you change a cell and want to see it run click the \"run\" button on the tool bar above.\n",
    "\n",
    "### New Cell\n",
    "- To add a new cell click the \"+\" icon on the tool bar\n",
    "- If you'd like to move where that cell is then select the cell and move it via the up and down arrows on the tool bar\n",
    "\n",
    "### Change Cell Type\n",
    "- To change a cell type click \"cell\" -> \"cellType\"\n",
    "\n",
    "### Save Changes\n",
    "- There is floppy-disk looking icon on the far left of the toolbar. Click it to save.\n",
    "- At the top of this page you'll see something saying \"Last Cehckpoint\" this is the last time you saved\n",
    "- Next to this it will also display if there are unsaved changes"
   ]
  },
  {
   "cell_type": "markdown",
   "metadata": {},
   "source": [
    "# IMPORTANT\n",
    "\n",
    "## Teaching, not coding\n",
    "- Jupyter is create as a learning tool and to allow quick hands on accecess to play with code examples\n",
    "- Jupyter IS NOT a good tool for writting programs. Again it is a leaning tool to share information.\n",
    "- For any assessment please use PyCharm\n",
    "\n",
    "## Saves might go away\n",
    "- Right now we are working on a way to auto-add content to studnets notebooks (all the files you can see)\n",
    "- We don't have a clean way of doing that so the server the runs the notebooks for everyone will have to restart to add new content\n",
    "- When restarts happen any saves you've made will disappear - and revert back to the \"master copy\"\n",
    "- If you wish to hold onto some code or an example you altered please copy and paste it into a file in PyCharm"
   ]
  },
  {
   "cell_type": "code",
   "execution_count": null,
   "metadata": {},
   "outputs": [],
   "source": []
  }
 ],
 "metadata": {
  "kernelspec": {
   "display_name": "Python 3",
   "language": "python",
   "name": "python3"
  },
  "language_info": {
   "codemirror_mode": {
    "name": "ipython",
    "version": 3
   },
   "file_extension": ".py",
   "mimetype": "text/x-python",
   "name": "python",
   "nbconvert_exporter": "python",
   "pygments_lexer": "ipython3",
   "version": "3.7.6"
  }
 },
 "nbformat": 4,
 "nbformat_minor": 4
}
